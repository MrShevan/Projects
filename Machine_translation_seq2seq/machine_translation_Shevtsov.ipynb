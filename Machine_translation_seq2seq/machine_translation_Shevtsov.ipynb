{
 "cells": [
  {
   "cell_type": "code",
   "execution_count": 16,
   "metadata": {},
   "outputs": [],
   "source": [
    "import tensorflow as tf\n",
    "from data_prepare import prepareData, Lang\n",
    "from tensorflow.keras.preprocessing.sequence import pad_sequences\n",
    "from tqdm import tqdm_notebook\n",
    "\n",
    "tf.enable_eager_execution()"
   ]
  },
  {
   "cell_type": "code",
   "execution_count": 17,
   "metadata": {},
   "outputs": [],
   "source": [
    "import random\n",
    "import numpy as np"
   ]
  },
  {
   "cell_type": "markdown",
   "metadata": {},
   "source": [
    "В качестве датасета возьмем корпус пар, состящих из фраз на английском и французском языках взятых с https://www.manythings.org/anki/\n",
    "\n",
    "Функции для предобработки датасета находятся в data_prepare.py в директории с этим ноутбуком"
   ]
  },
  {
   "cell_type": "code",
   "execution_count": 21,
   "metadata": {},
   "outputs": [],
   "source": [
    "MAX_LENGTH = 10\n",
    "\n",
    "eng_prefixes = (\n",
    "    \"i am \", \"i m \",\n",
    "    \"he is\", \"he s \",\n",
    "    \"she is\", \"she s\",\n",
    "    \"you are\", \"you re \",\n",
    "    \"we are\", \"we re \",\n",
    "    \"they are\", \"they re \"\n",
    ")"
   ]
  },
  {
   "cell_type": "code",
   "execution_count": 22,
   "metadata": {},
   "outputs": [
    {
     "name": "stdout",
     "output_type": "stream",
     "text": [
      "Reading lines...\n",
      "Read 135842 sentence pairs\n",
      "Trimmed to 10853 sentence pairs\n",
      "Counting words...\n",
      "Counted words:\n",
      "fra 4490\n",
      "eng 2926\n",
      "['je suis conscient de mes responsabilites .', 'i m aware of my responsibilities .']\n"
     ]
    }
   ],
   "source": [
    "input_lang, output_lang, pairs = prepareData('eng', 'fra', True)\n",
    "print(repr(random.choice(pairs)))"
   ]
  },
  {
   "cell_type": "code",
   "execution_count": 23,
   "metadata": {},
   "outputs": [
    {
     "name": "stdout",
     "output_type": "stream",
     "text": [
      "input lang - fra\n",
      "output lang - eng\n"
     ]
    }
   ],
   "source": [
    "print('input lang - %s' % input_lang.name)\n",
    "print('output lang - %s' % output_lang.name)"
   ]
  },
  {
   "cell_type": "markdown",
   "metadata": {},
   "source": [
    "$\\textbf{Preparing Training Data}$"
   ]
  },
  {
   "cell_type": "markdown",
   "metadata": {},
   "source": [
    "Преобразуем датсет с оригинальными строками на французском и их переводом на английский в пары из тензоров.\n",
    "\n",
    "Единственное на чем здесь можно акцентировать внимание это то, что я немного изменил функции из туториала так, чтобы можно было сделать батчи с `фиксированными` длинами строк, благодаря функции `pad_sequences` строки с длиной меньше чем фиксированный размер будут дополняться специальным токеном `UNDEF_token='_'`, а строки большей длины будут обрезаться."
   ]
  },
  {
   "cell_type": "code",
   "execution_count": 25,
   "metadata": {},
   "outputs": [],
   "source": [
    "SOS_token = 1\n",
    "EOS_token = 2\n",
    "UNDEF_token = 0\n",
    "MAX_LENGTH = 10\n",
    "\n",
    "\n",
    "def indexesFromSentence(lang, sentence):\n",
    "    return [lang.word2index[word] for word in sentence.split(' ')]\n",
    "\n",
    "\n",
    "def tensorFromSentence(lang, sentence):\n",
    "    indexes = indexesFromSentence(lang, sentence)\n",
    "    indexes.append(EOS_token)\n",
    "    indexes = pad_sequences([indexes], maxlen=MAX_LENGTH, value=0, padding='post')\n",
    "    return tf.constant(indexes[0], dtype=tf.int64)\n",
    "\n",
    "\n",
    "def tensorsFromPair(pair):\n",
    "    input_tensor = tensorFromSentence(input_lang, pair[0])\n",
    "    target_tensor = tensorFromSentence(output_lang, pair[1])\n",
    "    return (input_tensor, target_tensor)"
   ]
  },
  {
   "cell_type": "markdown",
   "metadata": {},
   "source": [
    "$\\textbf{Making dataset with tf.Data}$"
   ]
  },
  {
   "cell_type": "code",
   "execution_count": 184,
   "metadata": {},
   "outputs": [],
   "source": [
    "BATCH_SIZE = 100\n",
    "\n",
    "# Получим датасет из батчей по которому будем итерироваться в процессе обучения\n",
    "# опция drop_remainder нужна для того чтобы выкинуть последний батч в датасете\n",
    "#\n",
    "# Каждый батч состоит из пар последовательностей индексов для словарей которые подаем \n",
    "# на вход и на выход\n",
    "\n",
    "tf_pairs = list(map(tensorsFromPair, pairs))\n",
    "dataset = tf.data.Dataset.from_tensor_slices(tf_pairs)\\\n",
    "                         .shuffle(1000)\\\n",
    "                         .batch(BATCH_SIZE, drop_remainder=True)"
   ]
  },
  {
   "cell_type": "code",
   "execution_count": 185,
   "metadata": {},
   "outputs": [
    {
     "name": "stdout",
     "output_type": "stream",
     "text": [
      "tf.Tensor(\n",
      "[[[  7  28  83 ...   0   0   0]\n",
      "  [  3   4  58 ...   0   0   0]]\n",
      "\n",
      " [[  7  12 298 ...   0   0   0]\n",
      "  [  3  17 184 ...   0   0   0]]\n",
      "\n",
      " [[  7  12 183 ...   0   0   0]\n",
      "  [  3   4 117 ...   0   0   0]]\n",
      "\n",
      " ...\n",
      "\n",
      " [[  7  12 448 ...   0   0   0]\n",
      "  [  3   4 259 ...   0   0   0]]\n",
      "\n",
      " [[  3   4 455 ...   2   0   0]\n",
      "  [  3   4 266 ...   0   0   0]]\n",
      "\n",
      " [[  7  12 305 ...   0   0   0]\n",
      "  [  3   4 191 ...   0   0   0]]], shape=(100, 2, 10), dtype=int64)\n",
      "tf.Tensor(\n",
      "[[[  7 299  12 ...   2   0   0]\n",
      "  [  3   4 185 ...   0   0   0]]\n",
      "\n",
      " [[  7  12 115 ...   0   0   0]\n",
      "  [  3   4  74 ...   0   0   0]]\n",
      "\n",
      " [[  7  12 313 ...   0   0   0]\n",
      "  [  3   4 197 ...   0   0   0]]\n",
      "\n",
      " ...\n",
      "\n",
      " [[  7 299 496 ...   2   0   0]\n",
      "  [  3   4 289 ...   0   0   0]]\n",
      "\n",
      " [[124 127 578 ...   0   0   0]\n",
      "  [ 78  79 112 ...   0   0   0]]\n",
      "\n",
      " [[124 127 804 ...   0   0   0]\n",
      "  [ 78  79 196 ...   0   0   0]]], shape=(100, 2, 10), dtype=int64)\n"
     ]
    }
   ],
   "source": [
    "for i in dataset.take(2):\n",
    "    print(i)"
   ]
  },
  {
   "cell_type": "markdown",
   "metadata": {},
   "source": [
    " "
   ]
  },
  {
   "cell_type": "markdown",
   "metadata": {},
   "source": [
    "$\\textbf{Model Construction}$"
   ]
  },
  {
   "cell_type": "markdown",
   "metadata": {},
   "source": [
    "    class EncoderRNN()---+\n",
    "                         |\n",
    "                         |           \n",
    "                         +---+--->  class Seq2seqModel()\n",
    "                             |\n",
    "                             |\n",
    "    class DecoderRNN(object)-+\n"
   ]
  },
  {
   "cell_type": "code",
   "execution_count": 145,
   "metadata": {},
   "outputs": [],
   "source": [
    "class EncoderRNN(object):\n",
    "    def __init__(self, hidden_size, embedding_size, vocab_size, batch_size):\n",
    "        self.hidden_size = hidden_size\n",
    "        self.embedding_size = embedding_size\n",
    "        self.vocab_size = vocab_size\n",
    "        self.batch_size = batch_size\n",
    "        \n",
    "        self.EmbeddingMTX = tf.get_variable('embedding_matrix',\n",
    "                                            shape=[vocab_size, embedding_size],\n",
    "                                            dtype=tf.float32)\n",
    "        self.LSTM = tf.nn.rnn_cell.LSTMCell(num_units=self.hidden_size)\n",
    "    \n",
    "\n",
    "    def forward(self, input_tensor, emb_matrix=None):\n",
    "        # use single embedding matrix for Encoder and Decoder\n",
    "        if not emb_matrix:\n",
    "            emb_matrix = self.EmbeddingMTX\n",
    "        \n",
    "        # zero hidden state fot LSTM\n",
    "        initial_state = self.LSTM.zero_state(self.batch_size, \n",
    "                                             dtype=tf.float32)\n",
    "        \n",
    "        # to Embedding matrix: [batch_size, len of sequence of words(inds)]\n",
    "        embedded = tf.nn.embedding_lookup(emb_matrix, input_tensor)\n",
    "        \n",
    "        # to dynamic LSTM: [batch_size, timestamp(len of sequence of inds), embedding_size]\n",
    "        output, state = tf.nn.dynamic_rnn(self.LSTM, \n",
    "                                          inputs=embedded, \n",
    "                                          initial_state=initial_state,\n",
    "                                          dtype=tf.float32)\n",
    "        return output, state\n"
   ]
  },
  {
   "cell_type": "markdown",
   "metadata": {},
   "source": [
    " "
   ]
  },
  {
   "cell_type": "markdown",
   "metadata": {},
   "source": [
    " "
   ]
  },
  {
   "cell_type": "code",
   "execution_count": 146,
   "metadata": {},
   "outputs": [],
   "source": [
    "class DecoderRNN(object):\n",
    "    def __init__(self, batch_size, word2index, index2word, len_of_prediction, hidden_size, embedding_size):\n",
    "        self.word2index = word2index\n",
    "        self.index2word = index2word\n",
    "        self.len_of_prediction = len_of_prediction\n",
    "        self.hidden_size = hidden_size\n",
    "        self.batch_size = batch_size\n",
    "\n",
    "        self.EmbeddingMTX = tf.get_variable('embedding_matrix',\n",
    "                                            shape=[len(self.index2word), embedding_size],\n",
    "                                            dtype=tf.float32)\n",
    "        \n",
    "        self.LSTM = tf.nn.rnn_cell.LSTMCell(num_units=self.hidden_size)\n",
    "        self.word_predictor = tf.layers.Dense(len(self.index2word),\n",
    "                                                 activation=None)\n",
    "    \n",
    "    \n",
    "    def forward(self, sos = 'SOS', state=None, emb_matrix=None):\n",
    "        # use single embedding matrix for Encoder and Decoder\n",
    "        if not emb_matrix:\n",
    "            emb_matrix = self.EmbeddingMTX\n",
    "        \n",
    "        if not state:\n",
    "            state = self.LSTM.zero_state(self.batch_size, dtype=tf.float32)\n",
    "        \n",
    "        # sos - indx of <SOS>\n",
    "        ind = 1 # self.word2index[sos]\n",
    "        output = tf.convert_to_tensor([[ind] for i in range(self.batch_size)],\n",
    "                                      dtype=tf.int32)\n",
    "        \n",
    "        # words_predicted, words_logits = [], []\n",
    "        words_logits, outputs = [], []\n",
    "\n",
    "        for step in range(self.len_of_prediction):\n",
    "            embedded = tf.nn.embedding_lookup(emb_matrix, output)[:,0,:]\n",
    "            \n",
    "            # to LSTM\n",
    "            output, state = self.LSTM(embedded, state)\n",
    "            outputs.append(output)\n",
    "            \n",
    "            # to Dense layer: [batch_size, hidden_size]\n",
    "            # from Dense layer: [batch_size, vocabulary_size]\n",
    "            logits = self.word_predictor(output)\n",
    "            logits = tf.nn.softmax(logits)\n",
    "            words_logits.append(logits)\n",
    "            \n",
    "            pred_word = tf.argmax(logits, 1).numpy()\n",
    "            output = tf.reshape(pred_word, [self.batch_size, 1])\n",
    "        \n",
    "        # from [len_of_prediction, batch_size]\n",
    "        # to [batch_size, len_of_prediction]\n",
    "        words_logits = tf.stack(words_logits, axis=1)\n",
    "        \n",
    "        # from [timestamp, batch_size, hidden_size]\n",
    "        # to [batch_size, timestamp, hidden_size]\n",
    "        outputs = tf.stack(outputs, 1)\n",
    "        \n",
    "        return outputs, words_logits\n",
    "    "
   ]
  },
  {
   "cell_type": "markdown",
   "metadata": {},
   "source": [
    " "
   ]
  },
  {
   "cell_type": "markdown",
   "metadata": {},
   "source": [
    " "
   ]
  },
  {
   "cell_type": "markdown",
   "metadata": {},
   "source": [
    " "
   ]
  },
  {
   "cell_type": "code",
   "execution_count": 152,
   "metadata": {},
   "outputs": [],
   "source": [
    "# Это немного костыльненько, но просто хотелось бы передать датасетик чтобы понимать как модель ведет себя \n",
    "# на данных из датасета в процессе обучения\n",
    "\n",
    "input_test = ['je suis gros .', \n",
    "              'c est un scientifique .', \n",
    "              'nous sommes amies .', \n",
    "              'je suis en train de conduire .', \n",
    "              'tu as presque raison .']\n",
    "output_test = ['i m fat .', \n",
    "               'he is a scientist .',\n",
    "               'we re friends .', \n",
    "               'i m driving .',\n",
    "               'you re about right .']"
   ]
  },
  {
   "cell_type": "markdown",
   "metadata": {},
   "source": [
    " "
   ]
  },
  {
   "cell_type": "markdown",
   "metadata": {},
   "source": [
    " "
   ]
  },
  {
   "cell_type": "code",
   "execution_count": 156,
   "metadata": {},
   "outputs": [],
   "source": [
    "class Seq2seqModel(object):\n",
    "    def __init__(self, input_lang, output_lang, batch_size, hidden_size, \n",
    "                 len_of_prediction, embedding_size):\n",
    "        self.batch_size = batch_size\n",
    "        self.hidden_size = hidden_size\n",
    "        self.input_lang = input_lang\n",
    "        self.output_lang = output_lang\n",
    "        self.embedding_size = embedding_size\n",
    "        self.len_of_prediction = len_of_prediction\n",
    "        \n",
    "        self.init_encoder = {\n",
    "            'hidden_size' : self.hidden_size,\n",
    "            'embedding_size' : self.embedding_size,\n",
    "            'vocab_size' : self.input_lang.n_words,\n",
    "            'batch_size' : self.batch_size\n",
    "        }\n",
    "        self.init_decoder = {\n",
    "            'batch_size' : self.batch_size,\n",
    "            'word2index' : self.output_lang.word2index,\n",
    "            'index2word' : self.output_lang.index2word,\n",
    "            'len_of_prediction' : self.len_of_prediction,\n",
    "            'hidden_size' : self.hidden_size,\n",
    "            'embedding_size' : self.embedding_size\n",
    "        }\n",
    "        self.encoder = EncoderRNN(**self.init_encoder)\n",
    "        self.decoder = DecoderRNN(**self.init_decoder)\n",
    "    \n",
    "    def train(self, dataset, epochs=300):\n",
    "        optimizer = tf.train.AdamOptimizer()\n",
    "        \n",
    "        for epoch in range(epochs):\n",
    "            print('================================')\n",
    "            print('Epoch: {}'.format(epoch))\n",
    "            losses = []\n",
    "            for j, item in enumerate(tqdm_notebook(dataset, total=(10853 // BATCH_SIZE))):\n",
    "                X_batch, Y_batch = tf.unstack(item, axis = 1)\n",
    "                loss = self._get_loss(X_batch, Y_batch)\n",
    "                optimizer.minimize(lambda: self._get_loss(X_batch, Y_batch))\n",
    "                losses.append(loss)\n",
    "                \n",
    "                if j % 30 == 0:\n",
    "                    print('Loss {}'.format(loss.numpy()))\n",
    "    \n",
    "            if epoch % 1 == 0:\n",
    "                print('========================')\n",
    "                print('Loss per epoch: {}'.format(np.mean(losses)))\n",
    "                print('Example:\\n')\n",
    "                for j, i in enumerate(input_test):\n",
    "                    print('> %s\\n= %s\\n< %s\\n\\n' % (i, self.predict_by_phrase(i), output_test[j]))\n",
    "\n",
    "    def _get_loss(self, X_batch, Y_batch):\n",
    "        _, state = self.encoder.forward(X_batch)\n",
    "        out, pred = self.decoder.forward(state=state)\n",
    "        target = tf.one_hot(Y_batch, depth=self.output_lang.n_words)\n",
    "\n",
    "        # Loss computing:\n",
    "        cross_entropy = target*tf.log(tf.clip_by_value(pred, 1e-10, 1))\n",
    "        cost_sum = -tf.reduce_sum(cross_entropy)\n",
    "\n",
    "        m = cross_entropy.numpy()\n",
    "        N = m.shape[0] * m.shape[1]\n",
    "        \n",
    "        cost_sum /= N\n",
    "        return cost_sum\n",
    "    \n",
    "    def _tensorFromSentence(self, sentence):\n",
    "        indexes = [self.input_lang.word2index[word] for word in sentence.split(' ')]\n",
    "        indexes.append(2) # end of file\n",
    "        indexes = pad_sequences([indexes for _ in range(self.batch_size)], \n",
    "                                maxlen=MAX_LENGTH, value=0, padding='post')\n",
    "        return tf.constant(indexes, dtype=tf.int64)\n",
    "        \n",
    "    def predict_by_phrase(self, sentence='elle est tranquille .'):\n",
    "        input_tensor = self._tensorFromSentence(sentence)\n",
    "\n",
    "        _, state = self.encoder.forward(input_tensor)\n",
    "        out, pred = self.decoder.forward(state=state)\n",
    "\n",
    "        pred_indexes = tf.argmax(pred, 2).numpy()[0]\n",
    "        return ' '.join([self.output_lang.index2word[word] for word in pred_indexes])\n"
   ]
  },
  {
   "cell_type": "markdown",
   "metadata": {},
   "source": [
    "  "
   ]
  },
  {
   "cell_type": "markdown",
   "metadata": {},
   "source": [
    " "
   ]
  },
  {
   "cell_type": "markdown",
   "metadata": {},
   "source": [
    "Проинициализируем модель передав ей все параметры:"
   ]
  },
  {
   "cell_type": "code",
   "execution_count": 158,
   "metadata": {},
   "outputs": [],
   "source": [
    "seq2seq = Seq2seqModel(input_lang, output_lang, batch_size=BATCH_SIZE, hidden_size=512, \n",
    "                       len_of_prediction=MAX_LENGTH, embedding_size=300)\n"
   ]
  },
  {
   "cell_type": "markdown",
   "metadata": {},
   "source": [
    "Теперь обучим проинициализированную модель на подготовленном датасете вызвав метод train.\n",
    "Все результаты внизу после обучения."
   ]
  },
  {
   "cell_type": "code",
   "execution_count": 170,
   "metadata": {
    "scrolled": false
   },
   "outputs": [
    {
     "name": "stdout",
     "output_type": "stream",
     "text": [
      "================================\n",
      "Epoch: 0\n"
     ]
    },
    {
     "data": {
      "application/vnd.jupyter.widget-view+json": {
       "model_id": "06bee21c00924bdb97123055d6df74d9",
       "version_major": 2,
       "version_minor": 0
      },
      "text/plain": [
       "HBox(children=(IntProgress(value=0, max=108), HTML(value='')))"
      ]
     },
     "metadata": {},
     "output_type": "display_data"
    },
    {
     "name": "stdout",
     "output_type": "stream",
     "text": [
      "Loss 6.312170028686523\n",
      "Loss 2.1998608112335205\n",
      "Loss 2.626636028289795\n",
      "Loss 3.5726735591888428\n",
      "========================\n",
      "Loss per epoch: 2.854418992996216\n",
      "Example:\n",
      "\n",
      "> je suis gros .\n",
      "= i m not to to to . . EOS _\n",
      "< i m fat .\n",
      "\n",
      "\n",
      "> c est un scientifique .\n",
      "= i m not to to . . . EOS _\n",
      "< he is a scientist .\n",
      "\n",
      "\n",
      "> nous sommes amies .\n",
      "= i m not to to . . . EOS _\n",
      "< we re friends .\n",
      "\n",
      "\n",
      "> je suis en train de conduire .\n",
      "= i m not to to to . . EOS _\n",
      "< i m driving .\n",
      "\n",
      "\n",
      "> tu as presque raison .\n",
      "= i m not to to . . . EOS _\n",
      "< you re about right .\n",
      "\n",
      "\n",
      "================================\n",
      "Epoch: 1\n"
     ]
    },
    {
     "data": {
      "application/vnd.jupyter.widget-view+json": {
       "model_id": "8b3e6b188d8948a1bef60b98f1e35e1a",
       "version_major": 2,
       "version_minor": 0
      },
      "text/plain": [
       "HBox(children=(IntProgress(value=0, max=108), HTML(value='')))"
      ]
     },
     "metadata": {},
     "output_type": "display_data"
    },
    {
     "name": "stdout",
     "output_type": "stream",
     "text": [
      "Loss 4.0309953689575195\n",
      "Loss 1.8843371868133545\n",
      "Loss 2.4437544345855713\n",
      "Loss 3.3427300453186035\n",
      "========================\n",
      "Loss per epoch: 2.559222459793091\n",
      "Example:\n",
      "\n",
      "> je suis gros .\n",
      "= i m not to to the . . EOS _\n",
      "< i m fat .\n",
      "\n",
      "\n",
      "> c est un scientifique .\n",
      "= i m not to the . . . EOS _\n",
      "< he is a scientist .\n",
      "\n",
      "\n",
      "> nous sommes amies .\n",
      "= i m not to the . . EOS _ _\n",
      "< we re friends .\n",
      "\n",
      "\n",
      "> je suis en train de conduire .\n",
      "= i m not to to the . . EOS _\n",
      "< i m driving .\n",
      "\n",
      "\n",
      "> tu as presque raison .\n",
      "= i m not to the . . EOS _ _\n",
      "< you re about right .\n",
      "\n",
      "\n",
      "================================\n",
      "Epoch: 2\n"
     ]
    },
    {
     "data": {
      "application/vnd.jupyter.widget-view+json": {
       "model_id": "0862a69b245746b3a83c75bfa68e3541",
       "version_major": 2,
       "version_minor": 0
      },
      "text/plain": [
       "HBox(children=(IntProgress(value=0, max=108), HTML(value='')))"
      ]
     },
     "metadata": {},
     "output_type": "display_data"
    },
    {
     "name": "stdout",
     "output_type": "stream",
     "text": [
      "Loss 3.6467111110687256\n",
      "Loss 1.7643864154815674\n",
      "Loss 2.4528543949127197\n",
      "Loss 3.4459102153778076\n",
      "========================\n",
      "Loss per epoch: 2.4927592277526855\n",
      "Example:\n",
      "\n",
      "> je suis gros .\n",
      "= i m not to to . . . EOS _\n",
      "< i m fat .\n",
      "\n",
      "\n",
      "> c est un scientifique .\n",
      "= i re not to to . . EOS _ _\n",
      "< he is a scientist .\n",
      "\n",
      "\n",
      "> nous sommes amies .\n",
      "= i re not to . . . EOS _ _\n",
      "< we re friends .\n",
      "\n",
      "\n",
      "> je suis en train de conduire .\n",
      "= i m not to to . . . EOS _\n",
      "< i m driving .\n",
      "\n",
      "\n",
      "> tu as presque raison .\n",
      "= i re not to to . . EOS _ _\n",
      "< you re about right .\n",
      "\n",
      "\n",
      "================================\n",
      "Epoch: 3\n"
     ]
    },
    {
     "data": {
      "application/vnd.jupyter.widget-view+json": {
       "model_id": "271b3b953877416c9137528a1bb2389f",
       "version_major": 2,
       "version_minor": 0
      },
      "text/plain": [
       "HBox(children=(IntProgress(value=0, max=108), HTML(value='')))"
      ]
     },
     "metadata": {},
     "output_type": "display_data"
    },
    {
     "name": "stdout",
     "output_type": "stream",
     "text": [
      "Loss 3.3401951789855957\n",
      "Loss 1.7466243505477905\n",
      "Loss 2.4311885833740234\n",
      "Loss 3.1552302837371826\n",
      "========================\n",
      "Loss per epoch: 2.4109437465667725\n",
      "Example:\n",
      "\n",
      "> je suis gros .\n",
      "= i is not to to . . . EOS _\n",
      "< i m fat .\n",
      "\n",
      "\n",
      "> c est un scientifique .\n",
      "= you re not to the . . EOS _ _\n",
      "< he is a scientist .\n",
      "\n",
      "\n",
      "> nous sommes amies .\n",
      "= you re not to . . EOS _ _ _\n",
      "< we re friends .\n",
      "\n",
      "\n",
      "> je suis en train de conduire .\n",
      "= i m not to to . . . EOS _\n",
      "< i m driving .\n",
      "\n",
      "\n",
      "> tu as presque raison .\n",
      "= you re not to . . EOS _ _ _\n",
      "< you re about right .\n",
      "\n",
      "\n",
      "================================\n",
      "Epoch: 4\n"
     ]
    },
    {
     "data": {
      "application/vnd.jupyter.widget-view+json": {
       "model_id": "8bf03dde063f4cf6b10e590ae3fa86be",
       "version_major": 2,
       "version_minor": 0
      },
      "text/plain": [
       "HBox(children=(IntProgress(value=0, max=108), HTML(value='')))"
      ]
     },
     "metadata": {},
     "output_type": "display_data"
    },
    {
     "name": "stdout",
     "output_type": "stream",
     "text": [
      "Loss 3.204733371734619\n",
      "Loss 1.5794230699539185\n",
      "Loss 2.1220712661743164\n",
      "Loss 3.0040535926818848\n",
      "========================\n",
      "Loss per epoch: 2.2928740978240967\n",
      "Example:\n",
      "\n",
      "> je suis gros .\n",
      "= i m not to to . . EOS _ _\n",
      "< i m fat .\n",
      "\n",
      "\n",
      "> c est un scientifique .\n",
      "= he is not to . . EOS _ _ _\n",
      "< he is a scientist .\n",
      "\n",
      "\n",
      "> nous sommes amies .\n",
      "= you re very to . . EOS _ _ _\n",
      "< we re friends .\n",
      "\n",
      "\n",
      "> je suis en train de conduire .\n",
      "= i m not to to . . EOS _ _\n",
      "< i m driving .\n",
      "\n",
      "\n",
      "> tu as presque raison .\n",
      "= you re very to . . EOS _ _ _\n",
      "< you re about right .\n",
      "\n",
      "\n",
      "================================\n",
      "Epoch: 5\n"
     ]
    },
    {
     "data": {
      "application/vnd.jupyter.widget-view+json": {
       "model_id": "7ae6adc514a941f5b2224847907262e9",
       "version_major": 2,
       "version_minor": 0
      },
      "text/plain": [
       "HBox(children=(IntProgress(value=0, max=108), HTML(value='')))"
      ]
     },
     "metadata": {},
     "output_type": "display_data"
    },
    {
     "name": "stdout",
     "output_type": "stream",
     "text": [
      "Loss 2.8363358974456787\n",
      "Loss 1.4489213228225708\n",
      "Loss 2.0435266494750977\n",
      "Loss 2.8943278789520264\n",
      "========================\n",
      "Loss per epoch: 2.1296026706695557\n",
      "Example:\n",
      "\n",
      "> je suis gros .\n",
      "= i m not to to . . EOS _ _\n",
      "< i m fat .\n",
      "\n",
      "\n",
      "> c est un scientifique .\n",
      "= he is a to . . EOS _ _ _\n",
      "< he is a scientist .\n",
      "\n",
      "\n",
      "> nous sommes amies .\n",
      "= we re very to . . EOS _ _ _\n",
      "< we re friends .\n",
      "\n",
      "\n",
      "> je suis en train de conduire .\n",
      "= i m not to to . . EOS _ _\n",
      "< i m driving .\n",
      "\n",
      "\n",
      "> tu as presque raison .\n",
      "= you re very to . . EOS _ _ _\n",
      "< you re about right .\n",
      "\n",
      "\n",
      "================================\n",
      "Epoch: 6\n"
     ]
    },
    {
     "data": {
      "application/vnd.jupyter.widget-view+json": {
       "model_id": "102b005f34054e43907bd7d283398708",
       "version_major": 2,
       "version_minor": 0
      },
      "text/plain": [
       "HBox(children=(IntProgress(value=0, max=108), HTML(value='')))"
      ]
     },
     "metadata": {},
     "output_type": "display_data"
    },
    {
     "name": "stdout",
     "output_type": "stream",
     "text": [
      "Loss 2.733501672744751\n",
      "Loss 1.4531934261322021\n",
      "Loss 2.082425355911255\n",
      "Loss 2.8252499103546143\n",
      "========================\n",
      "Loss per epoch: 2.0831027030944824\n",
      "Example:\n",
      "\n",
      "> je suis gros .\n",
      "= i m not to . . . EOS _ _\n",
      "< i m fat .\n",
      "\n",
      "\n",
      "> c est un scientifique .\n",
      "= he is a to the . . EOS _ _\n",
      "< he is a scientist .\n",
      "\n",
      "\n",
      "> nous sommes amies .\n",
      "= we are very . . EOS EOS _ _ _\n",
      "< we re friends .\n",
      "\n",
      "\n",
      "> je suis en train de conduire .\n",
      "= i m not to to . . EOS _ _\n",
      "< i m driving .\n",
      "\n",
      "\n",
      "> tu as presque raison .\n",
      "= you re very to . . EOS _ _ _\n",
      "< you re about right .\n",
      "\n",
      "\n",
      "================================\n",
      "Epoch: 7\n"
     ]
    },
    {
     "data": {
      "application/vnd.jupyter.widget-view+json": {
       "model_id": "5dce58d59d394763800ccc319ddf0a60",
       "version_major": 2,
       "version_minor": 0
      },
      "text/plain": [
       "HBox(children=(IntProgress(value=0, max=108), HTML(value='')))"
      ]
     },
     "metadata": {},
     "output_type": "display_data"
    },
    {
     "name": "stdout",
     "output_type": "stream",
     "text": [
      "Loss 2.627941846847534\n",
      "Loss 1.334791898727417\n",
      "Loss 2.0984623432159424\n",
      "Loss 2.7370307445526123\n",
      "========================\n",
      "Loss per epoch: 1.9890564680099487\n",
      "Example:\n",
      "\n",
      "> je suis gros .\n",
      "= i m not to . . . EOS _ _\n",
      "< i m fat .\n",
      "\n",
      "\n",
      "> c est un scientifique .\n",
      "= he is always to the . . EOS _ _\n",
      "< he is a scientist .\n",
      "\n",
      "\n",
      "> nous sommes amies .\n",
      "= we re very . . EOS _ _ _ _\n",
      "< we re friends .\n",
      "\n",
      "\n",
      "> je suis en train de conduire .\n",
      "= i m not to to you . EOS _ _\n",
      "< i m driving .\n",
      "\n",
      "\n",
      "> tu as presque raison .\n",
      "= you re very very . . EOS _ _ _\n",
      "< you re about right .\n",
      "\n",
      "\n",
      "================================\n",
      "Epoch: 8\n"
     ]
    },
    {
     "data": {
      "application/vnd.jupyter.widget-view+json": {
       "model_id": "6b2cbd80459b489cb2dea28a85efda70",
       "version_major": 2,
       "version_minor": 0
      },
      "text/plain": [
       "HBox(children=(IntProgress(value=0, max=108), HTML(value='')))"
      ]
     },
     "metadata": {},
     "output_type": "display_data"
    },
    {
     "name": "stdout",
     "output_type": "stream",
     "text": [
      "Loss 2.164961338043213\n",
      "Loss 1.3301985263824463\n",
      "Loss 1.9876543283462524\n",
      "Loss 2.6555659770965576\n",
      "========================\n",
      "Loss per epoch: 1.9222880601882935\n",
      "Example:\n",
      "\n",
      "> je suis gros .\n",
      "= i m very with . . EOS _ _ _\n",
      "< i m fat .\n",
      "\n",
      "\n",
      "> c est un scientifique .\n",
      "= he is a to his . . EOS _ _\n",
      "< he is a scientist .\n",
      "\n",
      "\n",
      "> nous sommes amies .\n",
      "= we re very . . EOS _ _ _ _\n",
      "< we re friends .\n",
      "\n",
      "\n",
      "> je suis en train de conduire .\n",
      "= i m not to to . . EOS _ _\n",
      "< i m driving .\n",
      "\n",
      "\n",
      "> tu as presque raison .\n",
      "= you re very very . . EOS _ _ _\n",
      "< you re about right .\n",
      "\n",
      "\n",
      "================================\n",
      "Epoch: 9\n"
     ]
    },
    {
     "data": {
      "application/vnd.jupyter.widget-view+json": {
       "model_id": "f829195f9ee64866a17a4d2c99f899f4",
       "version_major": 2,
       "version_minor": 0
      },
      "text/plain": [
       "HBox(children=(IntProgress(value=0, max=108), HTML(value='')))"
      ]
     },
     "metadata": {},
     "output_type": "display_data"
    },
    {
     "name": "stdout",
     "output_type": "stream",
     "text": [
      "Loss 2.1082756519317627\n",
      "Loss 1.2642173767089844\n",
      "Loss 1.9085196256637573\n",
      "Loss 2.6723177433013916\n",
      "========================\n",
      "Loss per epoch: 1.866188645362854\n",
      "Example:\n",
      "\n",
      "> je suis gros .\n",
      "= i m very . . EOS _ _ _ _\n",
      "< i m fat .\n",
      "\n",
      "\n",
      "> c est un scientifique .\n",
      "= he is a to the . . EOS _ _\n",
      "< he is a scientist .\n",
      "\n",
      "\n",
      "> nous sommes amies .\n",
      "= we re very . . EOS _ _ _ _\n",
      "< we re friends .\n",
      "\n",
      "\n",
      "> je suis en train de conduire .\n",
      "= i m not to with . . EOS _ _\n",
      "< i m driving .\n",
      "\n",
      "\n",
      "> tu as presque raison .\n",
      "= you re not very . . EOS _ _ _\n",
      "< you re about right .\n",
      "\n",
      "\n",
      "================================\n",
      "Epoch: 10\n"
     ]
    },
    {
     "data": {
      "application/vnd.jupyter.widget-view+json": {
       "model_id": "c4bb5791fbe24628932718a675007dcc",
       "version_major": 2,
       "version_minor": 0
      },
      "text/plain": [
       "HBox(children=(IntProgress(value=0, max=108), HTML(value='')))"
      ]
     },
     "metadata": {},
     "output_type": "display_data"
    },
    {
     "name": "stdout",
     "output_type": "stream",
     "text": [
      "Loss 1.768976092338562\n",
      "Loss 1.3168013095855713\n",
      "Loss 1.723635196685791\n",
      "Loss 2.6870319843292236\n",
      "========================\n",
      "Loss per epoch: 1.8156710863113403\n",
      "Example:\n",
      "\n",
      "> je suis gros .\n",
      "= i m very . . EOS _ _ _ _\n",
      "< i m fat .\n",
      "\n",
      "\n",
      "> c est un scientifique .\n",
      "= he is a the the . EOS _ _ _\n",
      "< he is a scientist .\n",
      "\n",
      "\n",
      "> nous sommes amies .\n",
      "= we re very . . EOS _ _ _ _\n",
      "< we re friends .\n",
      "\n",
      "\n",
      "> je suis en train de conduire .\n",
      "= i m not to of . . EOS _ _\n",
      "< i m driving .\n",
      "\n",
      "\n",
      "> tu as presque raison .\n",
      "= you re very sophisticated . . EOS _ _ _\n",
      "< you re about right .\n",
      "\n",
      "\n",
      "================================\n",
      "Epoch: 11\n"
     ]
    },
    {
     "data": {
      "application/vnd.jupyter.widget-view+json": {
       "model_id": "cdc147becbac45af8aa4c9b49b6e2b24",
       "version_major": 2,
       "version_minor": 0
      },
      "text/plain": [
       "HBox(children=(IntProgress(value=0, max=108), HTML(value='')))"
      ]
     },
     "metadata": {},
     "output_type": "display_data"
    },
    {
     "name": "stdout",
     "output_type": "stream",
     "text": [
      "Loss 1.6950764656066895\n",
      "Loss 1.203361988067627\n",
      "Loss 1.7560185194015503\n",
      "Loss 2.446746826171875\n",
      "========================\n",
      "Loss per epoch: 1.756696105003357\n",
      "Example:\n",
      "\n",
      "> je suis gros .\n",
      "= i m very . . . EOS _ _ _\n",
      "< i m fat .\n",
      "\n",
      "\n",
      "> c est un scientifique .\n",
      "= he is a of the . EOS _ _ _\n",
      "< he is a scientist .\n",
      "\n",
      "\n",
      "> nous sommes amies .\n",
      "= we re all . . EOS _ _ _ _\n",
      "< we re friends .\n",
      "\n",
      "\n",
      "> je suis en train de conduire .\n",
      "= i m going to your . . EOS _ _\n",
      "< i m driving .\n",
      "\n",
      "\n",
      "> tu as presque raison .\n",
      "= you re not very . . EOS _ _ _\n",
      "< you re about right .\n",
      "\n",
      "\n",
      "================================\n",
      "Epoch: 12\n"
     ]
    },
    {
     "data": {
      "application/vnd.jupyter.widget-view+json": {
       "model_id": "dc2247d4aa204fccb626f8ceb4f26997",
       "version_major": 2,
       "version_minor": 0
      },
      "text/plain": [
       "HBox(children=(IntProgress(value=0, max=108), HTML(value='')))"
      ]
     },
     "metadata": {},
     "output_type": "display_data"
    },
    {
     "name": "stdout",
     "output_type": "stream",
     "text": [
      "Loss 1.6133925914764404\n",
      "Loss 1.215316891670227\n",
      "Loss 1.7621142864227295\n",
      "Loss 2.3482279777526855\n",
      "========================\n",
      "Loss per epoch: 1.7037354707717896\n",
      "Example:\n",
      "\n",
      "> je suis gros .\n",
      "= i m being . EOS EOS _ _ _ _\n",
      "< i m fat .\n",
      "\n",
      "\n",
      "> c est un scientifique .\n",
      "= he is a a . . EOS _ _ _\n",
      "< he is a scientist .\n",
      "\n",
      "\n",
      "> nous sommes amies .\n",
      "= we re all . . EOS _ _ _ _\n",
      "< we re friends .\n",
      "\n",
      "\n",
      "> je suis en train de conduire .\n",
      "= i am very of of . . EOS _ _\n",
      "< i m driving .\n",
      "\n",
      "\n",
      "> tu as presque raison .\n",
      "= you re very very . . EOS _ _ _\n",
      "< you re about right .\n",
      "\n",
      "\n",
      "================================\n",
      "Epoch: 13\n"
     ]
    },
    {
     "data": {
      "application/vnd.jupyter.widget-view+json": {
       "model_id": "d5d76153a20345edaf9148958ead1aae",
       "version_major": 2,
       "version_minor": 0
      },
      "text/plain": [
       "HBox(children=(IntProgress(value=0, max=108), HTML(value='')))"
      ]
     },
     "metadata": {},
     "output_type": "display_data"
    },
    {
     "name": "stdout",
     "output_type": "stream",
     "text": [
      "Loss 1.5415149927139282\n",
      "Loss 1.1673229932785034\n",
      "Loss 1.6745229959487915\n",
      "Loss 2.2326722145080566\n",
      "========================\n",
      "Loss per epoch: 1.6383352279663086\n",
      "Example:\n",
      "\n",
      "> je suis gros .\n",
      "= i m being . EOS EOS _ _ _ _\n",
      "< i m fat .\n",
      "\n",
      "\n",
      "> c est un scientifique .\n",
      "= he is a a . . EOS _ _ _\n",
      "< he is a scientist .\n",
      "\n",
      "\n",
      "> nous sommes amies .\n",
      "= we re all . . EOS _ _ _ _\n",
      "< we re friends .\n",
      "\n",
      "\n",
      "> je suis en train de conduire .\n",
      "= i m very of your . . EOS _ _\n",
      "< i m driving .\n",
      "\n",
      "\n",
      "> tu as presque raison .\n",
      "= you re very sophisticated . . EOS _ _ _\n",
      "< you re about right .\n",
      "\n",
      "\n",
      "================================\n",
      "Epoch: 14\n"
     ]
    },
    {
     "data": {
      "application/vnd.jupyter.widget-view+json": {
       "model_id": "5ef4bd8cca2e46918f7ef297c93a0a80",
       "version_major": 2,
       "version_minor": 0
      },
      "text/plain": [
       "HBox(children=(IntProgress(value=0, max=108), HTML(value='')))"
      ]
     },
     "metadata": {},
     "output_type": "display_data"
    },
    {
     "name": "stdout",
     "output_type": "stream",
     "text": [
      "Loss 1.4169020652770996\n",
      "Loss 1.067388653755188\n",
      "Loss 1.5800566673278809\n",
      "Loss 2.0677645206451416\n",
      "========================\n",
      "Loss per epoch: 1.5728133916854858\n",
      "Example:\n",
      "\n",
      "> je suis gros .\n",
      "= i m being . EOS EOS _ _ _ _\n",
      "< i m fat .\n",
      "\n",
      "\n",
      "> c est un scientifique .\n",
      "= he is a a . . EOS _ _ _\n",
      "< he is a scientist .\n",
      "\n",
      "\n",
      "> nous sommes amies .\n",
      "= we re all friends . EOS _ _ _ _\n",
      "< we re friends .\n",
      "\n",
      "\n",
      "> je suis en train de conduire .\n",
      "= i am a of your . . EOS _ _\n",
      "< i m driving .\n",
      "\n",
      "\n",
      "> tu as presque raison .\n",
      "= you re very sophisticated . . EOS _ _ _\n",
      "< you re about right .\n",
      "\n",
      "\n",
      "================================\n",
      "Epoch: 15\n"
     ]
    },
    {
     "data": {
      "application/vnd.jupyter.widget-view+json": {
       "model_id": "5c012cda0c9640a19e57ee7c9179b481",
       "version_major": 2,
       "version_minor": 0
      },
      "text/plain": [
       "HBox(children=(IntProgress(value=0, max=108), HTML(value='')))"
      ]
     },
     "metadata": {},
     "output_type": "display_data"
    },
    {
     "name": "stdout",
     "output_type": "stream",
     "text": [
      "Loss 1.4337666034698486\n",
      "Loss 1.0972259044647217\n",
      "Loss 1.4944225549697876\n",
      "Loss 2.1536645889282227\n",
      "========================\n",
      "Loss per epoch: 1.5123423337936401\n",
      "Example:\n",
      "\n",
      "> je suis gros .\n",
      "= i m being . EOS EOS _ _ _ _\n",
      "< i m fat .\n",
      "\n",
      "\n",
      "> c est un scientifique .\n",
      "= he is a a student . EOS _ _ _\n",
      "< he is a scientist .\n",
      "\n",
      "\n",
      "> nous sommes amies .\n",
      "= we re all . . EOS _ _ _ _\n",
      "< we re friends .\n",
      "\n",
      "\n",
      "> je suis en train de conduire .\n",
      "= i am a of your . . EOS _ _\n",
      "< i m driving .\n",
      "\n",
      "\n",
      "> tu as presque raison .\n",
      "= you re not very . . EOS _ _ _\n",
      "< you re about right .\n",
      "\n",
      "\n",
      "================================\n",
      "Epoch: 16\n"
     ]
    },
    {
     "data": {
      "application/vnd.jupyter.widget-view+json": {
       "model_id": "42c05a6bb4e6464ebec18729736b8d37",
       "version_major": 2,
       "version_minor": 0
      },
      "text/plain": [
       "HBox(children=(IntProgress(value=0, max=108), HTML(value='')))"
      ]
     },
     "metadata": {},
     "output_type": "display_data"
    },
    {
     "name": "stdout",
     "output_type": "stream",
     "text": [
      "Loss 1.2842479944229126\n",
      "Loss 1.0664513111114502\n",
      "Loss 1.3847533464431763\n",
      "Loss 1.9916343688964844\n",
      "========================\n",
      "Loss per epoch: 1.4515280723571777\n",
      "Example:\n",
      "\n",
      "> je suis gros .\n",
      "= i m being . EOS _ _ _ _ _\n",
      "< i m fat .\n",
      "\n",
      "\n",
      "> c est un scientifique .\n",
      "= he is a a student . EOS _ _ _\n",
      "< he is a scientist .\n",
      "\n",
      "\n",
      "> nous sommes amies .\n",
      "= we re all . . EOS _ _ _ _\n",
      "< we re friends .\n",
      "\n",
      "\n",
      "> je suis en train de conduire .\n",
      "= i am a of the . . EOS _ _\n",
      "< i m driving .\n",
      "\n",
      "\n",
      "> tu as presque raison .\n",
      "= you re not being . . EOS _ _ _\n",
      "< you re about right .\n",
      "\n",
      "\n",
      "================================\n",
      "Epoch: 17\n"
     ]
    },
    {
     "data": {
      "application/vnd.jupyter.widget-view+json": {
       "model_id": "b369ba965c6f4152b7329b3abb3d0e59",
       "version_major": 2,
       "version_minor": 0
      },
      "text/plain": [
       "HBox(children=(IntProgress(value=0, max=108), HTML(value='')))"
      ]
     },
     "metadata": {},
     "output_type": "display_data"
    },
    {
     "name": "stdout",
     "output_type": "stream",
     "text": [
      "Loss 1.3398692607879639\n",
      "Loss 1.08298659324646\n",
      "Loss 1.3903230428695679\n",
      "Loss 1.8367851972579956\n",
      "========================\n",
      "Loss per epoch: 1.3841880559921265\n",
      "Example:\n",
      "\n",
      "> je suis gros .\n",
      "= i m being . EOS _ _ _ _ _\n",
      "< i m fat .\n",
      "\n",
      "\n",
      "> c est un scientifique .\n",
      "= he is a a student . EOS _ _ _\n",
      "< he is a scientist .\n",
      "\n",
      "\n",
      "> nous sommes amies .\n",
      "= we re all . . EOS _ _ _ _\n",
      "< we re friends .\n",
      "\n",
      "\n",
      "> je suis en train de conduire .\n",
      "= i am in of your . . EOS _ _\n",
      "< i m driving .\n",
      "\n",
      "\n",
      "> tu as presque raison .\n",
      "= you re too very . . EOS _ _ _\n",
      "< you re about right .\n",
      "\n",
      "\n",
      "================================\n",
      "Epoch: 18\n"
     ]
    },
    {
     "data": {
      "application/vnd.jupyter.widget-view+json": {
       "model_id": "139032b63652429aa6af64dcd7df2ebc",
       "version_major": 2,
       "version_minor": 0
      },
      "text/plain": [
       "HBox(children=(IntProgress(value=0, max=108), HTML(value='')))"
      ]
     },
     "metadata": {},
     "output_type": "display_data"
    },
    {
     "name": "stdout",
     "output_type": "stream",
     "text": [
      "Loss 1.3593722581863403\n",
      "Loss 0.9335301518440247\n",
      "Loss 1.353674054145813\n",
      "Loss 1.6292634010314941\n",
      "========================\n",
      "Loss per epoch: 1.3168004751205444\n",
      "Example:\n",
      "\n",
      "> je suis gros .\n",
      "= i m being . EOS _ _ _ _ _\n",
      "< i m fat .\n",
      "\n",
      "\n",
      "> c est un scientifique .\n",
      "= he is a a student . EOS _ _ _\n",
      "< he is a scientist .\n",
      "\n",
      "\n",
      "> nous sommes amies .\n",
      "= we re all . . EOS _ _ _ _\n",
      "< we re friends .\n",
      "\n",
      "\n",
      "> je suis en train de conduire .\n",
      "= i am in the my . . EOS _ _\n",
      "< i m driving .\n",
      "\n",
      "\n",
      "> tu as presque raison .\n",
      "= you re always complaining . . EOS _ _ _\n",
      "< you re about right .\n",
      "\n",
      "\n",
      "================================\n",
      "Epoch: 19\n"
     ]
    },
    {
     "data": {
      "application/vnd.jupyter.widget-view+json": {
       "model_id": "0ef686d5c4e84c8aa5b5bcb6ed0d7fa5",
       "version_major": 2,
       "version_minor": 0
      },
      "text/plain": [
       "HBox(children=(IntProgress(value=0, max=108), HTML(value='')))"
      ]
     },
     "metadata": {},
     "output_type": "display_data"
    },
    {
     "name": "stdout",
     "output_type": "stream",
     "text": [
      "Loss 1.0994900465011597\n",
      "Loss 0.7638909816741943\n",
      "Loss 1.25179123878479\n",
      "Loss 1.6325719356536865\n",
      "========================\n",
      "Loss per epoch: 1.2383722066879272\n",
      "Example:\n",
      "\n",
      "> je suis gros .\n",
      "= i m an . EOS _ _ _ _ _\n",
      "< i m fat .\n",
      "\n",
      "\n",
      "> c est un scientifique .\n",
      "= he is a a student . EOS _ _ _\n",
      "< he is a scientist .\n",
      "\n",
      "\n",
      "> nous sommes amies .\n",
      "= we re all . . EOS _ _ _ _\n",
      "< we re friends .\n",
      "\n",
      "\n",
      "> je suis en train de conduire .\n",
      "= i am looking for the . . EOS _ _\n",
      "< i m driving .\n",
      "\n",
      "\n",
      "> tu as presque raison .\n",
      "= you re always complaining . EOS _ _ _ _\n",
      "< you re about right .\n",
      "\n",
      "\n",
      "================================\n",
      "Epoch: 20\n"
     ]
    },
    {
     "data": {
      "application/vnd.jupyter.widget-view+json": {
       "model_id": "a5b85ac111674d8d8795638697222086",
       "version_major": 2,
       "version_minor": 0
      },
      "text/plain": [
       "HBox(children=(IntProgress(value=0, max=108), HTML(value='')))"
      ]
     },
     "metadata": {},
     "output_type": "display_data"
    },
    {
     "name": "stdout",
     "output_type": "stream",
     "text": [
      "Loss 1.1712243556976318\n",
      "Loss 0.8337421417236328\n",
      "Loss 1.2146272659301758\n",
      "Loss 1.6266124248504639\n",
      "========================\n",
      "Loss per epoch: 1.1823992729187012\n",
      "Example:\n",
      "\n",
      "> je suis gros .\n",
      "= i m tired . EOS EOS _ _ _ _\n",
      "< i m fat .\n",
      "\n",
      "\n",
      "> c est un scientifique .\n",
      "= he is a a student . EOS _ _ _\n",
      "< he is a scientist .\n",
      "\n",
      "\n",
      "> nous sommes amies .\n",
      "= we re friends . EOS _ _ _ _ _\n",
      "< we re friends .\n",
      "\n",
      "\n",
      "> je suis en train de conduire .\n",
      "= i m looking for the . . EOS _ _\n",
      "< i m driving .\n",
      "\n",
      "\n",
      "> tu as presque raison .\n",
      "= you re always here . . EOS _ _ _\n",
      "< you re about right .\n",
      "\n",
      "\n",
      "================================\n",
      "Epoch: 21\n"
     ]
    },
    {
     "data": {
      "application/vnd.jupyter.widget-view+json": {
       "model_id": "5ccb9c67c7b142b5a25e3cdda45059ae",
       "version_major": 2,
       "version_minor": 0
      },
      "text/plain": [
       "HBox(children=(IntProgress(value=0, max=108), HTML(value='')))"
      ]
     },
     "metadata": {},
     "output_type": "display_data"
    },
    {
     "name": "stdout",
     "output_type": "stream",
     "text": [
      "Loss 1.1028287410736084\n",
      "Loss 0.7996562719345093\n",
      "Loss 1.053290605545044\n",
      "Loss 1.4364688396453857\n",
      "========================\n",
      "Loss per epoch: 1.1097334623336792\n",
      "Example:\n",
      "\n",
      "> je suis gros .\n",
      "= i m very . EOS EOS _ _ _ _\n",
      "< i m fat .\n",
      "\n",
      "\n",
      "> c est un scientifique .\n",
      "= he is a a student . EOS _ _ _\n",
      "< he is a scientist .\n",
      "\n",
      "\n",
      "> nous sommes amies .\n",
      "= we re friends . EOS _ _ _ _ _\n",
      "< we re friends .\n",
      "\n",
      "\n",
      "> je suis en train de conduire .\n",
      "= i m looking for the . . EOS _ _\n",
      "< i m driving .\n",
      "\n",
      "\n",
      "> tu as presque raison .\n",
      "= you re always complaining . EOS EOS _ _ _\n",
      "< you re about right .\n",
      "\n",
      "\n",
      "================================\n",
      "Epoch: 22\n"
     ]
    },
    {
     "data": {
      "application/vnd.jupyter.widget-view+json": {
       "model_id": "ac0e9413737c4bb7946b8980cf0c133b",
       "version_major": 2,
       "version_minor": 0
      },
      "text/plain": [
       "HBox(children=(IntProgress(value=0, max=108), HTML(value='')))"
      ]
     },
     "metadata": {},
     "output_type": "display_data"
    },
    {
     "name": "stdout",
     "output_type": "stream",
     "text": [
      "Loss 1.0194745063781738\n",
      "Loss 0.6988573670387268\n",
      "Loss 1.1156604290008545\n",
      "Loss 1.2926090955734253\n",
      "========================\n",
      "Loss per epoch: 1.0411356687545776\n",
      "Example:\n",
      "\n",
      "> je suis gros .\n",
      "= i m an . EOS _ _ _ _ _\n",
      "< i m fat .\n",
      "\n",
      "\n",
      "> c est un scientifique .\n",
      "= he is a freelance student . EOS _ _ _\n",
      "< he is a scientist .\n",
      "\n",
      "\n",
      "> nous sommes amies .\n",
      "= we re in . EOS _ _ _ _ _\n",
      "< we re friends .\n",
      "\n",
      "\n",
      "> je suis en train de conduire .\n",
      "= i m going to the . . EOS _ _\n",
      "< i m driving .\n",
      "\n",
      "\n",
      "> tu as presque raison .\n",
      "= you re always complaining . EOS _ _ _ _\n",
      "< you re about right .\n",
      "\n",
      "\n",
      "================================\n",
      "Epoch: 23\n"
     ]
    },
    {
     "data": {
      "application/vnd.jupyter.widget-view+json": {
       "model_id": "9e1b511f02d04f36b845a57667942374",
       "version_major": 2,
       "version_minor": 0
      },
      "text/plain": [
       "HBox(children=(IntProgress(value=0, max=108), HTML(value='')))"
      ]
     },
     "metadata": {},
     "output_type": "display_data"
    },
    {
     "name": "stdout",
     "output_type": "stream",
     "text": [
      "Loss 0.9582945108413696\n",
      "Loss 0.7473098635673523\n",
      "Loss 1.1715102195739746\n",
      "Loss 1.1963865756988525\n",
      "========================\n",
      "Loss per epoch: 0.9783791303634644\n",
      "Example:\n",
      "\n",
      "> je suis gros .\n",
      "= i m very . EOS _ _ _ _ _\n",
      "< i m fat .\n",
      "\n",
      "\n",
      "> c est un scientifique .\n",
      "= he is a freelance student . EOS _ _ _\n",
      "< he is a scientist .\n",
      "\n",
      "\n",
      "> nous sommes amies .\n",
      "= we re in . EOS _ _ _ _ _\n",
      "< we re friends .\n",
      "\n",
      "\n",
      "> je suis en train de conduire .\n",
      "= i m looking for the . . EOS _ _\n",
      "< i m driving .\n",
      "\n",
      "\n",
      "> tu as presque raison .\n",
      "= you re always complaining . EOS _ _ _ _\n",
      "< you re about right .\n",
      "\n",
      "\n",
      "================================\n",
      "Epoch: 24\n"
     ]
    },
    {
     "data": {
      "application/vnd.jupyter.widget-view+json": {
       "model_id": "61d0648b4d61408a98fcadab26afad8f",
       "version_major": 2,
       "version_minor": 0
      },
      "text/plain": [
       "HBox(children=(IntProgress(value=0, max=108), HTML(value='')))"
      ]
     },
     "metadata": {},
     "output_type": "display_data"
    },
    {
     "name": "stdout",
     "output_type": "stream",
     "text": [
      "Loss 0.9657268524169922\n",
      "Loss 0.7067056894302368\n",
      "Loss 0.9006253480911255\n",
      "Loss 1.1495217084884644\n",
      "========================\n",
      "Loss per epoch: 0.9069824814796448\n",
      "Example:\n",
      "\n",
      "> je suis gros .\n",
      "= i m very . EOS EOS _ _ _ _\n",
      "< i m fat .\n",
      "\n",
      "\n",
      "> c est un scientifique .\n",
      "= he is a freelance student . EOS _ _ _\n",
      "< he is a scientist .\n",
      "\n",
      "\n",
      "> nous sommes amies .\n",
      "= we re trapped . EOS _ _ _ _ _\n",
      "< we re friends .\n",
      "\n",
      "\n",
      "> je suis en train de conduire .\n",
      "= i m going to the . EOS EOS _ _\n",
      "< i m driving .\n",
      "\n",
      "\n",
      "> tu as presque raison .\n",
      "= you re always complaining . . EOS _ _ _\n",
      "< you re about right .\n",
      "\n",
      "\n",
      "================================\n",
      "Epoch: 25\n"
     ]
    },
    {
     "data": {
      "application/vnd.jupyter.widget-view+json": {
       "model_id": "56ce5753f90340febe72d2a111878374",
       "version_major": 2,
       "version_minor": 0
      },
      "text/plain": [
       "HBox(children=(IntProgress(value=0, max=108), HTML(value='')))"
      ]
     },
     "metadata": {},
     "output_type": "display_data"
    },
    {
     "name": "stdout",
     "output_type": "stream",
     "text": [
      "Loss 0.7826858758926392\n",
      "Loss 0.5947918891906738\n",
      "Loss 0.834660530090332\n",
      "Loss 1.173421025276184\n",
      "========================\n",
      "Loss per epoch: 0.8385549187660217\n",
      "Example:\n",
      "\n",
      "> je suis gros .\n",
      "= i m very . EOS _ _ _ _ _\n",
      "< i m fat .\n",
      "\n",
      "\n",
      "> c est un scientifique .\n",
      "= he is a freelance student . EOS _ _ _\n",
      "< he is a scientist .\n",
      "\n",
      "\n",
      "> nous sommes amies .\n",
      "= we re in . EOS _ _ _ _ _\n",
      "< we re friends .\n",
      "\n",
      "\n",
      "> je suis en train de conduire .\n",
      "= i m looking for the . . EOS _ _\n",
      "< i m driving .\n",
      "\n",
      "\n",
      "> tu as presque raison .\n",
      "= you re always complaining . EOS _ _ _ _\n",
      "< you re about right .\n",
      "\n",
      "\n",
      "================================\n",
      "Epoch: 26\n"
     ]
    },
    {
     "data": {
      "application/vnd.jupyter.widget-view+json": {
       "model_id": "ae88be47223b4e0c8664d591bc582ee9",
       "version_major": 2,
       "version_minor": 0
      },
      "text/plain": [
       "HBox(children=(IntProgress(value=0, max=108), HTML(value='')))"
      ]
     },
     "metadata": {},
     "output_type": "display_data"
    },
    {
     "name": "stdout",
     "output_type": "stream",
     "text": [
      "Loss 0.7655611038208008\n",
      "Loss 0.6252096891403198\n",
      "Loss 0.7750071287155151\n",
      "Loss 1.0394052267074585\n",
      "========================\n",
      "Loss per epoch: 0.7698559761047363\n",
      "Example:\n",
      "\n",
      "> je suis gros .\n",
      "= i m very . EOS EOS _ _ _ _\n",
      "< i m fat .\n",
      "\n",
      "\n",
      "> c est un scientifique .\n",
      "= he is a freelance journalist . EOS _ _ _\n",
      "< he is a scientist .\n",
      "\n",
      "\n",
      "> nous sommes amies .\n",
      "= we re in . EOS EOS _ _ _ _\n",
      "< we re friends .\n",
      "\n",
      "\n",
      "> je suis en train de conduire .\n",
      "= i m going to the . EOS EOS _ _\n",
      "< i m driving .\n",
      "\n",
      "\n",
      "> tu as presque raison .\n",
      "= you re always complaining . EOS _ _ _ _\n",
      "< you re about right .\n",
      "\n",
      "\n",
      "================================\n",
      "Epoch: 27\n"
     ]
    },
    {
     "data": {
      "application/vnd.jupyter.widget-view+json": {
       "model_id": "f2e542c5c7b144dc8645649a88708ac1",
       "version_major": 2,
       "version_minor": 0
      },
      "text/plain": [
       "HBox(children=(IntProgress(value=0, max=108), HTML(value='')))"
      ]
     },
     "metadata": {},
     "output_type": "display_data"
    },
    {
     "name": "stdout",
     "output_type": "stream",
     "text": [
      "Loss 0.6957069039344788\n",
      "Loss 0.5188117623329163\n",
      "Loss 0.7693923711776733\n",
      "Loss 0.9341332912445068\n",
      "========================\n",
      "Loss per epoch: 0.7042502164840698\n",
      "Example:\n",
      "\n",
      "> je suis gros .\n",
      "= i m yours . EOS _ _ _ _ _\n",
      "< i m fat .\n",
      "\n",
      "\n",
      "> c est un scientifique .\n",
      "= he is a teacher artist . EOS _ _ _\n",
      "< he is a scientist .\n",
      "\n",
      "\n",
      "> nous sommes amies .\n",
      "= we re friends . EOS _ _ _ _ _\n",
      "< we re friends .\n",
      "\n",
      "\n",
      "> je suis en train de conduire .\n",
      "= i m looking for the . EOS _ _ _\n",
      "< i m driving .\n",
      "\n",
      "\n",
      "> tu as presque raison .\n",
      "= you re always right . EOS _ _ _ _\n",
      "< you re about right .\n",
      "\n",
      "\n",
      "================================\n",
      "Epoch: 28\n"
     ]
    },
    {
     "data": {
      "application/vnd.jupyter.widget-view+json": {
       "model_id": "55630eca672e4de298fede0589730915",
       "version_major": 2,
       "version_minor": 0
      },
      "text/plain": [
       "HBox(children=(IntProgress(value=0, max=108), HTML(value='')))"
      ]
     },
     "metadata": {},
     "output_type": "display_data"
    },
    {
     "name": "stdout",
     "output_type": "stream",
     "text": [
      "Loss 0.6935040950775146\n",
      "Loss 0.4584909677505493\n",
      "Loss 0.6253865957260132\n",
      "Loss 0.8046034574508667\n",
      "========================\n",
      "Loss per epoch: 0.6452956795692444\n",
      "Example:\n",
      "\n",
      "> je suis gros .\n",
      "= i m very . EOS _ _ _ _ _\n",
      "< i m fat .\n",
      "\n",
      "\n",
      "> c est un scientifique .\n",
      "= he is a freelance journalist . EOS _ _ _\n",
      "< he is a scientist .\n",
      "\n",
      "\n",
      "> nous sommes amies .\n",
      "= we re friends . EOS _ _ _ _ _\n",
      "< we re friends .\n",
      "\n",
      "\n",
      "> je suis en train de conduire .\n",
      "= i m looking for batteries . EOS _ _ _\n",
      "< i m driving .\n",
      "\n",
      "\n",
      "> tu as presque raison .\n",
      "= you re right something . . EOS _ _ _\n",
      "< you re about right .\n",
      "\n",
      "\n",
      "================================\n",
      "Epoch: 29\n"
     ]
    },
    {
     "data": {
      "application/vnd.jupyter.widget-view+json": {
       "model_id": "af940618e3324b2598752ce5a00ab00d",
       "version_major": 2,
       "version_minor": 0
      },
      "text/plain": [
       "HBox(children=(IntProgress(value=0, max=108), HTML(value='')))"
      ]
     },
     "metadata": {},
     "output_type": "display_data"
    },
    {
     "name": "stdout",
     "output_type": "stream",
     "text": [
      "Loss 0.6319496035575867\n",
      "Loss 0.4485231935977936\n",
      "Loss 0.4791713058948517\n",
      "Loss 0.7680400609970093\n",
      "========================\n",
      "Loss per epoch: 0.5840458273887634\n",
      "Example:\n",
      "\n",
      "> je suis gros .\n",
      "= i m fat . EOS _ _ _ _ _\n",
      "< i m fat .\n",
      "\n",
      "\n",
      "> c est un scientifique .\n",
      "= he is a freelance student . EOS _ _ _\n",
      "< he is a scientist .\n",
      "\n",
      "\n",
      "> nous sommes amies .\n",
      "= we re friends . EOS _ _ _ _ _\n",
      "< we re friends .\n",
      "\n",
      "\n",
      "> je suis en train de conduire .\n",
      "= i m looking for the . EOS EOS _ _\n",
      "< i m driving .\n",
      "\n",
      "\n",
      "> tu as presque raison .\n",
      "= you re right right . EOS _ _ _ _\n",
      "< you re about right .\n",
      "\n",
      "\n",
      "================================\n",
      "Epoch: 30\n"
     ]
    },
    {
     "data": {
      "application/vnd.jupyter.widget-view+json": {
       "model_id": "a1ae06a6f42f4e9082fd19310c2c6271",
       "version_major": 2,
       "version_minor": 0
      },
      "text/plain": [
       "HBox(children=(IntProgress(value=0, max=108), HTML(value='')))"
      ]
     },
     "metadata": {},
     "output_type": "display_data"
    },
    {
     "name": "stdout",
     "output_type": "stream",
     "text": [
      "Loss 0.6224503517150879\n",
      "Loss 0.4123295247554779\n",
      "Loss 0.5884775519371033\n",
      "Loss 0.7041894793510437\n",
      "========================\n",
      "Loss per epoch: 0.5288646817207336\n",
      "Example:\n",
      "\n",
      "> je suis gros .\n",
      "= i m tough . EOS _ _ _ _ _\n",
      "< i m fat .\n",
      "\n",
      "\n",
      "> c est un scientifique .\n",
      "= he is a mathematical artist . EOS _ _ _\n",
      "< he is a scientist .\n",
      "\n",
      "\n",
      "> nous sommes amies .\n",
      "= we re friends . EOS _ _ _ _ _\n",
      "< we re friends .\n",
      "\n",
      "\n",
      "> je suis en train de conduire .\n",
      "= i m going to get . EOS _ _ _\n",
      "< i m driving .\n",
      "\n",
      "\n",
      "> tu as presque raison .\n",
      "= you re right right right . EOS _ _ _\n",
      "< you re about right .\n",
      "\n",
      "\n",
      "================================\n",
      "Epoch: 31\n"
     ]
    },
    {
     "data": {
      "application/vnd.jupyter.widget-view+json": {
       "model_id": "167e3910b39e4ff99d92d94be7894e71",
       "version_major": 2,
       "version_minor": 0
      },
      "text/plain": [
       "HBox(children=(IntProgress(value=0, max=108), HTML(value='')))"
      ]
     },
     "metadata": {},
     "output_type": "display_data"
    },
    {
     "name": "stdout",
     "output_type": "stream",
     "text": [
      "Loss 0.6185435056686401\n",
      "Loss 0.3608451187610626\n",
      "Loss 0.44800928235054016\n",
      "Loss 0.5431381464004517\n",
      "========================\n",
      "Loss per epoch: 0.47531044483184814\n",
      "Example:\n",
      "\n",
      "> je suis gros .\n",
      "= i m tough . EOS _ _ _ _ _\n",
      "< i m fat .\n",
      "\n",
      "\n",
      "> c est un scientifique .\n",
      "= he is a mathematical student . EOS _ _ _\n",
      "< he is a scientist .\n",
      "\n",
      "\n",
      "> nous sommes amies .\n",
      "= we re friends . EOS EOS _ _ _ _\n",
      "< we re friends .\n",
      "\n",
      "\n",
      "> je suis en train de conduire .\n",
      "= i m going to get . EOS _ _ _\n",
      "< i m driving .\n",
      "\n",
      "\n",
      "> tu as presque raison .\n",
      "= you re right right right . EOS _ _ _\n",
      "< you re about right .\n",
      "\n",
      "\n",
      "================================\n",
      "Epoch: 32\n"
     ]
    },
    {
     "data": {
      "application/vnd.jupyter.widget-view+json": {
       "model_id": "7be81f576428439eba083a4cb859630d",
       "version_major": 2,
       "version_minor": 0
      },
      "text/plain": [
       "HBox(children=(IntProgress(value=0, max=108), HTML(value='')))"
      ]
     },
     "metadata": {},
     "output_type": "display_data"
    },
    {
     "name": "stdout",
     "output_type": "stream",
     "text": [
      "Loss 0.40786606073379517\n",
      "Loss 0.31696417927742004\n",
      "Loss 0.377921462059021\n",
      "Loss 0.6086967587471008\n",
      "========================\n",
      "Loss per epoch: 0.4235711693763733\n",
      "Example:\n",
      "\n",
      "> je suis gros .\n",
      "= i m fat . EOS _ _ _ _ _\n",
      "< i m fat .\n",
      "\n",
      "\n",
      "> c est un scientifique .\n",
      "= he is a mathematical genius . EOS _ _ _\n",
      "< he is a scientist .\n",
      "\n",
      "\n",
      "> nous sommes amies .\n",
      "= we re friends . EOS _ _ _ _ _\n",
      "< we re friends .\n",
      "\n",
      "\n",
      "> je suis en train de conduire .\n",
      "= i m going to get . EOS _ _ _\n",
      "< i m driving .\n",
      "\n",
      "\n",
      "> tu as presque raison .\n",
      "= you re right right right . EOS _ _ _\n",
      "< you re about right .\n",
      "\n",
      "\n",
      "================================\n",
      "Epoch: 33\n"
     ]
    },
    {
     "data": {
      "application/vnd.jupyter.widget-view+json": {
       "model_id": "2a9fe2f5c02d48a08818af838680da23",
       "version_major": 2,
       "version_minor": 0
      },
      "text/plain": [
       "HBox(children=(IntProgress(value=0, max=108), HTML(value='')))"
      ]
     },
     "metadata": {},
     "output_type": "display_data"
    },
    {
     "name": "stdout",
     "output_type": "stream",
     "text": [
      "Loss 0.3917480409145355\n",
      "Loss 0.29794785380363464\n",
      "Loss 0.3476254940032959\n",
      "Loss 0.4154069423675537\n",
      "========================\n",
      "Loss per epoch: 0.37794604897499084\n",
      "Example:\n",
      "\n",
      "> je suis gros .\n",
      "= i m stuck . EOS _ _ _ _ _\n",
      "< i m fat .\n",
      "\n",
      "\n",
      "> c est un scientifique .\n",
      "= he is a mathematical scientist . EOS _ _ _\n",
      "< he is a scientist .\n",
      "\n",
      "\n",
      "> nous sommes amies .\n",
      "= we re friends . EOS _ _ _ _ _\n",
      "< we re friends .\n",
      "\n",
      "\n",
      "> je suis en train de conduire .\n",
      "= i m getting to get . EOS _ _ _\n",
      "< i m driving .\n",
      "\n",
      "\n",
      "> tu as presque raison .\n",
      "= you re right right right . EOS _ _ _\n",
      "< you re about right .\n",
      "\n",
      "\n",
      "================================\n",
      "Epoch: 34\n"
     ]
    },
    {
     "data": {
      "application/vnd.jupyter.widget-view+json": {
       "model_id": "d9dee4d9986243ae81442a17f8c0f8e6",
       "version_major": 2,
       "version_minor": 0
      },
      "text/plain": [
       "HBox(children=(IntProgress(value=0, max=108), HTML(value='')))"
      ]
     },
     "metadata": {},
     "output_type": "display_data"
    },
    {
     "name": "stdout",
     "output_type": "stream",
     "text": [
      "Loss 0.4460071623325348\n",
      "Loss 0.2767294943332672\n",
      "Loss 0.3549381196498871\n",
      "Loss 0.4017915725708008\n",
      "========================\n",
      "Loss per epoch: 0.335326224565506\n",
      "Example:\n",
      "\n",
      "> je suis gros .\n",
      "= i m fat . EOS _ _ _ _ _\n",
      "< i m fat .\n",
      "\n",
      "\n",
      "> c est un scientifique .\n",
      "= he is a scientist . . EOS _ _ _\n",
      "< he is a scientist .\n",
      "\n",
      "\n",
      "> nous sommes amies .\n",
      "= we re friends . EOS _ _ _ _ _\n",
      "< we re friends .\n",
      "\n",
      "\n",
      "> je suis en train de conduire .\n",
      "= i am going to get . EOS _ _ _\n",
      "< i m driving .\n",
      "\n",
      "\n",
      "> tu as presque raison .\n",
      "= you re almost right right . EOS _ _ _\n",
      "< you re about right .\n",
      "\n",
      "\n",
      "================================\n",
      "Epoch: 35\n"
     ]
    },
    {
     "data": {
      "application/vnd.jupyter.widget-view+json": {
       "model_id": "f9e7cb77f566484f8ab5728fd7c78814",
       "version_major": 2,
       "version_minor": 0
      },
      "text/plain": [
       "HBox(children=(IntProgress(value=0, max=108), HTML(value='')))"
      ]
     },
     "metadata": {},
     "output_type": "display_data"
    },
    {
     "name": "stdout",
     "output_type": "stream",
     "text": [
      "Loss 0.42313775420188904\n",
      "Loss 0.18551886081695557\n",
      "Loss 0.3671933710575104\n",
      "Loss 0.3823480010032654\n",
      "========================\n",
      "Loss per epoch: 0.2938053607940674\n",
      "Example:\n",
      "\n",
      "> je suis gros .\n",
      "= i m fat . EOS _ _ _ _ _\n",
      "< i m fat .\n",
      "\n",
      "\n",
      "> c est un scientifique .\n",
      "= he is a mathematical genius . EOS _ _ _\n",
      "< he is a scientist .\n",
      "\n",
      "\n",
      "> nous sommes amies .\n",
      "= we re friends . EOS _ _ _ _ _\n",
      "< we re friends .\n",
      "\n",
      "\n",
      "> je suis en train de conduire .\n",
      "= i m getting . . . EOS _ _ _\n",
      "< i m driving .\n",
      "\n",
      "\n",
      "> tu as presque raison .\n",
      "= you re right right right . EOS _ _ _\n",
      "< you re about right .\n",
      "\n",
      "\n",
      "================================\n",
      "Epoch: 36\n"
     ]
    },
    {
     "data": {
      "application/vnd.jupyter.widget-view+json": {
       "model_id": "5f3a507870d643c884267b67858e80e2",
       "version_major": 2,
       "version_minor": 0
      },
      "text/plain": [
       "HBox(children=(IntProgress(value=0, max=108), HTML(value='')))"
      ]
     },
     "metadata": {},
     "output_type": "display_data"
    },
    {
     "name": "stdout",
     "output_type": "stream",
     "text": [
      "Loss 0.32524192333221436\n",
      "Loss 0.1555938422679901\n",
      "Loss 0.2430633306503296\n",
      "Loss 0.32945874333381653\n",
      "========================\n",
      "Loss per epoch: 0.25955483317375183\n",
      "Example:\n",
      "\n",
      "> je suis gros .\n",
      "= i m fat . EOS _ _ _ _ _\n",
      "< i m fat .\n",
      "\n",
      "\n",
      "> c est un scientifique .\n",
      "= he is a mathematical genius . EOS _ _ _\n",
      "< he is a scientist .\n",
      "\n",
      "\n",
      "> nous sommes amies .\n",
      "= we re friends . EOS _ _ _ _ _\n",
      "< we re friends .\n",
      "\n",
      "\n",
      "> je suis en train de conduire .\n",
      "= i m going to get . EOS _ _ _\n",
      "< i m driving .\n",
      "\n",
      "\n",
      "> tu as presque raison .\n",
      "= you re almost right . EOS _ _ _ _\n",
      "< you re about right .\n",
      "\n",
      "\n",
      "================================\n",
      "Epoch: 37\n"
     ]
    },
    {
     "data": {
      "application/vnd.jupyter.widget-view+json": {
       "model_id": "4f6abb9f70ee49f1b19a3dfecd641fd5",
       "version_major": 2,
       "version_minor": 0
      },
      "text/plain": [
       "HBox(children=(IntProgress(value=0, max=108), HTML(value='')))"
      ]
     },
     "metadata": {},
     "output_type": "display_data"
    },
    {
     "name": "stdout",
     "output_type": "stream",
     "text": [
      "Loss 0.25091439485549927\n",
      "Loss 0.12063122540712357\n",
      "Loss 0.19824109971523285\n",
      "Loss 0.28270405530929565\n",
      "========================\n",
      "Loss per epoch: 0.23243795335292816\n",
      "Example:\n",
      "\n",
      "> je suis gros .\n",
      "= i m fat . EOS _ _ _ _ _\n",
      "< i m fat .\n",
      "\n",
      "\n",
      "> c est un scientifique .\n",
      "= he is a scientist . EOS _ _ _ _\n",
      "< he is a scientist .\n",
      "\n",
      "\n",
      "> nous sommes amies .\n",
      "= we re friends . EOS _ _ _ _ _\n",
      "< we re friends .\n",
      "\n",
      "\n",
      "> je suis en train de conduire .\n",
      "= i m going to EOS . EOS _ _ _\n",
      "< i m driving .\n",
      "\n",
      "\n",
      "> tu as presque raison .\n",
      "= you re almost right right . EOS _ _ _\n",
      "< you re about right .\n",
      "\n",
      "\n",
      "================================\n",
      "Epoch: 38\n"
     ]
    },
    {
     "data": {
      "application/vnd.jupyter.widget-view+json": {
       "model_id": "f54f08267f6c4c1a85405bccfb7b94e2",
       "version_major": 2,
       "version_minor": 0
      },
      "text/plain": [
       "HBox(children=(IntProgress(value=0, max=108), HTML(value='')))"
      ]
     },
     "metadata": {},
     "output_type": "display_data"
    },
    {
     "name": "stdout",
     "output_type": "stream",
     "text": [
      "Loss 0.2600648105144501\n",
      "Loss 0.19470494985580444\n",
      "Loss 0.13638757169246674\n",
      "Loss 0.2524903118610382\n",
      "========================\n",
      "Loss per epoch: 0.20569764077663422\n",
      "Example:\n",
      "\n",
      "> je suis gros .\n",
      "= i m fat . EOS _ _ _ _ _\n",
      "< i m fat .\n",
      "\n",
      "\n",
      "> c est un scientifique .\n",
      "= he is a mathematical genius . EOS _ _ _\n",
      "< he is a scientist .\n",
      "\n",
      "\n",
      "> nous sommes amies .\n",
      "= we re friends . EOS _ _ _ _ _\n",
      "< we re friends .\n",
      "\n",
      "\n",
      "> je suis en train de conduire .\n",
      "= i m going to EOS . EOS _ _ _\n",
      "< i m driving .\n",
      "\n",
      "\n",
      "> tu as presque raison .\n",
      "= you re right right right . EOS _ _ _\n",
      "< you re about right .\n",
      "\n",
      "\n",
      "================================\n",
      "Epoch: 39\n"
     ]
    },
    {
     "data": {
      "application/vnd.jupyter.widget-view+json": {
       "model_id": "3552281123464e09a5b94782cd9cac47",
       "version_major": 2,
       "version_minor": 0
      },
      "text/plain": [
       "HBox(children=(IntProgress(value=0, max=108), HTML(value='')))"
      ]
     },
     "metadata": {},
     "output_type": "display_data"
    },
    {
     "name": "stdout",
     "output_type": "stream",
     "text": [
      "Loss 0.1932673305273056\n",
      "Loss 0.16346164047718048\n",
      "Loss 0.2081863284111023\n",
      "Loss 0.1726379096508026\n",
      "========================\n",
      "Loss per epoch: 0.18129579722881317\n",
      "Example:\n",
      "\n",
      "> je suis gros .\n",
      "= i m fat . EOS _ _ _ _ _\n",
      "< i m fat .\n",
      "\n",
      "\n",
      "> c est un scientifique .\n",
      "= he is a mathematical scientist . EOS _ _ _\n",
      "< he is a scientist .\n",
      "\n",
      "\n",
      "> nous sommes amies .\n",
      "= we re friends . EOS _ _ _ _ _\n",
      "< we re friends .\n",
      "\n",
      "\n",
      "> je suis en train de conduire .\n",
      "= i m going to EOS . EOS _ _ _\n",
      "< i m driving .\n",
      "\n",
      "\n",
      "> tu as presque raison .\n",
      "= you re almost right . EOS _ _ _ _\n",
      "< you re about right .\n",
      "\n",
      "\n"
     ]
    }
   ],
   "source": [
    "seq2seq.train(dataset, epochs=40)"
   ]
  },
  {
   "cell_type": "markdown",
   "metadata": {},
   "source": [
    "Теперь попробуем перевести с помощью нашей обученной модели какие-нибудь фразы не из датасета.\n",
    "Взял из головы и перевел в Яндекс.Переводчик'е"
   ]
  },
  {
   "cell_type": "code",
   "execution_count": 178,
   "metadata": {},
   "outputs": [
    {
     "data": {
      "text/plain": [
       "'i am happy the around this . EOS _ _'"
      ]
     },
     "execution_count": 178,
     "metadata": {},
     "output_type": "execute_result"
    }
   ],
   "source": [
    "seq2seq.predict_by_phrase('je suis heureux de la fortune') # я счастлив от удачи"
   ]
  },
  {
   "cell_type": "code",
   "execution_count": 181,
   "metadata": {},
   "outputs": [
    {
     "data": {
      "text/plain": [
       "'i m going to go out day . EOS _'"
      ]
     },
     "execution_count": 181,
     "metadata": {},
     "output_type": "execute_result"
    }
   ],
   "source": [
    "seq2seq.predict_by_phrase('je vais aller nager') # я собираюсь пойти плавать"
   ]
  },
  {
   "cell_type": "code",
   "execution_count": 183,
   "metadata": {},
   "outputs": [
    {
     "data": {
      "text/plain": [
       "'we re going to eat . EOS _ _ _'"
      ]
     },
     "execution_count": 183,
     "metadata": {},
     "output_type": "execute_result"
    }
   ],
   "source": [
    "seq2seq.predict_by_phrase('nous allons manger') # мы будем кушать"
   ]
  },
  {
   "cell_type": "markdown",
   "metadata": {},
   "source": [
    "По-моему первые результаты получились неплохие при том что модель по сути просто seq2seq с эмбеддингами.\n",
    "\n",
    "Эту модель я строил по факту как бейзлайн, поэтому вот что хотел бы изменить и добавить:\n",
    " - добавить attention\n",
    " - взять другой датасет\n",
    " - добавить dropout\n",
    " - сделать из этой модели чатбота, я предусмотрел там возможность использования одной матрицы эмбеддингов для энкодера и декодера, тут это не применимо так как два разных словаря, но в случае с чатботом язык будет один и соответственно такая ситуация возможна, в результате матрица эмбеддингов должна будет обучаться быстрее и качественее\n",
    " - сейчас у меня лосс считается по всей возможной длине последовательностей слов в батчах, не учитывая разные длины предложений и хотя такой подход работает, я бы хотел это доработать"
   ]
  },
  {
   "cell_type": "markdown",
   "metadata": {},
   "source": [
    "**Очень интересный результат получился на 36 эпохе при обучении\n",
    "\n",
    ">\\> c est un scientifique .<br /> \n",
    "= he is a mathematical genius . EOS _ _ _<br /> \n",
    "< he is a scientist ."
   ]
  }
 ],
 "metadata": {
  "kernelspec": {
   "display_name": "Python 3",
   "language": "python",
   "name": "python3"
  },
  "language_info": {
   "codemirror_mode": {
    "name": "ipython",
    "version": 3
   },
   "file_extension": ".py",
   "mimetype": "text/x-python",
   "name": "python",
   "nbconvert_exporter": "python",
   "pygments_lexer": "ipython3",
   "version": "3.6.5"
  }
 },
 "nbformat": 4,
 "nbformat_minor": 2
}
