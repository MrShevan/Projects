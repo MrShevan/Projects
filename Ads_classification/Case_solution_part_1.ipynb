{
 "cells": [
  {
   "attachments": {
    "image.png": {
     "image/png": "[encoded data removed]"
    }
   },
   "cell_type": "markdown",
   "metadata": {},
   "source": [
    "Решение кейса:\n",
    "![image.png](attachment:image.png)"
   ]
  },
  {
   "cell_type": "markdown",
   "metadata": {},
   "source": [
    "Решение разделено на следующие этапы:\n",
    "\n",
    "-импорт данных и первичную обработку\n",
    "\n",
    "-обработку текста\n",
    "\n",
    "-построение и отбор модели\n",
    "\n",
    "-проверка Accuracy на разных уровнях иерархии\n",
    "\n",
    "-применение модели на тестовой выборке"
   ]
  },
  {
   "cell_type": "markdown",
   "metadata": {},
   "source": [
    "Код оформлялся в Python 3.x"
   ]
  },
  {
   "cell_type": "markdown",
   "metadata": {},
   "source": [
    "# Импорт данных и первичная обработка"
   ]
  },
  {
   "cell_type": "code",
   "execution_count": 1,
   "metadata": {
    "collapsed": true
   },
   "outputs": [],
   "source": [
    "import pandas as pd\n",
    "import numpy as np"
   ]
  },
  {
   "cell_type": "code",
   "execution_count": 159,
   "metadata": {},
   "outputs": [
    {
     "data": {
      "text/html": [
       "<div>\n",
       "<style>\n",
       "    .dataframe thead tr:only-child th {\n",
       "        text-align: right;\n",
       "    }\n",
       "\n",
       "    .dataframe thead th {\n",
       "        text-align: left;\n",
       "    }\n",
       "\n",
       "    .dataframe tbody tr th {\n",
       "        vertical-align: top;\n",
       "    }\n",
       "</style>\n",
       "<table border=\"1\" class=\"dataframe\">\n",
       "  <thead>\n",
       "    <tr style=\"text-align: right;\">\n",
       "      <th></th>\n",
       "      <th>item_id</th>\n",
       "      <th>title</th>\n",
       "      <th>description</th>\n",
       "      <th>price</th>\n",
       "    </tr>\n",
       "  </thead>\n",
       "  <tbody>\n",
       "    <tr>\n",
       "      <th>0</th>\n",
       "      <td>489517</td>\n",
       "      <td>Стоик журнальный сталь</td>\n",
       "      <td>продам журнальный столик изготавливаю столы из...</td>\n",
       "      <td>10000.0</td>\n",
       "    </tr>\n",
       "    <tr>\n",
       "      <th>1</th>\n",
       "      <td>489518</td>\n",
       "      <td>iPhone 5 64Gb</td>\n",
       "      <td>Телефон в хорошем состоянии. Комплект, гаранти...</td>\n",
       "      <td>12500.0</td>\n",
       "    </tr>\n",
       "    <tr>\n",
       "      <th>2</th>\n",
       "      <td>489519</td>\n",
       "      <td>Утеплитель</td>\n",
       "      <td>ТЕПЛОПЕЛЕН-ЛИДЕР ТЕПЛА!!! Толщина утеплителя :...</td>\n",
       "      <td>250.0</td>\n",
       "    </tr>\n",
       "    <tr>\n",
       "      <th>3</th>\n",
       "      <td>489520</td>\n",
       "      <td>Пальто демисезонное</td>\n",
       "      <td>Продам пальто женское (букле) в отличном состо...</td>\n",
       "      <td>1700.0</td>\n",
       "    </tr>\n",
       "    <tr>\n",
       "      <th>4</th>\n",
       "      <td>489521</td>\n",
       "      <td>Samsung syncmaster T200N</td>\n",
       "      <td>Условно рабочий, проблема в панели настройки м...</td>\n",
       "      <td>1000.0</td>\n",
       "    </tr>\n",
       "    <tr>\n",
       "      <th>5</th>\n",
       "      <td>489522</td>\n",
       "      <td>Дверь Profil Doors Х21</td>\n",
       "      <td>Дверь межкомнатная ProfilDoors 21Х. Серия Х пр...</td>\n",
       "      <td>6600.0</td>\n",
       "    </tr>\n",
       "    <tr>\n",
       "      <th>6</th>\n",
       "      <td>489523</td>\n",
       "      <td>Новый Cort CR100 в отличном состоянии, с коробкой</td>\n",
       "      <td>Доброго времени суток, Томичи. Срочно нужны де...</td>\n",
       "      <td>13900.0</td>\n",
       "    </tr>\n",
       "    <tr>\n",
       "      <th>7</th>\n",
       "      <td>489524</td>\n",
       "      <td>Кресла</td>\n",
       "      <td>Продаются 2кресла в хорошем состоянии за два 600</td>\n",
       "      <td>600.0</td>\n",
       "    </tr>\n",
       "    <tr>\n",
       "      <th>8</th>\n",
       "      <td>489525</td>\n",
       "      <td>Сверх быстрый YotaPhone 2</td>\n",
       "      <td>Да , разбит дисплей , но когда экран работает ...</td>\n",
       "      <td>6000.0</td>\n",
       "    </tr>\n",
       "    <tr>\n",
       "      <th>9</th>\n",
       "      <td>489526</td>\n",
       "      <td>Люстра ArteLamp medici A9468LM-5BR</td>\n",
       "      <td>ВНИМАНИЕ РАСПРОДАЖА !!!! Люстра ArteLamp MEDIC...</td>\n",
       "      <td>3650.0</td>\n",
       "    </tr>\n",
       "  </tbody>\n",
       "</table>\n",
       "</div>"
      ],
      "text/plain": [
       "   item_id                                              title  \\\n",
       "0   489517                             Стоик журнальный сталь   \n",
       "1   489518                                      iPhone 5 64Gb   \n",
       "2   489519                                         Утеплитель   \n",
       "3   489520                                Пальто демисезонное   \n",
       "4   489521                           Samsung syncmaster T200N   \n",
       "5   489522                             Дверь Profil Doors Х21   \n",
       "6   489523  Новый Cort CR100 в отличном состоянии, с коробкой   \n",
       "7   489524                                             Кресла   \n",
       "8   489525                          Сверх быстрый YotaPhone 2   \n",
       "9   489526                 Люстра ArteLamp medici A9468LM-5BR   \n",
       "\n",
       "                                         description    price  \n",
       "0  продам журнальный столик изготавливаю столы из...  10000.0  \n",
       "1  Телефон в хорошем состоянии. Комплект, гаранти...  12500.0  \n",
       "2  ТЕПЛОПЕЛЕН-ЛИДЕР ТЕПЛА!!! Толщина утеплителя :...    250.0  \n",
       "3  Продам пальто женское (букле) в отличном состо...   1700.0  \n",
       "4  Условно рабочий, проблема в панели настройки м...   1000.0  \n",
       "5  Дверь межкомнатная ProfilDoors 21Х. Серия Х пр...   6600.0  \n",
       "6  Доброго времени суток, Томичи. Срочно нужны де...  13900.0  \n",
       "7   Продаются 2кресла в хорошем состоянии за два 600    600.0  \n",
       "8  Да , разбит дисплей , но когда экран работает ...   6000.0  \n",
       "9  ВНИМАНИЕ РАСПРОДАЖА !!!! Люстра ArteLamp MEDIC...   3650.0  "
      ]
     },
     "execution_count": 159,
     "metadata": {},
     "output_type": "execute_result"
    }
   ],
   "source": [
    "data = pd.read_csv('test.csv')\n",
    "data.head(10)"
   ]
  },
  {
   "cell_type": "markdown",
   "metadata": {},
   "source": [
    "Объединим текстовые поля в одну колонку, информацию мы не потеряем, но когда будем использовать Countvectorizer, то это позволит уменьшить размерность, так как иначе для одного и того же слова будет создаваться компонента вектора для tittle и для description"
   ]
  },
  {
   "cell_type": "code",
   "execution_count": 160,
   "metadata": {
    "collapsed": true
   },
   "outputs": [],
   "source": [
    "Text = data['title'] + ' ' + data['description']"
   ]
  },
  {
   "cell_type": "code",
   "execution_count": 161,
   "metadata": {
    "collapsed": true
   },
   "outputs": [],
   "source": [
    "df = pd.concat([data['item_id'], Text, data['price']], axis = 1)"
   ]
  },
  {
   "cell_type": "code",
   "execution_count": 10,
   "metadata": {},
   "outputs": [
    {
     "data": {
      "text/html": [
       "<div>\n",
       "<style>\n",
       "    .dataframe thead tr:only-child th {\n",
       "        text-align: right;\n",
       "    }\n",
       "\n",
       "    .dataframe thead th {\n",
       "        text-align: left;\n",
       "    }\n",
       "\n",
       "    .dataframe tbody tr th {\n",
       "        vertical-align: top;\n",
       "    }\n",
       "</style>\n",
       "<table border=\"1\" class=\"dataframe\">\n",
       "  <thead>\n",
       "    <tr style=\"text-align: right;\">\n",
       "      <th></th>\n",
       "      <th>item_id</th>\n",
       "      <th>0</th>\n",
       "      <th>price</th>\n",
       "    </tr>\n",
       "  </thead>\n",
       "  <tbody>\n",
       "    <tr>\n",
       "      <th>0</th>\n",
       "      <td>489517</td>\n",
       "      <td>Стоик журнальный сталь продам журнальный столи...</td>\n",
       "      <td>10000.0</td>\n",
       "    </tr>\n",
       "    <tr>\n",
       "      <th>1</th>\n",
       "      <td>489518</td>\n",
       "      <td>iPhone 5 64Gb Телефон в хорошем состоянии. Ком...</td>\n",
       "      <td>12500.0</td>\n",
       "    </tr>\n",
       "    <tr>\n",
       "      <th>2</th>\n",
       "      <td>489519</td>\n",
       "      <td>Утеплитель ТЕПЛОПЕЛЕН-ЛИДЕР ТЕПЛА!!! Толщина у...</td>\n",
       "      <td>250.0</td>\n",
       "    </tr>\n",
       "    <tr>\n",
       "      <th>3</th>\n",
       "      <td>489520</td>\n",
       "      <td>Пальто демисезонное Продам пальто женское (бук...</td>\n",
       "      <td>1700.0</td>\n",
       "    </tr>\n",
       "    <tr>\n",
       "      <th>4</th>\n",
       "      <td>489521</td>\n",
       "      <td>Samsung syncmaster T200N Условно рабочий, проб...</td>\n",
       "      <td>1000.0</td>\n",
       "    </tr>\n",
       "    <tr>\n",
       "      <th>5</th>\n",
       "      <td>489522</td>\n",
       "      <td>Дверь Profil Doors Х21 Дверь межкомнатная Prof...</td>\n",
       "      <td>6600.0</td>\n",
       "    </tr>\n",
       "    <tr>\n",
       "      <th>6</th>\n",
       "      <td>489523</td>\n",
       "      <td>Новый Cort CR100 в отличном состоянии, с короб...</td>\n",
       "      <td>13900.0</td>\n",
       "    </tr>\n",
       "    <tr>\n",
       "      <th>7</th>\n",
       "      <td>489524</td>\n",
       "      <td>Кресла Продаются 2кресла в хорошем состоянии з...</td>\n",
       "      <td>600.0</td>\n",
       "    </tr>\n",
       "    <tr>\n",
       "      <th>8</th>\n",
       "      <td>489525</td>\n",
       "      <td>Сверх быстрый YotaPhone 2 Да , разбит дисплей ...</td>\n",
       "      <td>6000.0</td>\n",
       "    </tr>\n",
       "    <tr>\n",
       "      <th>9</th>\n",
       "      <td>489526</td>\n",
       "      <td>Люстра ArteLamp medici A9468LM-5BR ВНИМАНИЕ РА...</td>\n",
       "      <td>3650.0</td>\n",
       "    </tr>\n",
       "  </tbody>\n",
       "</table>\n",
       "</div>"
      ],
      "text/plain": [
       "   item_id                                                  0    price\n",
       "0   489517  Стоик журнальный сталь продам журнальный столи...  10000.0\n",
       "1   489518  iPhone 5 64Gb Телефон в хорошем состоянии. Ком...  12500.0\n",
       "2   489519  Утеплитель ТЕПЛОПЕЛЕН-ЛИДЕР ТЕПЛА!!! Толщина у...    250.0\n",
       "3   489520  Пальто демисезонное Продам пальто женское (бук...   1700.0\n",
       "4   489521  Samsung syncmaster T200N Условно рабочий, проб...   1000.0\n",
       "5   489522  Дверь Profil Doors Х21 Дверь межкомнатная Prof...   6600.0\n",
       "6   489523  Новый Cort CR100 в отличном состоянии, с короб...  13900.0\n",
       "7   489524  Кресла Продаются 2кресла в хорошем состоянии з...    600.0\n",
       "8   489525  Сверх быстрый YotaPhone 2 Да , разбит дисплей ...   6000.0\n",
       "9   489526  Люстра ArteLamp medici A9468LM-5BR ВНИМАНИЕ РА...   3650.0"
      ]
     },
     "execution_count": 10,
     "metadata": {},
     "output_type": "execute_result"
    }
   ],
   "source": [
    "df.head(10)"
   ]
  },
  {
   "cell_type": "markdown",
   "metadata": {},
   "source": [
    "# Обработка текста"
   ]
  },
  {
   "cell_type": "code",
   "execution_count": 13,
   "metadata": {},
   "outputs": [
    {
     "name": "stdout",
     "output_type": "stream",
     "text": [
      "[nltk_data] Downloading package stopwords to\n",
      "[nltk_data]     C:\\Users\\Антон\\AppData\\Roaming\\nltk_data...\n",
      "[nltk_data]   Unzipping corpora\\stopwords.zip.\n"
     ]
    },
    {
     "data": {
      "text/plain": [
       "True"
      ]
     },
     "execution_count": 13,
     "metadata": {},
     "output_type": "execute_result"
    }
   ],
   "source": [
    "import re\n",
    "import pymorphy2\n",
    "from nltk.corpus import stopwords\n",
    "from nltk.tokenize import sent_tokenize, word_tokenize\n",
    "import nltk\n",
    "nltk.download('stopwords')"
   ]
  },
  {
   "cell_type": "markdown",
   "metadata": {},
   "source": [
    "Оставим лишь буквы руского и английского алфавита, приведем к нижнему регистру"
   ]
  },
  {
   "cell_type": "code",
   "execution_count": 14,
   "metadata": {
    "collapsed": true
   },
   "outputs": [],
   "source": [
    "def deleteExtraSymbols(line):\n",
    "    return re.sub(' +',' ', re.sub(u'[^А-Яа-яA-Za-z ]', u' ', line).lower().rstrip().strip())"
   ]
  },
  {
   "cell_type": "code",
   "execution_count": 15,
   "metadata": {
    "collapsed": true
   },
   "outputs": [],
   "source": [
    "df[0] = df[0].apply(deleteExtraSymbols)"
   ]
  },
  {
   "cell_type": "code",
   "execution_count": 16,
   "metadata": {},
   "outputs": [
    {
     "data": {
      "text/plain": [
       "0    стоик журнальный сталь продам журнальный столи...\n",
       "1    iphone gb телефон в хорошем состоянии комплект...\n",
       "2    утеплитель теплопелен лидер тепла толщина утеп...\n",
       "3    пальто демисезонное продам пальто женское букл...\n",
       "4    samsung syncmaster t n условно рабочий проблем...\n",
       "5    дверь profil doors х дверь межкомнатная profil...\n",
       "6    новый cort cr в отличном состоянии с коробкой ...\n",
       "7    кресла продаются кресла в хорошем состоянии за...\n",
       "8    сверх быстрый yotaphone да разбит дисплей но к...\n",
       "9    люстра artelamp medici a lm br внимание распро...\n",
       "Name: 0, dtype: object"
      ]
     },
     "execution_count": 16,
     "metadata": {},
     "output_type": "execute_result"
    }
   ],
   "source": [
    "df[0].head(10)"
   ]
  },
  {
   "cell_type": "markdown",
   "metadata": {},
   "source": [
    "Продолжим обрабатывать текст, используем лемматизацию"
   ]
  },
  {
   "cell_type": "code",
   "execution_count": 17,
   "metadata": {
    "collapsed": true
   },
   "outputs": [],
   "source": [
    "morph = pymorphy2.MorphAnalyzer()"
   ]
  },
  {
   "cell_type": "code",
   "execution_count": 18,
   "metadata": {
    "collapsed": true
   },
   "outputs": [],
   "source": [
    "def lemmatization(line):\n",
    "    result = []\n",
    "    for word in line.split():\n",
    "        result.append(morph.parse(word)[0].normal_form)               \n",
    "    return ' '.join(result)"
   ]
  },
  {
   "cell_type": "code",
   "execution_count": 19,
   "metadata": {
    "collapsed": true
   },
   "outputs": [],
   "source": [
    "df[0] = df[0].apply(lemmatization)"
   ]
  },
  {
   "cell_type": "code",
   "execution_count": 20,
   "metadata": {},
   "outputs": [
    {
     "data": {
      "text/plain": [
       "0    стоик журнальный сталь продать журнальный стол...\n",
       "1    iphone gb телефон в хороший состояние комплект...\n",
       "2    утеплитель теплопелена лидер тепло толщина уте...\n",
       "3    пальто демисезонный продать пальто женский бук...\n",
       "4    samsung syncmaster t n условно рабочий проблем...\n",
       "5    дверь profil doors х дверь межкомнатный profil...\n",
       "6    новый cort cr в отличный состояние с коробка д...\n",
       "7    кресло продаваться кресло в хороший состояние ...\n",
       "8    сверх быстрый yotaphone да разбитый дисплей но...\n",
       "9    люстра artelamp medici a lm br внимание распро...\n",
       "Name: 0, dtype: object"
      ]
     },
     "execution_count": 20,
     "metadata": {},
     "output_type": "execute_result"
    }
   ],
   "source": [
    "df[0].head(10)"
   ]
  },
  {
   "cell_type": "markdown",
   "metadata": {},
   "source": [
    "Уберем стоп-слова"
   ]
  },
  {
   "cell_type": "code",
   "execution_count": 21,
   "metadata": {
    "collapsed": true
   },
   "outputs": [],
   "source": [
    "def stopword(line):\n",
    "    stopWords = set(stopwords.words('russian'))\n",
    "    wordsFiltered = []\n",
    "\n",
    "    for w in line.split():\n",
    "        if w not in stopWords:\n",
    "            wordsFiltered.append(w)\n",
    "    return' '.join(wordsFiltered)"
   ]
  },
  {
   "cell_type": "code",
   "execution_count": 22,
   "metadata": {
    "collapsed": true
   },
   "outputs": [],
   "source": [
    "df[0] = df[0].apply(stopword)"
   ]
  },
  {
   "cell_type": "code",
   "execution_count": 23,
   "metadata": {},
   "outputs": [
    {
     "data": {
      "text/plain": [
       "0    стоик журнальный сталь продать журнальный стол...\n",
       "1    iphone gb телефон хороший состояние комплект г...\n",
       "2    утеплитель теплопелена лидер тепло толщина уте...\n",
       "3    пальто демисезонный продать пальто женский бук...\n",
       "4    samsung syncmaster t n условно рабочий проблем...\n",
       "5    дверь profil doors х дверь межкомнатный profil...\n",
       "6    новый cort cr отличный состояние коробка добры...\n",
       "7          кресло продаваться кресло хороший состояние\n",
       "8    сверх быстрый yotaphone разбитый дисплей экран...\n",
       "9    люстра artelamp medici a lm br внимание распро...\n",
       "Name: 0, dtype: object"
      ]
     },
     "execution_count": 23,
     "metadata": {},
     "output_type": "execute_result"
    }
   ],
   "source": [
    "df[0].head(10)"
   ]
  },
  {
   "cell_type": "markdown",
   "metadata": {},
   "source": [
    "Сохраню промежуточный результат"
   ]
  },
  {
   "cell_type": "code",
   "execution_count": 28,
   "metadata": {
    "collapsed": true
   },
   "outputs": [],
   "source": [
    "df.to_csv('case_out.csv', encoding='utf_8')"
   ]
  },
  {
   "cell_type": "code",
   "execution_count": 29,
   "metadata": {
    "collapsed": true
   },
   "outputs": [],
   "source": [
    "df = pd.read_csv('case_out.csv')"
   ]
  },
  {
   "cell_type": "markdown",
   "metadata": {},
   "source": [
    "Имеет смысл объединять словосочетания, которые часто встречаются. Это может помочь, например, для учета компьютерных игр, \n",
    "или для объединения слов, которые кто-то пишет слитно, а кто то раздельно, например, 'x box' и 'xbox'"
   ]
  },
  {
   "cell_type": "code",
   "execution_count": 30,
   "metadata": {
    "collapsed": true
   },
   "outputs": [],
   "source": [
    "pair_words_frequency = dict()\n",
    "\n",
    "for s in df['0']:\n",
    "    for i in range(len(s.split())-1):\n",
    "        pair = s.split()[i] + '_' + s.split()[i+1]\n",
    "        if pair in pair_words_frequency:\n",
    "            pair_words_frequency[pair] += 1\n",
    "        else:\n",
    "            pair_words_frequency[pair] = 1"
   ]
  },
  {
   "cell_type": "code",
   "execution_count": 31,
   "metadata": {
    "collapsed": true
   },
   "outputs": [],
   "source": [
    "def collocation(s):\n",
    "    line = []\n",
    "    for i in range(len(s.split()) - 1):\n",
    "        pair1 = s.split()[i] + '_' + s.split()[i+1]\n",
    "        a = pair_words_frequency.get(pair1)\n",
    "        if a > 300:\n",
    "            line.append(pair1)\n",
    "            line.append(s.split()[i]) # будут рассматриваться как отдельные слова \n",
    "        else:\n",
    "            line.append(s.split()[i])\n",
    "    return' '.join(line)"
   ]
  },
  {
   "cell_type": "code",
   "execution_count": 32,
   "metadata": {
    "collapsed": true
   },
   "outputs": [],
   "source": [
    "df['0'] = df['0'].apply(collocation)"
   ]
  },
  {
   "cell_type": "code",
   "execution_count": 33,
   "metadata": {},
   "outputs": [
    {
     "data": {
      "text/plain": [
       "0    стоик журнальный сталь продать журнальный_стол...\n",
       "1    iphone_gb iphone gb телефон_хороший телефон хо...\n",
       "2    утеплитель теплопелена лидер тепло толщина уте...\n",
       "3    пальто демисезонный продать пальто женский бук...\n",
       "4    samsung_syncmaster samsung syncmaster t n усло...\n",
       "Name: 0, dtype: object"
      ]
     },
     "execution_count": 33,
     "metadata": {},
     "output_type": "execute_result"
    }
   ],
   "source": [
    "df['0'].head()"
   ]
  },
  {
   "cell_type": "code",
   "execution_count": 34,
   "metadata": {
    "collapsed": true
   },
   "outputs": [],
   "source": [
    "df.to_csv('case_out_collocation.csv')"
   ]
  },
  {
   "cell_type": "markdown",
   "metadata": {},
   "source": [
    "В описаниях объявлений возможны многочисленные опечатки. Напишем функцию исправления опечаток и пременим ее ко всем словам в описаниях. "
   ]
  },
  {
   "cell_type": "markdown",
   "metadata": {},
   "source": [
    "Для начала создадим словарь, где ключами будут все слова наших текстов, а значениями - числа вхождений этих слов во все объявления."
   ]
  },
  {
   "cell_type": "code",
   "execution_count": 35,
   "metadata": {
    "collapsed": true
   },
   "outputs": [],
   "source": [
    "word_frequency_full = dict()\n",
    "\n",
    "for s in df['0']:\n",
    "    for word in s.split():\n",
    "        if word in word_frequency_full:\n",
    "            word_frequency_full[word] += 1\n",
    "        else:\n",
    "            word_frequency_full[word] = 1"
   ]
  },
  {
   "cell_type": "markdown",
   "metadata": {},
   "source": [
    "Примеры опечаток и их число в тексте:"
   ]
  },
  {
   "cell_type": "code",
   "execution_count": 36,
   "metadata": {},
   "outputs": [
    {
     "data": {
      "text/plain": [
       "1"
      ]
     },
     "execution_count": 36,
     "metadata": {},
     "output_type": "execute_result"
    }
   ],
   "source": [
    "word_frequency_full.get('пидаль')"
   ]
  },
  {
   "cell_type": "code",
   "execution_count": 44,
   "metadata": {},
   "outputs": [
    {
     "data": {
      "text/plain": [
       "1918"
      ]
     },
     "execution_count": 44,
     "metadata": {},
     "output_type": "execute_result"
    }
   ],
   "source": [
    "word_frequency_full.get('педаль')"
   ]
  },
  {
   "cell_type": "code",
   "execution_count": 45,
   "metadata": {},
   "outputs": [
    {
     "data": {
      "text/plain": [
       "31457"
      ]
     },
     "execution_count": 45,
     "metadata": {},
     "output_type": "execute_result"
    }
   ],
   "source": [
    "word_frequency_full.get('комплект')"
   ]
  },
  {
   "cell_type": "code",
   "execution_count": 46,
   "metadata": {},
   "outputs": [
    {
     "data": {
      "text/plain": [
       "10"
      ]
     },
     "execution_count": 46,
     "metadata": {},
     "output_type": "execute_result"
    }
   ],
   "source": [
    "word_frequency_full.get('камплект')"
   ]
  },
  {
   "cell_type": "markdown",
   "metadata": {},
   "source": [
    "Функция, возвращающая все слова, которые находятся на расстоянии одной правки от исходного слова:"
   ]
  },
  {
   "cell_type": "code",
   "execution_count": 37,
   "metadata": {
    "collapsed": true
   },
   "outputs": [],
   "source": [
    " def edits1(word):\n",
    "    alphabet = u'абвгдеёжзиклмнопрстуфхцчшщъыьэюяabcdefghijklmnopqrstuvwxyz'\n",
    "    splits = [(word[:i], word[i:]) for i in range(len(word) + 1)]\n",
    "    deletes = [a + b[1:] for a, b in splits if b]\n",
    "    transposes = [a + b[1] + b[0] + b[2:] for a, b in splits if len(b)>1]\n",
    "    replaces = [a + c + b[1:] for a, b in splits for c in alphabet if b]\n",
    "    inserts = [a + c + b     for a, b in splits for c in alphabet]\n",
    "    return list(set(deletes + transposes + replaces + inserts))"
   ]
  },
  {
   "cell_type": "markdown",
   "metadata": {},
   "source": [
    "На расстоянии 2 правок:"
   ]
  },
  {
   "cell_type": "code",
   "execution_count": 38,
   "metadata": {
    "collapsed": true
   },
   "outputs": [],
   "source": [
    "def edits2(word):\n",
    "    return list(set(e2 for e1 in edits1(word) for e2 in edits1(e1)))"
   ]
  },
  {
   "cell_type": "markdown",
   "metadata": {},
   "source": [
    "В функцию исправления опечаток передается слово, для него ищутся все возможные правильные варианты написания из всех слов которые есть в нашем тексте. Из всех вариантов выбирается наиболее встречающийся."
   ]
  },
  {
   "cell_type": "code",
   "execution_count": 39,
   "metadata": {
    "collapsed": true
   },
   "outputs": [],
   "source": [
    "def correct(word): \n",
    "    vocab = word_frequency_full\n",
    "    \n",
    "    candidates = filter(lambda x: x in vocab, edits1(word)) or filter(lambda x: x in vocab, edits2(word))\n",
    "    try:\n",
    "        a = max(candidates, key=vocab.get)\n",
    "    except:\n",
    "        a = word\n",
    "    return a"
   ]
  },
  {
   "cell_type": "code",
   "execution_count": 47,
   "metadata": {},
   "outputs": [
    {
     "data": {
      "text/plain": [
       "'комплект'"
      ]
     },
     "execution_count": 47,
     "metadata": {},
     "output_type": "execute_result"
    }
   ],
   "source": [
    "correct('камплект')"
   ]
  },
  {
   "cell_type": "code",
   "execution_count": 48,
   "metadata": {},
   "outputs": [
    {
     "data": {
      "text/plain": [
       "'комплект'"
      ]
     },
     "execution_count": 48,
     "metadata": {},
     "output_type": "execute_result"
    }
   ],
   "source": [
    "correct('комплект')"
   ]
  },
  {
   "cell_type": "code",
   "execution_count": 49,
   "metadata": {},
   "outputs": [
    {
     "data": {
      "text/plain": [
       "'xbox'"
      ]
     },
     "execution_count": 49,
     "metadata": {},
     "output_type": "execute_result"
    }
   ],
   "source": [
    "correct('x_box')"
   ]
  },
  {
   "cell_type": "code",
   "execution_count": 56,
   "metadata": {},
   "outputs": [
    {
     "data": {
      "text/plain": [
       "'столик'"
      ]
     },
     "execution_count": 56,
     "metadata": {},
     "output_type": "execute_result"
    }
   ],
   "source": [
    "correct('стоик')"
   ]
  },
  {
   "cell_type": "code",
   "execution_count": 40,
   "metadata": {
    "collapsed": true
   },
   "outputs": [],
   "source": [
    "def wordcorrection(line):\n",
    "    wordsFilteredline = []\n",
    "    for w in line.split():\n",
    "        wordsFilteredline.append(correct(w))\n",
    "    return' '.join(wordsFilteredline)"
   ]
  },
  {
   "cell_type": "code",
   "execution_count": 41,
   "metadata": {
    "collapsed": true
   },
   "outputs": [],
   "source": [
    "df['0'] = df['0'].apply(wordcorrection)"
   ]
  },
  {
   "cell_type": "code",
   "execution_count": 50,
   "metadata": {
    "collapsed": true
   },
   "outputs": [],
   "source": [
    "df.to_csv('case_out_word_correction.csv', encoding = 'utf8')"
   ]
  },
  {
   "cell_type": "markdown",
   "metadata": {},
   "source": [
    "В объявлениях можно встретить слова, которые встречаются слишком часто, но при этом не несут смысла для определения класса к которому относятся. Например, слово 'состояние' и словосочетания с ним, как 'идеальное состояние' присутствует в разных объявлениях из разных иерархий и поэтому может только мешать классификатору"
   ]
  },
  {
   "cell_type": "code",
   "execution_count": 51,
   "metadata": {
    "collapsed": true
   },
   "outputs": [],
   "source": [
    "new_word_frequency = dict()\n",
    "\n",
    "for s in df['0']:\n",
    "    for word in s.split():\n",
    "        if word in new_word_frequency:\n",
    "            new_word_frequency[word] += 1\n",
    "        else:\n",
    "            new_word_frequency[word] = 1"
   ]
  },
  {
   "cell_type": "code",
   "execution_count": 52,
   "metadata": {
    "collapsed": true
   },
   "outputs": [],
   "source": [
    "new_word_frequency_selected = {word: frequency for word, frequency in new_word_frequency.items() if (frequency < 70000)}"
   ]
  },
  {
   "cell_type": "code",
   "execution_count": 53,
   "metadata": {
    "collapsed": true
   },
   "outputs": [],
   "source": [
    "def finalfilter(line):\n",
    "    wordsFiltered = []\n",
    "\n",
    "    for w in line.split():\n",
    "            if w in new_word_frequency_selected:\n",
    "                wordsFiltered.append(w)\n",
    "    return' '.join(wordsFiltered)"
   ]
  },
  {
   "cell_type": "code",
   "execution_count": 54,
   "metadata": {
    "collapsed": true
   },
   "outputs": [],
   "source": [
    "df['0'] = df['0'].apply(finalfilter)"
   ]
  },
  {
   "cell_type": "code",
   "execution_count": 55,
   "metadata": {
    "collapsed": true
   },
   "outputs": [],
   "source": [
    "df.to_csv('case_out_filter.csv', encoding = 'utf8')"
   ]
  },
  {
   "cell_type": "markdown",
   "metadata": {},
   "source": [
    "Заметим, что для построения модели колонка с ценами в объявлениях не используется из аналогичных сообажений о том, что так как одинаковые цены могут у разных товарах в разных иерархиях, то это может испортить модель."
   ]
  },
  {
   "cell_type": "code",
   "execution_count": 57,
   "metadata": {},
   "outputs": [
    {
     "data": {
      "text/html": [
       "<div>\n",
       "<style>\n",
       "    .dataframe thead tr:only-child th {\n",
       "        text-align: right;\n",
       "    }\n",
       "\n",
       "    .dataframe thead th {\n",
       "        text-align: left;\n",
       "    }\n",
       "\n",
       "    .dataframe tbody tr th {\n",
       "        vertical-align: top;\n",
       "    }\n",
       "</style>\n",
       "<table border=\"1\" class=\"dataframe\">\n",
       "  <thead>\n",
       "    <tr style=\"text-align: right;\">\n",
       "      <th></th>\n",
       "      <th>Unnamed: 0</th>\n",
       "      <th>item_id</th>\n",
       "      <th>0</th>\n",
       "      <th>price</th>\n",
       "    </tr>\n",
       "  </thead>\n",
       "  <tbody>\n",
       "    <tr>\n",
       "      <th>0</th>\n",
       "      <td>0</td>\n",
       "      <td>489517</td>\n",
       "      <td>столик журнальный стать продать журнальный_сто...</td>\n",
       "      <td>10000.0</td>\n",
       "    </tr>\n",
       "    <tr>\n",
       "      <th>1</th>\n",
       "      <td>1</td>\n",
       "      <td>489518</td>\n",
       "      <td>iphone_gb iphone gb телефон_хороший телефон хо...</td>\n",
       "      <td>12500.0</td>\n",
       "    </tr>\n",
       "    <tr>\n",
       "      <th>2</th>\n",
       "      <td>2</td>\n",
       "      <td>489519</td>\n",
       "      <td>утеплитель теплопелена лидер тело толщина утеп...</td>\n",
       "      <td>250.0</td>\n",
       "    </tr>\n",
       "    <tr>\n",
       "      <th>3</th>\n",
       "      <td>3</td>\n",
       "      <td>489520</td>\n",
       "      <td>пальто демисезонный продать пальто женский бук...</td>\n",
       "      <td>1700.0</td>\n",
       "    </tr>\n",
       "    <tr>\n",
       "      <th>4</th>\n",
       "      <td>4</td>\n",
       "      <td>489521</td>\n",
       "      <td>samsung_syncmaster samsung syncmaster словно р...</td>\n",
       "      <td>1000.0</td>\n",
       "    </tr>\n",
       "    <tr>\n",
       "      <th>5</th>\n",
       "      <td>5</td>\n",
       "      <td>489522</td>\n",
       "      <td>дверь profi door дверь_межкомнатный дверь межк...</td>\n",
       "      <td>6600.0</td>\n",
       "    </tr>\n",
       "    <tr>\n",
       "      <th>6</th>\n",
       "      <td>6</td>\n",
       "      <td>489523</td>\n",
       "      <td>новый core c отличный_состояние отличный состо...</td>\n",
       "      <td>13900.0</td>\n",
       "    </tr>\n",
       "    <tr>\n",
       "      <th>7</th>\n",
       "      <td>7</td>\n",
       "      <td>489524</td>\n",
       "      <td>кресло продаваться кресло хороший_состояние хо...</td>\n",
       "      <td>600.0</td>\n",
       "    </tr>\n",
       "    <tr>\n",
       "      <th>8</th>\n",
       "      <td>8</td>\n",
       "      <td>489525</td>\n",
       "      <td>верх быстрый yotaphone разбитый дисплей экран ...</td>\n",
       "      <td>6000.0</td>\n",
       "    </tr>\n",
       "    <tr>\n",
       "      <th>9</th>\n",
       "      <td>9</td>\n",
       "      <td>489526</td>\n",
       "      <td>люстра artelamp medica m b внимание распродажа...</td>\n",
       "      <td>3650.0</td>\n",
       "    </tr>\n",
       "  </tbody>\n",
       "</table>\n",
       "</div>"
      ],
      "text/plain": [
       "   Unnamed: 0  item_id                                                  0  \\\n",
       "0           0   489517  столик журнальный стать продать журнальный_сто...   \n",
       "1           1   489518  iphone_gb iphone gb телефон_хороший телефон хо...   \n",
       "2           2   489519  утеплитель теплопелена лидер тело толщина утеп...   \n",
       "3           3   489520  пальто демисезонный продать пальто женский бук...   \n",
       "4           4   489521  samsung_syncmaster samsung syncmaster словно р...   \n",
       "5           5   489522  дверь profi door дверь_межкомнатный дверь межк...   \n",
       "6           6   489523  новый core c отличный_состояние отличный состо...   \n",
       "7           7   489524  кресло продаваться кресло хороший_состояние хо...   \n",
       "8           8   489525  верх быстрый yotaphone разбитый дисплей экран ...   \n",
       "9           9   489526  люстра artelamp medica m b внимание распродажа...   \n",
       "\n",
       "     price  \n",
       "0  10000.0  \n",
       "1  12500.0  \n",
       "2    250.0  \n",
       "3   1700.0  \n",
       "4   1000.0  \n",
       "5   6600.0  \n",
       "6  13900.0  \n",
       "7    600.0  \n",
       "8   6000.0  \n",
       "9   3650.0  "
      ]
     },
     "execution_count": 57,
     "metadata": {},
     "output_type": "execute_result"
    }
   ],
   "source": [
    "df.head(10)"
   ]
  },
  {
   "cell_type": "markdown",
   "metadata": {},
   "source": [
    "Видно, что опечатки исправлены, например, в первой строчке было слово 'стоик' вместо 'столик' и некоторые часто употребимые словосочетания объеденены в одно 'слово'"
   ]
  },
  {
   "cell_type": "markdown",
   "metadata": {},
   "source": [
    "# Построение модели"
   ]
  },
  {
   "cell_type": "markdown",
   "metadata": {},
   "source": [
    "Уже предобработанная мной таким же образом выборка train.csv"
   ]
  },
  {
   "cell_type": "code",
   "execution_count": 2,
   "metadata": {
    "collapsed": true
   },
   "outputs": [],
   "source": [
    "df = pd.read_csv('case_out_filter.csv')"
   ]
  },
  {
   "cell_type": "code",
   "execution_count": 3,
   "metadata": {
    "collapsed": true
   },
   "outputs": [],
   "source": [
    "df2 = pd.read_csv('out2.csv')"
   ]
  },
  {
   "cell_type": "markdown",
   "metadata": {},
   "source": [
    "Для начала будем перебирать модель только с теrстовой информации"
   ]
  },
  {
   "cell_type": "markdown",
   "metadata": {},
   "source": [
    "Будем перебирать модели с помощью GridSearch, для определения лучших параметров."
   ]
  },
  {
   "cell_type": "code",
   "execution_count": 4,
   "metadata": {
    "collapsed": true
   },
   "outputs": [],
   "source": [
    "from sklearn.model_selection import GridSearchCV"
   ]
  },
  {
   "cell_type": "code",
   "execution_count": 5,
   "metadata": {},
   "outputs": [
    {
     "name": "stderr",
     "output_type": "stream",
     "text": [
      "D:\\anaconda\\lib\\site-packages\\sklearn\\cross_validation.py:41: DeprecationWarning: This module was deprecated in version 0.18 in favor of the model_selection module into which all the refactored classes and functions are moved. Also note that the interface of the new CV iterators are different from that of this module. This module will be removed in 0.20.\n",
      "  \"This module will be removed in 0.20.\", DeprecationWarning)\n"
     ]
    }
   ],
   "source": [
    "from sklearn import cross_validation"
   ]
  },
  {
   "cell_type": "code",
   "execution_count": 23,
   "metadata": {
    "collapsed": true
   },
   "outputs": [],
   "source": [
    "ROCtrainTRN, ROCtestTRN, ROCtrainTRG, ROCtestTRG = cross_validation.train_test_split(df2, df2['category_id'], test_size=0.25) "
   ]
  },
  {
   "cell_type": "markdown",
   "metadata": {},
   "source": [
    "В качестве алгоритма воспользуемся Наивным Байессовским классификатором (другие алгоритмы после gridsearch показали результаты хуже) "
   ]
  },
  {
   "cell_type": "markdown",
   "metadata": {},
   "source": [
    "Для представления текста в вектор будем использовать CountVectorizer и TfidfTransformer"
   ]
  },
  {
   "cell_type": "code",
   "execution_count": 6,
   "metadata": {
    "collapsed": true
   },
   "outputs": [],
   "source": [
    "from sklearn.feature_extraction.text import CountVectorizer\n",
    "from sklearn.naive_bayes import MultinomialNB\n",
    "from sklearn.feature_extraction.text import HashingVectorizer\n",
    "from sklearn.feature_extraction.text import TfidfTransformer\n",
    "from sklearn.metrics import accuracy_score"
   ]
  },
  {
   "cell_type": "code",
   "execution_count": 10,
   "metadata": {
    "collapsed": true
   },
   "outputs": [],
   "source": [
    "from sklearn.pipeline import Pipeline\n",
    "text_clf = Pipeline([('vect', CountVectorizer()),\n",
    "                  ('tfidf', TfidfTransformer()),\n",
    "                      ('clf', MultinomialNB())])"
   ]
  },
  {
   "cell_type": "code",
   "execution_count": 11,
   "metadata": {
    "collapsed": true
   },
   "outputs": [],
   "source": [
    "parameters = {'vect__ngram_range': [(1, 1), (1, 2)],\n",
    "               'tfidf__use_idf': (True, False),\n",
    "                'clf__alpha': (1e-2, 1e-3)}"
   ]
  },
  {
   "cell_type": "code",
   "execution_count": 12,
   "metadata": {
    "collapsed": true
   },
   "outputs": [],
   "source": [
    "gs_clf = GridSearchCV(text_clf, parameters, n_jobs=-1)"
   ]
  },
  {
   "cell_type": "code",
   "execution_count": 13,
   "metadata": {
    "collapsed": true
   },
   "outputs": [],
   "source": [
    "gs_clf = gs_clf.fit(ROCtrainTRN['0'], ROCtrainTRN['category_id'])"
   ]
  },
  {
   "cell_type": "code",
   "execution_count": 14,
   "metadata": {},
   "outputs": [
    {
     "data": {
      "text/plain": [
       "{'clf__alpha': 0.01, 'tfidf__use_idf': False, 'vect__ngram_range': (1, 2)}"
      ]
     },
     "execution_count": 14,
     "metadata": {},
     "output_type": "execute_result"
    }
   ],
   "source": [
    "gs_clf.best_score_\n",
    "gs_clf.best_params_"
   ]
  },
  {
   "cell_type": "markdown",
   "metadata": {},
   "source": [
    "В итоге:"
   ]
  },
  {
   "cell_type": "code",
   "execution_count": 24,
   "metadata": {
    "collapsed": true
   },
   "outputs": [],
   "source": [
    "best_vect = CountVectorizer(ngram_range = (1, 2))\n",
    "best_tfidf = TfidfTransformer(use_idf = False)"
   ]
  },
  {
   "cell_type": "code",
   "execution_count": 25,
   "metadata": {
    "collapsed": true
   },
   "outputs": [],
   "source": [
    "X_train_best = best_vect.fit(ROCtrainTRN['0'])\n",
    "X_train_best = best_vect.transform(ROCtrainTRN['0'])"
   ]
  },
  {
   "cell_type": "code",
   "execution_count": 26,
   "metadata": {
    "collapsed": true
   },
   "outputs": [],
   "source": [
    "X_train_tfidf_best = best_tfidf.fit(X_train_best)\n",
    "X_train_tfidf_best = best_tfidf.transform(X_train_best)"
   ]
  },
  {
   "cell_type": "code",
   "execution_count": 27,
   "metadata": {
    "collapsed": true
   },
   "outputs": [],
   "source": [
    "clf = MultinomialNB(alpha = 0.01).fit(X_train_tfidf_best, ROCtrainTRN['category_id'])"
   ]
  },
  {
   "cell_type": "code",
   "execution_count": 28,
   "metadata": {
    "collapsed": true
   },
   "outputs": [],
   "source": [
    "Kn_X_new_best = best_vect.transform(ROCtestTRN['0'])\n",
    "Kn_X_new_best = best_tfidf.transform(Kn_X_new_best)\n",
    "predicted = clf.predict(Kn_X_new_best)"
   ]
  },
  {
   "cell_type": "code",
   "execution_count": 29,
   "metadata": {},
   "outputs": [
    {
     "data": {
      "text/plain": [
       "0.87420330119300538"
      ]
     },
     "execution_count": 29,
     "metadata": {},
     "output_type": "execute_result"
    }
   ],
   "source": [
    "accuracy_score(predicted, ROCtestTRG)"
   ]
  },
  {
   "cell_type": "markdown",
   "metadata": {},
   "source": [
    "# NB accuracy_score - 0.87420330119300538"
   ]
  },
  {
   "cell_type": "markdown",
   "metadata": {},
   "source": [
    "Хороший результат, попробую другие модели"
   ]
  },
  {
   "cell_type": "code",
   "execution_count": 30,
   "metadata": {
    "collapsed": true
   },
   "outputs": [],
   "source": [
    "from sklearn.linear_model import SGDClassifier"
   ]
  },
  {
   "cell_type": "code",
   "execution_count": 34,
   "metadata": {
    "collapsed": true
   },
   "outputs": [],
   "source": [
    "text_clf_svm = Pipeline([('vect', CountVectorizer()),\n",
    "                     ('tfidf', TfidfTransformer()),\n",
    "                     ('clf_svm', SGDClassifier(loss='hinge', penalty='l2',\n",
    "                                           alpha=1e-3))])"
   ]
  },
  {
   "cell_type": "code",
   "execution_count": 38,
   "metadata": {
    "collapsed": true
   },
   "outputs": [],
   "source": [
    "from sklearn.grid_search import GridSearchCV\n",
    "parameters = {'vect__ngram_range': [(1, 1), (1, 2)],\n",
    "               'tfidf__use_idf': (True, False),\n",
    "               'clf_svm__alpha': (1e-2, 1e-3)}"
   ]
  },
  {
   "cell_type": "code",
   "execution_count": 39,
   "metadata": {
    "collapsed": true
   },
   "outputs": [],
   "source": [
    "gs_clf_svm = GridSearchCV(text_clf_svm, parameters, n_jobs=-1)"
   ]
  },
  {
   "cell_type": "code",
   "execution_count": 40,
   "metadata": {},
   "outputs": [
    {
     "name": "stderr",
     "output_type": "stream",
     "text": [
      "D:\\anaconda\\lib\\site-packages\\sklearn\\linear_model\\stochastic_gradient.py:117: DeprecationWarning: n_iter parameter is deprecated in 0.19 and will be removed in 0.21. Use max_iter and tol instead.\n",
      "  DeprecationWarning)\n"
     ]
    }
   ],
   "source": [
    "gs_clf_svm = gs_clf_svm.fit(ROCtrainTRN['0'], ROCtrainTRN['category_id'])"
   ]
  },
  {
   "cell_type": "code",
   "execution_count": 41,
   "metadata": {},
   "outputs": [
    {
     "data": {
      "text/plain": [
       "{'clf_svm__alpha': 0.001, 'tfidf__use_idf': True, 'vect__ngram_range': (1, 2)}"
      ]
     },
     "execution_count": 41,
     "metadata": {},
     "output_type": "execute_result"
    }
   ],
   "source": [
    "gs_clf_svm.best_score_\n",
    "gs_clf_svm.best_params_"
   ]
  },
  {
   "cell_type": "markdown",
   "metadata": {},
   "source": [
    "Тогда:"
   ]
  },
  {
   "cell_type": "code",
   "execution_count": 42,
   "metadata": {
    "collapsed": true
   },
   "outputs": [],
   "source": [
    "best_vect = CountVectorizer(ngram_range = (1, 2))\n",
    "best_tfidf = TfidfTransformer(use_idf = True)"
   ]
  },
  {
   "cell_type": "code",
   "execution_count": 43,
   "metadata": {
    "collapsed": true
   },
   "outputs": [],
   "source": [
    "X_train_best = best_vect.fit(ROCtrainTRN['0'])\n",
    "X_train_best = best_vect.transform(ROCtrainTRN['0'])"
   ]
  },
  {
   "cell_type": "code",
   "execution_count": 44,
   "metadata": {
    "collapsed": true
   },
   "outputs": [],
   "source": [
    "X_train_tfidf_best = best_tfidf.fit(X_train_best)\n",
    "X_train_tfidf_best = best_tfidf.transform(X_train_best)"
   ]
  },
  {
   "cell_type": "code",
   "execution_count": 45,
   "metadata": {},
   "outputs": [
    {
     "name": "stderr",
     "output_type": "stream",
     "text": [
      "D:\\anaconda\\lib\\site-packages\\sklearn\\linear_model\\stochastic_gradient.py:128: FutureWarning: max_iter and tol parameters have been added in <class 'sklearn.linear_model.stochastic_gradient.SGDClassifier'> in 0.19. If both are left unset, they default to max_iter=5 and tol=None. If tol is not None, max_iter defaults to max_iter=1000. From 0.21, default max_iter will be 1000, and default tol will be 1e-3.\n",
      "  \"and default tol will be 1e-3.\" % type(self), FutureWarning)\n"
     ]
    }
   ],
   "source": [
    "clf = SGDClassifier(loss='hinge', penalty='l2', alpha=1e-3).fit(X_train_tfidf_best, ROCtrainTRN['category_id'])"
   ]
  },
  {
   "cell_type": "code",
   "execution_count": 46,
   "metadata": {
    "collapsed": true
   },
   "outputs": [],
   "source": [
    "Kn_X_new_best = best_vect.transform(ROCtestTRN['0'])\n",
    "Kn_X_new_best = best_tfidf.transform(Kn_X_new_best)\n",
    "predicted = clf.predict(Kn_X_new_best)"
   ]
  },
  {
   "cell_type": "code",
   "execution_count": 47,
   "metadata": {},
   "outputs": [
    {
     "data": {
      "text/plain": [
       "0.81735577708775942"
      ]
     },
     "execution_count": 47,
     "metadata": {},
     "output_type": "execute_result"
    }
   ],
   "source": [
    "accuracy_score(predicted, ROCtestTRG)"
   ]
  },
  {
   "cell_type": "code",
   "execution_count": 61,
   "metadata": {},
   "outputs": [
    {
     "name": "stderr",
     "output_type": "stream",
     "text": [
      "D:\\anaconda\\lib\\site-packages\\sklearn\\linear_model\\stochastic_gradient.py:128: FutureWarning: max_iter and tol parameters have been added in <class 'sklearn.linear_model.stochastic_gradient.SGDClassifier'> in 0.19. If both are left unset, they default to max_iter=5 and tol=None. If tol is not None, max_iter defaults to max_iter=1000. From 0.21, default max_iter will be 1000, and default tol will be 1e-3.\n",
      "  \"and default tol will be 1e-3.\" % type(self), FutureWarning)\n"
     ]
    }
   ],
   "source": [
    "clf = SGDClassifier().fit(X_train_tfidf_best, ROCtrainTRN['category_id'])"
   ]
  },
  {
   "cell_type": "code",
   "execution_count": 62,
   "metadata": {
    "collapsed": true
   },
   "outputs": [],
   "source": [
    "Kn_X_new_best = best_vect.transform(ROCtestTRN['0'])\n",
    "Kn_X_new_best = best_tfidf.transform(Kn_X_new_best)\n",
    "predicted = clf.predict(Kn_X_new_best)"
   ]
  },
  {
   "cell_type": "code",
   "execution_count": 63,
   "metadata": {},
   "outputs": [
    {
     "data": {
      "text/plain": [
       "0.84688674620035953"
      ]
     },
     "execution_count": 63,
     "metadata": {},
     "output_type": "execute_result"
    }
   ],
   "source": [
    "accuracy_score(predicted, ROCtestTRG)"
   ]
  },
  {
   "cell_type": "markdown",
   "metadata": {},
   "source": [
    "# SVM accuracy_score - 0.84688674620035953"
   ]
  },
  {
   "cell_type": "markdown",
   "metadata": {},
   "source": [
    "Другие алгоритмы (RandomForest, Kneighbour) не дали мне лучшего результата."
   ]
  },
  {
   "cell_type": "markdown",
   "metadata": {},
   "source": [
    "Итого:\n",
    "\n",
    "SVM - 0.84688674620035953\n",
    "\n",
    "NB - 0.87420330119300538\n",
    "\n",
    "В качестве итоговой модели выберу NB"
   ]
  },
  {
   "cell_type": "markdown",
   "metadata": {},
   "source": [
    "# Посчитаю Accuracy на разных уровнях иерархии"
   ]
  },
  {
   "cell_type": "markdown",
   "metadata": {
    "collapsed": true
   },
   "source": [
    "Первый уровень иерархии классов:"
   ]
  },
  {
   "cell_type": "code",
   "execution_count": 17,
   "metadata": {},
   "outputs": [],
   "source": [
    "tech = list(range(0,15))\n",
    "home = list(range(15,30))\n",
    "things = list(range(30,42))\n",
    "hobby = list(range(42,54))"
   ]
  },
  {
   "cell_type": "code",
   "execution_count": 20,
   "metadata": {
    "collapsed": true
   },
   "outputs": [],
   "source": [
    "def TRGToFirstlevel(line):\n",
    "    if line in tech:\n",
    "        return 0\n",
    "    if line in home:\n",
    "        return 1\n",
    "    if line in things:\n",
    "        return 2\n",
    "    if line in hobby:\n",
    "        return 3"
   ]
  },
  {
   "cell_type": "code",
   "execution_count": 23,
   "metadata": {},
   "outputs": [],
   "source": [
    "new_category_id = df2['category_id'].apply(TRGToFirstlevel)"
   ]
  },
  {
   "cell_type": "markdown",
   "metadata": {},
   "source": [
    "Применим модель:"
   ]
  },
  {
   "cell_type": "code",
   "execution_count": 25,
   "metadata": {
    "collapsed": true
   },
   "outputs": [],
   "source": [
    "ROCtrainTRN, ROCtestTRN, ROCtrainTRG, ROCtestTRG = cross_validation.train_test_split(df2, new_category_id, test_size=0.25) "
   ]
  },
  {
   "cell_type": "code",
   "execution_count": 26,
   "metadata": {
    "collapsed": true
   },
   "outputs": [],
   "source": [
    "best_vect = CountVectorizer(ngram_range = (1, 2))\n",
    "best_tfidf = TfidfTransformer(use_idf = False)\n",
    "\n",
    "X_train_best = best_vect.fit(ROCtrainTRN['0'])\n",
    "X_train_best = best_vect.transform(ROCtrainTRN['0'])\n",
    "\n",
    "X_train_tfidf_best = best_tfidf.fit(X_train_best)\n",
    "X_train_tfidf_best = best_tfidf.transform(X_train_best)\n",
    "\n",
    "clf = MultinomialNB(alpha = 0.01).fit(X_train_tfidf_best, ROCtrainTRG)\n",
    "\n",
    "Kn_X_new_best = best_vect.transform(ROCtestTRN['0'])\n",
    "Kn_X_new_best = best_tfidf.transform(Kn_X_new_best)\n",
    "predicted = clf.predict(Kn_X_new_best)"
   ]
  },
  {
   "cell_type": "code",
   "execution_count": 27,
   "metadata": {},
   "outputs": [
    {
     "data": {
      "text/plain": [
       "0.95736231410361172"
      ]
     },
     "execution_count": 27,
     "metadata": {},
     "output_type": "execute_result"
    }
   ],
   "source": [
    "accuracy_score(predicted, ROCtestTRG)"
   ]
  },
  {
   "cell_type": "markdown",
   "metadata": {},
   "source": [
    "Как и ожидалось самый первый уровень иерархии предсказать проще всего"
   ]
  },
  {
   "cell_type": "markdown",
   "metadata": {},
   "source": [
    "Второй уровень иерархии классов:"
   ]
  },
  {
   "cell_type": "markdown",
   "metadata": {},
   "source": [
    "Чтобы получить классы, импортируем документ 'category.csv' и разобьем на классы по второму уровню:"
   ]
  },
  {
   "cell_type": "code",
   "execution_count": 52,
   "metadata": {
    "collapsed": true
   },
   "outputs": [],
   "source": [
    "import csv"
   ]
  },
  {
   "cell_type": "code",
   "execution_count": 84,
   "metadata": {},
   "outputs": [],
   "source": [
    "with open('category.csv', 'r') as fp:\n",
    "    reader = csv.reader(fp, delimiter=',')\n",
    "    data_read = [row for row in reader]\n",
    "\n",
    "categories = []\n",
    "for line in data_read:\n",
    "    categories.append(line[1:3])"
   ]
  },
  {
   "cell_type": "code",
   "execution_count": 85,
   "metadata": {},
   "outputs": [],
   "source": [
    "categories = pd.DataFrame(categories, columns = ['First','Second'])"
   ]
  },
  {
   "cell_type": "code",
   "execution_count": 86,
   "metadata": {
    "scrolled": true
   },
   "outputs": [],
   "source": [
    "c = pd.concat([categories, pd.Series(list(range(54)), name = 'index')], axis = 1)"
   ]
  },
  {
   "cell_type": "code",
   "execution_count": 125,
   "metadata": {},
   "outputs": [
    {
     "data": {
      "text/html": [
       "<div>\n",
       "<style>\n",
       "    .dataframe thead tr:only-child th {\n",
       "        text-align: right;\n",
       "    }\n",
       "\n",
       "    .dataframe thead th {\n",
       "        text-align: left;\n",
       "    }\n",
       "\n",
       "    .dataframe tbody tr th {\n",
       "        vertical-align: top;\n",
       "    }\n",
       "</style>\n",
       "<table border=\"1\" class=\"dataframe\">\n",
       "  <thead>\n",
       "    <tr style=\"text-align: right;\">\n",
       "      <th></th>\n",
       "      <th>First</th>\n",
       "      <th>Second</th>\n",
       "      <th>index</th>\n",
       "    </tr>\n",
       "  </thead>\n",
       "  <tbody>\n",
       "    <tr>\n",
       "      <th>0</th>\n",
       "      <td>Бытовая электроника</td>\n",
       "      <td>Телефоны</td>\n",
       "      <td>0</td>\n",
       "    </tr>\n",
       "    <tr>\n",
       "      <th>1</th>\n",
       "      <td>Бытовая электроника</td>\n",
       "      <td>Ноутбуки</td>\n",
       "      <td>1</td>\n",
       "    </tr>\n",
       "    <tr>\n",
       "      <th>2</th>\n",
       "      <td>Бытовая электроника</td>\n",
       "      <td>Телефоны</td>\n",
       "      <td>2</td>\n",
       "    </tr>\n",
       "    <tr>\n",
       "      <th>3</th>\n",
       "      <td>Бытовая электроника</td>\n",
       "      <td>Планшеты и электронные книги</td>\n",
       "      <td>3</td>\n",
       "    </tr>\n",
       "    <tr>\n",
       "      <th>4</th>\n",
       "      <td>Бытовая электроника</td>\n",
       "      <td>Игры</td>\n",
       "      <td>4</td>\n",
       "    </tr>\n",
       "    <tr>\n",
       "      <th>5</th>\n",
       "      <td>Бытовая электроника</td>\n",
       "      <td>Аудио и видео</td>\n",
       "      <td>5</td>\n",
       "    </tr>\n",
       "    <tr>\n",
       "      <th>6</th>\n",
       "      <td>Бытовая электроника</td>\n",
       "      <td>Телефоны</td>\n",
       "      <td>6</td>\n",
       "    </tr>\n",
       "    <tr>\n",
       "      <th>7</th>\n",
       "      <td>Бытовая электроника</td>\n",
       "      <td>Настольные компьютеры</td>\n",
       "      <td>7</td>\n",
       "    </tr>\n",
       "    <tr>\n",
       "      <th>8</th>\n",
       "      <td>Бытовая электроника</td>\n",
       "      <td>Игры</td>\n",
       "      <td>8</td>\n",
       "    </tr>\n",
       "    <tr>\n",
       "      <th>9</th>\n",
       "      <td>Бытовая электроника</td>\n",
       "      <td>Телефоны</td>\n",
       "      <td>9</td>\n",
       "    </tr>\n",
       "  </tbody>\n",
       "</table>\n",
       "</div>"
      ],
      "text/plain": [
       "                 First                        Second  index\n",
       "0  Бытовая электроника                      Телефоны      0\n",
       "1  Бытовая электроника                      Ноутбуки      1\n",
       "2  Бытовая электроника                      Телефоны      2\n",
       "3  Бытовая электроника  Планшеты и электронные книги      3\n",
       "4  Бытовая электроника                          Игры      4\n",
       "5  Бытовая электроника                 Аудио и видео      5\n",
       "6  Бытовая электроника                      Телефоны      6\n",
       "7  Бытовая электроника         Настольные компьютеры      7\n",
       "8  Бытовая электроника                          Игры      8\n",
       "9  Бытовая электроника                      Телефоны      9"
      ]
     },
     "execution_count": 125,
     "metadata": {},
     "output_type": "execute_result"
    }
   ],
   "source": [
    "c.head(10)"
   ]
  },
  {
   "cell_type": "code",
   "execution_count": 120,
   "metadata": {},
   "outputs": [],
   "source": [
    "cl = list(c.groupby('Second')['index'].groups.values())"
   ]
  },
  {
   "cell_type": "code",
   "execution_count": 123,
   "metadata": {},
   "outputs": [
    {
     "name": "stdout",
     "output_type": "stream",
     "text": [
      "[5, 12]\n",
      "[48]\n",
      "[26, 29]\n",
      "[53]\n",
      "[4, 8]\n",
      "[43, 51]\n",
      "[44, 45]\n",
      "[37]\n",
      "[16, 18, 19, 22, 23, 27, 28]\n",
      "[50, 52]\n",
      "[7]\n",
      "[1]\n",
      "[31, 33, 35, 38, 39]\n",
      "[49]\n",
      "[3]\n",
      "[20]\n",
      "[24]\n",
      "[15, 17, 21, 25]\n",
      "[42, 46, 47]\n",
      "[0, 2, 6, 9, 10, 11]\n",
      "[30, 32, 34, 41]\n",
      "[13, 14]\n",
      "[36, 40]\n"
     ]
    }
   ],
   "source": [
    "classes = []\n",
    "for i in cl:\n",
    "    classes.append(list(i))\n",
    "    print(list(i))"
   ]
  },
  {
   "cell_type": "code",
   "execution_count": 128,
   "metadata": {
    "collapsed": true
   },
   "outputs": [],
   "source": [
    "def TRGToSecondlevel(line):\n",
    "    for i in range(len(classes)):\n",
    "        if line in classes[i]:\n",
    "            return i"
   ]
  },
  {
   "cell_type": "code",
   "execution_count": 129,
   "metadata": {},
   "outputs": [],
   "source": [
    "second_category_id = df2['category_id'].apply(TRGToSecondlevel)"
   ]
  },
  {
   "cell_type": "markdown",
   "metadata": {},
   "source": [
    "Применим модель"
   ]
  },
  {
   "cell_type": "code",
   "execution_count": 133,
   "metadata": {
    "collapsed": true
   },
   "outputs": [],
   "source": [
    "ROCtrainTRN, ROCtestTRN, ROCtrainTRG, ROCtestTRG = cross_validation.train_test_split(df2, second_category_id, test_size=0.25) "
   ]
  },
  {
   "cell_type": "code",
   "execution_count": 134,
   "metadata": {
    "collapsed": true
   },
   "outputs": [],
   "source": [
    "best_vect = CountVectorizer(ngram_range = (1, 2))\n",
    "best_tfidf = TfidfTransformer(use_idf = False)\n",
    "\n",
    "X_train_best = best_vect.fit(ROCtrainTRN['0'])\n",
    "X_train_best = best_vect.transform(ROCtrainTRN['0'])\n",
    "\n",
    "X_train_tfidf_best = best_tfidf.fit(X_train_best)\n",
    "X_train_tfidf_best = best_tfidf.transform(X_train_best)\n",
    "\n",
    "clf = MultinomialNB(alpha = 0.01).fit(X_train_tfidf_best, ROCtrainTRG)\n",
    "\n",
    "Kn_X_new_best = best_vect.transform(ROCtestTRN['0'])\n",
    "Kn_X_new_best = best_tfidf.transform(Kn_X_new_best)\n",
    "predicted = clf.predict(Kn_X_new_best)"
   ]
  },
  {
   "cell_type": "code",
   "execution_count": 135,
   "metadata": {},
   "outputs": [
    {
     "data": {
      "text/plain": [
       "0.93288118973688516"
      ]
     },
     "execution_count": 135,
     "metadata": {},
     "output_type": "execute_result"
    }
   ],
   "source": [
    "accuracy_score(predicted, ROCtestTRG)"
   ]
  },
  {
   "cell_type": "markdown",
   "metadata": {
    "collapsed": true
   },
   "source": [
    "# Применим модель на тестовой выборке"
   ]
  },
  {
   "cell_type": "code",
   "execution_count": 137,
   "metadata": {
    "collapsed": true
   },
   "outputs": [],
   "source": [
    "best_vect = CountVectorizer(ngram_range = (1, 2))\n",
    "best_tfidf = TfidfTransformer(use_idf = False)\n",
    "\n",
    "X_train_best = best_vect.fit(df2['0'])\n",
    "X_train_best = best_vect.transform(df2['0'])\n",
    "\n",
    "X_train_tfidf_best = best_tfidf.fit(X_train_best)\n",
    "X_train_tfidf_best = best_tfidf.transform(X_train_best)"
   ]
  },
  {
   "cell_type": "code",
   "execution_count": 138,
   "metadata": {
    "collapsed": true
   },
   "outputs": [],
   "source": [
    "clf = MultinomialNB(alpha = 0.01).fit(X_train_tfidf_best, df2['category_id'])"
   ]
  },
  {
   "cell_type": "code",
   "execution_count": 139,
   "metadata": {
    "collapsed": true
   },
   "outputs": [],
   "source": [
    "Kn_X_new_best = best_vect.transform(df['0'])\n",
    "Kn_X_new_best = best_tfidf.transform(Kn_X_new_best)\n",
    "predicted = clf.predict(Kn_X_new_best)"
   ]
  },
  {
   "cell_type": "code",
   "execution_count": 140,
   "metadata": {},
   "outputs": [
    {
     "data": {
      "text/plain": [
       "array([22,  0, 15, ...,  7, 18, 29], dtype=int64)"
      ]
     },
     "execution_count": 140,
     "metadata": {},
     "output_type": "execute_result"
    }
   ],
   "source": [
    "predicted"
   ]
  },
  {
   "cell_type": "code",
   "execution_count": 141,
   "metadata": {
    "collapsed": true
   },
   "outputs": [],
   "source": [
    "s2 = pd.Series(predicted, name = 'category_id')"
   ]
  },
  {
   "cell_type": "code",
   "execution_count": 142,
   "metadata": {
    "collapsed": true
   },
   "outputs": [],
   "source": [
    "Result = pd.concat([df['item_id'], s2], axis = 1)"
   ]
  },
  {
   "cell_type": "code",
   "execution_count": 143,
   "metadata": {},
   "outputs": [
    {
     "data": {
      "text/html": [
       "<div>\n",
       "<style>\n",
       "    .dataframe thead tr:only-child th {\n",
       "        text-align: right;\n",
       "    }\n",
       "\n",
       "    .dataframe thead th {\n",
       "        text-align: left;\n",
       "    }\n",
       "\n",
       "    .dataframe tbody tr th {\n",
       "        vertical-align: top;\n",
       "    }\n",
       "</style>\n",
       "<table border=\"1\" class=\"dataframe\">\n",
       "  <thead>\n",
       "    <tr style=\"text-align: right;\">\n",
       "      <th></th>\n",
       "      <th>item_id</th>\n",
       "      <th>category_id</th>\n",
       "    </tr>\n",
       "  </thead>\n",
       "  <tbody>\n",
       "    <tr>\n",
       "      <th>0</th>\n",
       "      <td>489517</td>\n",
       "      <td>22</td>\n",
       "    </tr>\n",
       "    <tr>\n",
       "      <th>1</th>\n",
       "      <td>489518</td>\n",
       "      <td>0</td>\n",
       "    </tr>\n",
       "    <tr>\n",
       "      <th>2</th>\n",
       "      <td>489519</td>\n",
       "      <td>15</td>\n",
       "    </tr>\n",
       "    <tr>\n",
       "      <th>3</th>\n",
       "      <td>489520</td>\n",
       "      <td>33</td>\n",
       "    </tr>\n",
       "    <tr>\n",
       "      <th>4</th>\n",
       "      <td>489521</td>\n",
       "      <td>13</td>\n",
       "    </tr>\n",
       "  </tbody>\n",
       "</table>\n",
       "</div>"
      ],
      "text/plain": [
       "   item_id  category_id\n",
       "0   489517           22\n",
       "1   489518            0\n",
       "2   489519           15\n",
       "3   489520           33\n",
       "4   489521           13"
      ]
     },
     "execution_count": 143,
     "metadata": {},
     "output_type": "execute_result"
    }
   ],
   "source": [
    "Result.head()"
   ]
  },
  {
   "cell_type": "code",
   "execution_count": 150,
   "metadata": {
    "collapsed": true
   },
   "outputs": [],
   "source": [
    "Result.to_csv('result.csv', encoding = 'utf8' , index = None)"
   ]
  }
 ],
 "metadata": {
  "kernelspec": {
   "display_name": "Python 3",
   "language": "python",
   "name": "python3"
  },
  "language_info": {
   "codemirror_mode": {
    "name": "ipython",
    "version": 3
   },
   "file_extension": ".py",
   "mimetype": "text/x-python",
   "name": "python",
   "nbconvert_exporter": "python",
   "pygments_lexer": "ipython3",
   "version": "3.6.3"
  }
 },
 "nbformat": 4,
 "nbformat_minor": 2
}
