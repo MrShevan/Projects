{
 "cells": [
  {
   "cell_type": "code",
   "execution_count": 22,
   "metadata": {
    "collapsed": true
   },
   "outputs": [],
   "source": [
    "import pandas as pd\n",
    "import numpy as np\n",
    "import matplotlib.pyplot as plt\n",
    "%matplotlib inline"
   ]
  },
  {
   "cell_type": "markdown",
   "metadata": {},
   "source": [
    "При написании кода использовался Python 2.7"
   ]
  },
  {
   "cell_type": "markdown",
   "metadata": {},
   "source": [
    "# Этап 1. Подготовка данных и первичный анализ"
   ]
  },
  {
   "cell_type": "markdown",
   "metadata": {},
   "source": [
    "Для начала загружу данные обучающей выборки и разделю ее на три части, для последующего обучения и тестирования"
   ]
  },
  {
   "cell_type": "code",
   "execution_count": 23,
   "metadata": {
    "collapsed": true
   },
   "outputs": [],
   "source": [
    "facts = pd.read_csv(\"01_Facts_csv.csv\", sep = \";\", header=None)"
   ]
  },
  {
   "cell_type": "code",
   "execution_count": 24,
   "metadata": {
    "collapsed": true
   },
   "outputs": [],
   "source": [
    "train_1 = facts[:][0:40]\n",
    "train_2 = facts[:][40:81]\n",
    "train_3 = facts[:][81:122]"
   ]
  },
  {
   "cell_type": "markdown",
   "metadata": {},
   "source": [
    "Функция ниже преобразует данные в два стобца, где в первом столбце стоят номера, а во втором идентификаторы людей, которым они принадлежат"
   ]
  },
  {
   "cell_type": "code",
   "execution_count": 25,
   "metadata": {
    "collapsed": true
   },
   "outputs": [],
   "source": [
    "def prepare(data):\n",
    "    s1 = pd.Series(data[0])\n",
    "    s2 = pd.Series(data[1])\n",
    "    Numbers = pd.Series(list(pd.concat([s1, s2], axis = 0)))\n",
    "    ind = pd.Series(range(len(s1)))\n",
    "    id_= pd.Series(list(pd.concat([ind, ind])))\n",
    "    T = pd.concat([Numbers, id_], axis = 1)\n",
    "    return T"
   ]
  },
  {
   "cell_type": "code",
   "execution_count": 26,
   "metadata": {},
   "outputs": [],
   "source": [
    "train_1 = prepare(train_1)\n",
    "train_2 = prepare(train_2)\n",
    "train_3 = prepare(train_3)"
   ]
  },
  {
   "cell_type": "markdown",
   "metadata": {},
   "source": [
    "Пример:"
   ]
  },
  {
   "cell_type": "code",
   "execution_count": 150,
   "metadata": {},
   "outputs": [
    {
     "data": {
      "text/html": [
       "<div>\n",
       "<style>\n",
       "    .dataframe thead tr:only-child th {\n",
       "        text-align: right;\n",
       "    }\n",
       "\n",
       "    .dataframe thead th {\n",
       "        text-align: left;\n",
       "    }\n",
       "\n",
       "    .dataframe tbody tr th {\n",
       "        vertical-align: top;\n",
       "    }\n",
       "</style>\n",
       "<table border=\"1\" class=\"dataframe\">\n",
       "  <thead>\n",
       "    <tr style=\"text-align: right;\">\n",
       "      <th></th>\n",
       "      <th>0</th>\n",
       "      <th>1</th>\n",
       "    </tr>\n",
       "  </thead>\n",
       "  <tbody>\n",
       "    <tr>\n",
       "      <th>0</th>\n",
       "      <td>158530067653</td>\n",
       "      <td>0</td>\n",
       "    </tr>\n",
       "    <tr>\n",
       "      <th>1</th>\n",
       "      <td>158510912201</td>\n",
       "      <td>1</td>\n",
       "    </tr>\n",
       "    <tr>\n",
       "      <th>2</th>\n",
       "      <td>158530063945</td>\n",
       "      <td>2</td>\n",
       "    </tr>\n",
       "    <tr>\n",
       "      <th>3</th>\n",
       "      <td>158524011325</td>\n",
       "      <td>3</td>\n",
       "    </tr>\n",
       "    <tr>\n",
       "      <th>4</th>\n",
       "      <td>158528852153</td>\n",
       "      <td>4</td>\n",
       "    </tr>\n",
       "    <tr>\n",
       "      <th>5</th>\n",
       "      <td>158510912383</td>\n",
       "      <td>5</td>\n",
       "    </tr>\n",
       "    <tr>\n",
       "      <th>6</th>\n",
       "      <td>158503851673</td>\n",
       "      <td>6</td>\n",
       "    </tr>\n",
       "    <tr>\n",
       "      <th>7</th>\n",
       "      <td>158524011011</td>\n",
       "      <td>7</td>\n",
       "    </tr>\n",
       "    <tr>\n",
       "      <th>8</th>\n",
       "      <td>158524011043</td>\n",
       "      <td>8</td>\n",
       "    </tr>\n",
       "    <tr>\n",
       "      <th>9</th>\n",
       "      <td>158524002695</td>\n",
       "      <td>9</td>\n",
       "    </tr>\n",
       "  </tbody>\n",
       "</table>\n",
       "</div>"
      ],
      "text/plain": [
       "              0  1\n",
       "0  158530067653  0\n",
       "1  158510912201  1\n",
       "2  158530063945  2\n",
       "3  158524011325  3\n",
       "4  158528852153  4\n",
       "5  158510912383  5\n",
       "6  158503851673  6\n",
       "7  158524011011  7\n",
       "8  158524011043  8\n",
       "9  158524002695  9"
      ]
     },
     "execution_count": 150,
     "metadata": {},
     "output_type": "execute_result"
    }
   ],
   "source": [
    "train_1.head(10)"
   ]
  },
  {
   "cell_type": "markdown",
   "metadata": {},
   "source": [
    "Теперь загрузим данные о маршрутах этих номеров"
   ]
  },
  {
   "cell_type": "code",
   "execution_count": 159,
   "metadata": {
    "collapsed": true
   },
   "outputs": [],
   "source": [
    "df = pd.read_csv('02_Data_test_test.csv',sep = ';')\n",
    "df = df.drop(['Unnamed: 12','Unnamed: 13','Unnamed: 14'], axis = 1)"
   ]
  },
  {
   "cell_type": "markdown",
   "metadata": {},
   "source": [
    "Визуализирую данные"
   ]
  },
  {
   "cell_type": "code",
   "execution_count": 160,
   "metadata": {
    "collapsed": true
   },
   "outputs": [],
   "source": [
    "import folium\n",
    "from folium.plugins import MarkerCluster\n",
    "%matplotlib inline"
   ]
  },
  {
   "cell_type": "markdown",
   "metadata": {},
   "source": [
    "Возьму пример двух номеров принадлежащих одному человеку (взял из файла facts)"
   ]
  },
  {
   "cell_type": "code",
   "execution_count": 161,
   "metadata": {
    "collapsed": true
   },
   "outputs": [],
   "source": [
    "number_1 = df[ df['msisdn'] == 158510090027] # 15й номер в файле 01-Facts.xlsx\n",
    "number_2 = df[ df['msisdn'] == 158528850875]"
   ]
  },
  {
   "cell_type": "code",
   "execution_count": 162,
   "metadata": {},
   "outputs": [
    {
     "data": {
      "text/html": [
       "<div>\n",
       "<style>\n",
       "    .dataframe thead tr:only-child th {\n",
       "        text-align: right;\n",
       "    }\n",
       "\n",
       "    .dataframe thead th {\n",
       "        text-align: left;\n",
       "    }\n",
       "\n",
       "    .dataframe tbody tr th {\n",
       "        vertical-align: top;\n",
       "    }\n",
       "</style>\n",
       "<table border=\"1\" class=\"dataframe\">\n",
       "  <thead>\n",
       "    <tr style=\"text-align: right;\">\n",
       "      <th></th>\n",
       "      <th>lac</th>\n",
       "      <th>cid</th>\n",
       "      <th>msisdn</th>\n",
       "      <th>imei</th>\n",
       "      <th>event_type</th>\n",
       "      <th>tstamp</th>\n",
       "      <th>long</th>\n",
       "      <th>lat</th>\n",
       "      <th>max_dist</th>\n",
       "      <th>cell_type</th>\n",
       "      <th>start_angle</th>\n",
       "      <th>end_angle</th>\n",
       "    </tr>\n",
       "  </thead>\n",
       "  <tbody>\n",
       "    <tr>\n",
       "      <th>9426</th>\n",
       "      <td>7706</td>\n",
       "      <td>6289</td>\n",
       "      <td>158510090027</td>\n",
       "      <td>013428002245160</td>\n",
       "      <td>0</td>\n",
       "      <td>1369282694428</td>\n",
       "      <td>37.5082</td>\n",
       "      <td>55.6958</td>\n",
       "      <td>1224</td>\n",
       "      <td>OUTDOOR</td>\n",
       "      <td>191.5</td>\n",
       "      <td>238.5</td>\n",
       "    </tr>\n",
       "    <tr>\n",
       "      <th>10283</th>\n",
       "      <td>7706</td>\n",
       "      <td>6289</td>\n",
       "      <td>158510090027</td>\n",
       "      <td>013428002245160</td>\n",
       "      <td>3</td>\n",
       "      <td>1369284066093</td>\n",
       "      <td>37.5082</td>\n",
       "      <td>55.6958</td>\n",
       "      <td>1224</td>\n",
       "      <td>OUTDOOR</td>\n",
       "      <td>191.5</td>\n",
       "      <td>238.5</td>\n",
       "    </tr>\n",
       "    <tr>\n",
       "      <th>10284</th>\n",
       "      <td>7752</td>\n",
       "      <td>57570</td>\n",
       "      <td>158510090027</td>\n",
       "      <td>null</td>\n",
       "      <td>0</td>\n",
       "      <td>1369284066103</td>\n",
       "      <td>37.4995</td>\n",
       "      <td>55.7062</td>\n",
       "      <td>618</td>\n",
       "      <td>OUTDOOR</td>\n",
       "      <td>105.0</td>\n",
       "      <td>165.0</td>\n",
       "    </tr>\n",
       "    <tr>\n",
       "      <th>10513</th>\n",
       "      <td>7752</td>\n",
       "      <td>57569</td>\n",
       "      <td>158510090027</td>\n",
       "      <td>013428002245160</td>\n",
       "      <td>8</td>\n",
       "      <td>1369284413635</td>\n",
       "      <td>37.4995</td>\n",
       "      <td>55.7062</td>\n",
       "      <td>873</td>\n",
       "      <td>OUTDOOR</td>\n",
       "      <td>0.0</td>\n",
       "      <td>60.0</td>\n",
       "    </tr>\n",
       "    <tr>\n",
       "      <th>10789</th>\n",
       "      <td>7752</td>\n",
       "      <td>57569</td>\n",
       "      <td>158510090027</td>\n",
       "      <td>013428002245160</td>\n",
       "      <td>3</td>\n",
       "      <td>1369284789947</td>\n",
       "      <td>37.4995</td>\n",
       "      <td>55.7062</td>\n",
       "      <td>873</td>\n",
       "      <td>OUTDOOR</td>\n",
       "      <td>0.0</td>\n",
       "      <td>60.0</td>\n",
       "    </tr>\n",
       "  </tbody>\n",
       "</table>\n",
       "</div>"
      ],
      "text/plain": [
       "        lac    cid        msisdn             imei  event_type         tstamp  \\\n",
       "9426   7706   6289  158510090027  013428002245160           0  1369282694428   \n",
       "10283  7706   6289  158510090027  013428002245160           3  1369284066093   \n",
       "10284  7752  57570  158510090027             null           0  1369284066103   \n",
       "10513  7752  57569  158510090027  013428002245160           8  1369284413635   \n",
       "10789  7752  57569  158510090027  013428002245160           3  1369284789947   \n",
       "\n",
       "          long      lat  max_dist cell_type  start_angle  end_angle  \n",
       "9426   37.5082  55.6958      1224   OUTDOOR        191.5      238.5  \n",
       "10283  37.5082  55.6958      1224   OUTDOOR        191.5      238.5  \n",
       "10284  37.4995  55.7062       618   OUTDOOR        105.0      165.0  \n",
       "10513  37.4995  55.7062       873   OUTDOOR          0.0       60.0  \n",
       "10789  37.4995  55.7062       873   OUTDOOR          0.0       60.0  "
      ]
     },
     "execution_count": 162,
     "metadata": {},
     "output_type": "execute_result"
    }
   ],
   "source": [
    "number_1.head(5) # Все даные только по одному номеру"
   ]
  },
  {
   "cell_type": "code",
   "execution_count": 163,
   "metadata": {
    "collapsed": true
   },
   "outputs": [],
   "source": [
    "number_1_points = (number_1[['lat', 'long']])\n",
    "number_2_points = (number_2[['lat', 'long']])"
   ]
  },
  {
   "cell_type": "code",
   "execution_count": 164,
   "metadata": {
    "collapsed": true
   },
   "outputs": [],
   "source": [
    "center = [55.7062, 37.4995]\n",
    "Map_1 = folium.Map(location = center, zoom_start=11, control_scale=True)"
   ]
  },
  {
   "cell_type": "code",
   "execution_count": 165,
   "metadata": {},
   "outputs": [
    {
     "data": {
      "text/html": [
       "<div style=\"width:100%;\"><div style=\"position:relative;width:100%;height:0;padding-bottom:60%;\"><iframe src=\"data:text/html;charset=utf-8;base64,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\" style=\"position:absolute;width:100%;height:100%;left:0;top:0;border:none !important;\" allowfullscreen webkitallowfullscreen mozallowfullscreen></iframe></div></div>"
      ],
      "text/plain": [
       "<folium.folium.Map at 0x7fd9a70c47d0>"
      ]
     },
     "execution_count": 165,
     "metadata": {},
     "output_type": "execute_result"
    }
   ],
   "source": [
    "Places_cluster = MarkerCluster(locations=number_1_points.values)\n",
    "Places_cluster.add_to(Map_1)\n",
    "Map_1"
   ]
  },
  {
   "cell_type": "markdown",
   "metadata": {},
   "source": [
    "Посмотрим на распределение точек по Москве для первого и второго номера"
   ]
  },
  {
   "cell_type": "code",
   "execution_count": 172,
   "metadata": {},
   "outputs": [
    {
     "data": {
      "text/plain": [
       "<matplotlib.collections.PathCollection at 0x7fd98e540890>"
      ]
     },
     "execution_count": 172,
     "metadata": {},
     "output_type": "execute_result"
    },
    {
     "data": {
      "image/png": "[encoded data removed]",
      "text/plain": [
       "<matplotlib.figure.Figure at 0x7fd98d979110>"
      ]
     },
     "metadata": {},
     "output_type": "display_data"
    }
   ],
   "source": [
    "plt.axis([55.556834, 55.933873, 37.315441, 37.869122])\n",
    "plt.scatter(np.array(number_1_points)[:,0], np.array(number_1_points)[:, 1]) # маршрут номера 158510090027"
   ]
  },
  {
   "cell_type": "code",
   "execution_count": 171,
   "metadata": {},
   "outputs": [
    {
     "data": {
      "text/plain": [
       "<matplotlib.collections.PathCollection at 0x7fd98d9879d0>"
      ]
     },
     "execution_count": 171,
     "metadata": {},
     "output_type": "execute_result"
    },
    {
     "data": {
      "image/png": "[encoded data removed]",
      "text/plain": [
       "<matplotlib.figure.Figure at 0x7fd9a68566d0>"
      ]
     },
     "metadata": {},
     "output_type": "display_data"
    }
   ],
   "source": [
    "plt.axis([55.556834, 55.933873, 37.315441, 37.869122])\n",
    "plt.scatter(np.array(number_2_points)[:,0], np.array(number_2_points)[:, 1]) # маршрут номера 158528850875"
   ]
  },
  {
   "cell_type": "markdown",
   "metadata": {},
   "source": [
    "Как видно из картинок маршруты похожи в большинстве точек, тогда будем сравнивать похожесть номеров на основе числа точек (соответствующих вышкам) в которых они совпадают."
   ]
  },
  {
   "cell_type": "markdown",
   "metadata": {},
   "source": [
    "В этом нам поможет метод CountVectorization, используемый для преобразования текста в вектор при поиске дубликатов, но в нашем случае задача очень похожа"
   ]
  },
  {
   "cell_type": "markdown",
   "metadata": {},
   "source": [
    "Функция ниже делает вектора для последующего применения в CountVectorizer. Более подробно, она записывает в виде текста последовательность идентификаторов вышек в которых был номер попутно выкидывая номера, которые были в df, чтобы они не попали в Validate"
   ]
  },
  {
   "cell_type": "code",
   "execution_count": 28,
   "metadata": {
    "collapsed": true
   },
   "outputs": [],
   "source": [
    "def make_train_data(train, df):\n",
    "    train_data = []\n",
    "\n",
    "    for i in range(len(train[0])):\n",
    "        det = df[ df['msisdn'] == train[0][i]]\n",
    "        df = df.drop (list(det.index), axis = 0)  # выкинули номера из train\n",
    "\n",
    "        if det.shape[0] == 0:\n",
    "            train = train.drop(i, axis = 0)\n",
    "            continue\n",
    "        \n",
    "        row_1 = []\n",
    "        for i in range(det.shape[0]):\n",
    "            row_1.append(str(int(pd.DataFrame(det['lac']).iloc[i])) + str(int(pd.DataFrame(det['cid']).iloc[i])))\n",
    "        str1 = row_1[0]\n",
    "        for i in range(1, len(row_1)):\n",
    "            str1 = str1 + ' ' + row_1[i]\n",
    "        \n",
    "        train_data.append(str1)\n",
    "    return train_data, train, df"
   ]
  },
  {
   "cell_type": "code",
   "execution_count": 29,
   "metadata": {},
   "outputs": [],
   "source": [
    "train_data_1, train_1, df = make_train_data(train_1, df)\n",
    "train_data_2, train_2, df = make_train_data(train_2, df)\n",
    "train_data_3, train_3, df = make_train_data(train_3, df)"
   ]
  },
  {
   "cell_type": "code",
   "execution_count": 154,
   "metadata": {},
   "outputs": [
    {
     "data": {
      "text/plain": [
       "158530067653"
      ]
     },
     "execution_count": 154,
     "metadata": {},
     "output_type": "execute_result"
    }
   ],
   "source": [
    "train_1[0][0]"
   ]
  },
  {
   "cell_type": "markdown",
   "metadata": {},
   "source": [
    "Пример"
   ]
  },
  {
   "cell_type": "code",
   "execution_count": 152,
   "metadata": {},
   "outputs": [
    {
     "data": {
      "text/plain": [
       "'778248428 775230479 774258364 774226211 779920136 77999705 77999705 77997173 77999705 779921582 778262614 77823893 778230191 778230316 778230316 778236699 778265450 778258147 778236072 775230479 77526851 775231486 774254601 774363134 774259881 774358795 77999705 77999705 77999705 77999705 77999705 779929294 77992799 774229964 774259881 77429596 774238557 77429596 774230720 774235425 774235420 77429803 774230720 778265450 77824354 77829763 77824353 77824353 501960210 509128514 507450941 50748724 507451563 50748724 507451563 507452473 50748724 507465174 507465174 50748724'"
      ]
     },
     "execution_count": 152,
     "metadata": {},
     "output_type": "execute_result"
    }
   ],
   "source": [
    "train_data_1[0] # последовательность идентификаторов вышек в которых был номер 158530067653\n",
    "                # идентификатор вышки, это ее Lac и CID записанные последовательно"
   ]
  },
  {
   "cell_type": "markdown",
   "metadata": {},
   "source": [
    "Проделаю тоже самое с выборкой Validate"
   ]
  },
  {
   "cell_type": "code",
   "execution_count": 34,
   "metadata": {
    "collapsed": true
   },
   "outputs": [],
   "source": [
    "validate_data = []\n",
    "\n",
    "for x in df['msisdn'].unique():\n",
    "    det = df[ df['msisdn'] == x ]\n",
    "    \n",
    "    if det.shape[0] == 0:\n",
    "        continue\n",
    "    \n",
    "    row_1 = []\n",
    "    for i in range(det.shape[0]):\n",
    "        row_1.append(str(int(pd.DataFrame(det['lac']).iloc[i])) + str(int(pd.DataFrame(det['cid']).iloc[i])))\n",
    "    str1 = row_1[0]\n",
    "    for i in range(1, len(row_1)):\n",
    "        str1 = str1 + ' ' + row_1[i]\n",
    "        \n",
    "    validate_data.append(str1)"
   ]
  },
  {
   "cell_type": "markdown",
   "metadata": {},
   "source": [
    "Объединим все данные в одну базу, чтобы применить CountVectorizer ко всем данным, чтобы каждый вектор имел сведения обо всех уникальных базовых станциях "
   ]
  },
  {
   "cell_type": "code",
   "execution_count": 89,
   "metadata": {
    "collapsed": true
   },
   "outputs": [],
   "source": [
    "Data = train_data_1\n",
    "Data.extend(train_data_2)\n",
    "Data.extend(train_data_3)\n",
    "Data.extend(validate_data)"
   ]
  },
  {
   "cell_type": "markdown",
   "metadata": {},
   "source": [
    "# Этап 2. Готовим модель"
   ]
  },
  {
   "cell_type": "code",
   "execution_count": 41,
   "metadata": {
    "collapsed": true
   },
   "outputs": [],
   "source": [
    "from sklearn.feature_extraction.text import CountVectorizer"
   ]
  },
  {
   "cell_type": "markdown",
   "metadata": {},
   "source": [
    "Применим методCountVectorizer для получения векторов"
   ]
  },
  {
   "cell_type": "code",
   "execution_count": 90,
   "metadata": {
    "collapsed": true
   },
   "outputs": [],
   "source": [
    "count_vect = CountVectorizer()"
   ]
  },
  {
   "cell_type": "code",
   "execution_count": 91,
   "metadata": {
    "collapsed": true
   },
   "outputs": [],
   "source": [
    "X_new_counts = count_vect.fit_transform(Data)\n",
    "X = X_new_counts.toarray()"
   ]
  },
  {
   "cell_type": "markdown",
   "metadata": {},
   "source": [
    "Вновь разделим данные для  применения алгоритма"
   ]
  },
  {
   "cell_type": "code",
   "execution_count": 92,
   "metadata": {
    "collapsed": true
   },
   "outputs": [],
   "source": [
    "train_1_X = X[0:77]\n",
    "train_2_X = X[77:159]\n",
    "train_3_X = X[159:241]\n",
    "validate_X = X[241:2361]"
   ]
  },
  {
   "cell_type": "markdown",
   "metadata": {},
   "source": [
    "Для выявления дубликатов (номеров принадлежащих одному человеку) будем использовать Аггломеративный алгоритм, это алгоритм кластеризации суть которого заключается в том, что он сначала представляет все вектора в виде кластеров, а потом последовательно объединяет самые близкие пары точек в один кластер."
   ]
  },
  {
   "cell_type": "markdown",
   "metadata": {},
   "source": [
    "Таким образом, наша задача заключается в том, чтобы подобрать расстояние на котором он объединит большинство пар точек, а точки не являющиеся дубликатами (а такие по условию тоже есть) он просто оставит на месте."
   ]
  },
  {
   "cell_type": "markdown",
   "metadata": {},
   "source": [
    "Для оценки качества полученной модели воспользуемся метрикой качества - Adjusted Rand Score"
   ]
  },
  {
   "cell_type": "code",
   "execution_count": 46,
   "metadata": {
    "collapsed": true
   },
   "outputs": [],
   "source": [
    "from scipy.cluster import hierarchy\n",
    "from scipy.spatial.distance import pdist\n",
    "from scipy.cluster.hierarchy import fcluster\n",
    "import sklearn.metrics as smt"
   ]
  },
  {
   "cell_type": "markdown",
   "metadata": {},
   "source": [
    "В качестве расстояния будем использовать корреляцию, так как она показала себя лучше всего из всех остальных метрик"
   ]
  },
  {
   "cell_type": "code",
   "execution_count": 110,
   "metadata": {
    "collapsed": true
   },
   "outputs": [],
   "source": [
    "distance_mat = pdist(train_1_X, metric = 'correlation')"
   ]
  },
  {
   "cell_type": "code",
   "execution_count": 111,
   "metadata": {
    "collapsed": true
   },
   "outputs": [],
   "source": [
    "Res = hierarchy.linkage(distance_mat, 'single')"
   ]
  },
  {
   "cell_type": "code",
   "execution_count": 112,
   "metadata": {
    "scrolled": false
   },
   "outputs": [
    {
     "data": {
      "image/png": "[encoded data removed]",
      "text/plain": [
       "<matplotlib.figure.Figure at 0x7fd98df95090>"
      ]
     },
     "metadata": {},
     "output_type": "display_data"
    }
   ],
   "source": [
    "plt.figure(figsize=(25,18))\n",
    "dn = hierarchy.dendrogram(Res)"
   ]
  },
  {
   "cell_type": "markdown",
   "metadata": {},
   "source": [
    "На оси Абсцисс располагаются точки, а на оси Ординат расстояние на котором они объединяются в один кластер"
   ]
  },
  {
   "cell_type": "markdown",
   "metadata": {},
   "source": [
    "Для оптимального подбора расстояния, на котором стоит разрезать дендограмму построим график зависимости ARI от этого расстояния "
   ]
  },
  {
   "cell_type": "code",
   "execution_count": 120,
   "metadata": {},
   "outputs": [
    {
     "data": {
      "image/png": "[encoded data removed]",
      "text/plain": [
       "<matplotlib.figure.Figure at 0x7fd98e692fd0>"
      ]
     },
     "metadata": {},
     "output_type": "display_data"
    }
   ],
   "source": [
    "y = list(train_1[1])\n",
    "ks = [0.4,0.45,0.5,0.55,0.6,0.65,0.7,0.75,0.8,0.85,0.9,0.95,1]\n",
    "criteria = np.zeros(len(ks))\n",
    "\n",
    "for i in range(len(ks)):\n",
    "    clusters = fcluster(Res, ks[i] , criterion='distance')\n",
    "    criteria[i] = smt.adjusted_rand_score(y, clusters)\n",
    "    \n",
    "    \n",
    "plt.figure(figsize=(8, 6))\n",
    "plt.plot(ks, criteria)\n",
    "plt.ylabel(\"Adjusted Rand Score\")\n",
    "plt.xlabel(\"Distance of cut-off\")\n",
    "plt.grid()\n",
    "plt.show()"
   ]
  },
  {
   "cell_type": "code",
   "execution_count": 121,
   "metadata": {},
   "outputs": [
    {
     "name": "stdout",
     "output_type": "stream",
     "text": [
      "Adjusted Rand index is: 0.62\n"
     ]
    }
   ],
   "source": [
    "clusters = fcluster(Res, 0.7, criterion='distance')\n",
    "print \"Adjusted Rand index is: %.2f\" % smt.adjusted_rand_score(y, clusters)"
   ]
  },
  {
   "cell_type": "markdown",
   "metadata": {},
   "source": [
    "Для проверки корректности, проведем аналогичные действия с двумя другими частями Обучающей выборки"
   ]
  },
  {
   "cell_type": "code",
   "execution_count": 122,
   "metadata": {},
   "outputs": [
    {
     "data": {
      "image/png": "[encoded data removed]",
      "text/plain": [
       "<matplotlib.figure.Figure at 0x7fd98e6923d0>"
      ]
     },
     "metadata": {},
     "output_type": "display_data"
    }
   ],
   "source": [
    "distance_mat = pdist(train_2_X, metric = 'correlation')\n",
    "Res = hierarchy.linkage(distance_mat, 'single')\n",
    "plt.figure(figsize=(25,18))\n",
    "dn = hierarchy.dendrogram(Res)"
   ]
  },
  {
   "cell_type": "code",
   "execution_count": 125,
   "metadata": {},
   "outputs": [
    {
     "data": {
      "image/png": "[encoded data removed]",
      "text/plain": [
       "<matplotlib.figure.Figure at 0x7fd98ddd2ad0>"
      ]
     },
     "metadata": {},
     "output_type": "display_data"
    }
   ],
   "source": [
    "y = list(train_2[1])\n",
    "ks = [0.4,0.45,0.5,0.55,0.6,0.65,0.7,0.75,0.8,0.85,0.9,0.95,1]\n",
    "criteria = np.zeros(len(ks))\n",
    "\n",
    "for i in range(len(ks)):\n",
    "    clusters = fcluster(Res, ks[i] , criterion='distance')\n",
    "    criteria[i] = smt.adjusted_rand_score(y, clusters)\n",
    "    \n",
    "    \n",
    "plt.figure(figsize=(8, 6))\n",
    "plt.plot(ks, criteria)\n",
    "plt.ylabel(\"Adjusted Rand Score\")\n",
    "plt.xlabel(\"Distance of cut-off\")\n",
    "plt.grid()\n",
    "plt.show()"
   ]
  },
  {
   "cell_type": "code",
   "execution_count": 124,
   "metadata": {},
   "outputs": [
    {
     "name": "stdout",
     "output_type": "stream",
     "text": [
      "Adjusted Rand index is: 0.79\n"
     ]
    }
   ],
   "source": [
    "y = list(train_2[1])\n",
    "clusters = fcluster(Res, 0.95, criterion='distance')\n",
    "print \"Adjusted Rand index is: %.2f\" % smt.adjusted_rand_score(y, clusters)"
   ]
  },
  {
   "cell_type": "markdown",
   "metadata": {},
   "source": [
    "Результат даже лучше "
   ]
  },
  {
   "cell_type": "markdown",
   "metadata": {},
   "source": [
    "Теперь запустим на третьей выборке"
   ]
  },
  {
   "cell_type": "code",
   "execution_count": 126,
   "metadata": {},
   "outputs": [
    {
     "data": {
      "image/png": "[encoded data removed]",
      "text/plain": [
       "<matplotlib.figure.Figure at 0x7fd98dfb4450>"
      ]
     },
     "metadata": {},
     "output_type": "display_data"
    }
   ],
   "source": [
    "distance_mat = pdist(train_3_X, metric = 'correlation')\n",
    "Res = hierarchy.linkage(distance_mat, 'single')\n",
    "plt.figure(figsize=(25,18))\n",
    "dn = hierarchy.dendrogram(Res)"
   ]
  },
  {
   "cell_type": "code",
   "execution_count": 127,
   "metadata": {},
   "outputs": [
    {
     "data": {
      "image/png": "[encoded data removed]",
      "text/plain": [
       "<matplotlib.figure.Figure at 0x7fd98e61dc90>"
      ]
     },
     "metadata": {},
     "output_type": "display_data"
    }
   ],
   "source": [
    "y = list(train_3[1])\n",
    "ks = [0.4,0.45,0.5,0.55,0.6,0.65,0.7,0.75,0.8,0.85,0.9,0.95,1]\n",
    "criteria = np.zeros(len(ks))\n",
    "\n",
    "for i in range(len(ks)):\n",
    "    clusters = fcluster(Res, ks[i] , criterion='distance')\n",
    "    criteria[i] = smt.adjusted_rand_score(y, clusters)\n",
    "    \n",
    "    \n",
    "plt.figure(figsize=(8, 6))\n",
    "plt.plot(ks, criteria)\n",
    "plt.ylabel(\"Adjusted Rand Score\")\n",
    "plt.xlabel(\"Distance of cut-off\")\n",
    "plt.grid()\n",
    "plt.show()"
   ]
  },
  {
   "cell_type": "code",
   "execution_count": 128,
   "metadata": {},
   "outputs": [
    {
     "name": "stdout",
     "output_type": "stream",
     "text": [
      "Adjusted Rand index is: 0.65\n"
     ]
    }
   ],
   "source": [
    "y = list(train_3[1])\n",
    "clusters = fcluster(Res, 0.9, criterion='distance')\n",
    "print \"Adjusted Rand index is: %.2f\" % smt.adjusted_rand_score(y, clusters)"
   ]
  },
  {
   "cell_type": "markdown",
   "metadata": {},
   "source": [
    "Теперь мы готовы применять алгоритм на Validate части"
   ]
  },
  {
   "cell_type": "markdown",
   "metadata": {},
   "source": [
    "# Этап 3. Применим на Validate"
   ]
  },
  {
   "cell_type": "code",
   "execution_count": 102,
   "metadata": {
    "scrolled": false
   },
   "outputs": [
    {
     "data": {
      "image/png": "[encoded data removed]",
      "text/plain": [
       "<matplotlib.figure.Figure at 0x7fd9a6fb57d0>"
      ]
     },
     "metadata": {},
     "output_type": "display_data"
    }
   ],
   "source": [
    "distance_mat = pdist(validate_X, metric = 'correlation')\n",
    "Res = hierarchy.linkage(distance_mat, 'single')\n",
    "plt.figure(figsize=(25,18))\n",
    "dn = hierarchy.dendrogram(Res)"
   ]
  },
  {
   "cell_type": "code",
   "execution_count": 104,
   "metadata": {},
   "outputs": [],
   "source": [
    "clusters = fcluster(Res, 0.6, criterion='distance')"
   ]
  },
  {
   "cell_type": "markdown",
   "metadata": {},
   "source": [
    "# Сохраним результат"
   ]
  },
  {
   "cell_type": "code",
   "execution_count": 106,
   "metadata": {
    "collapsed": true
   },
   "outputs": [],
   "source": [
    "numbers = df['msisdn'].unique()"
   ]
  },
  {
   "cell_type": "code",
   "execution_count": 107,
   "metadata": {},
   "outputs": [
    {
     "data": {
      "text/html": [
       "<div>\n",
       "<style>\n",
       "    .dataframe thead tr:only-child th {\n",
       "        text-align: right;\n",
       "    }\n",
       "\n",
       "    .dataframe thead th {\n",
       "        text-align: left;\n",
       "    }\n",
       "\n",
       "    .dataframe tbody tr th {\n",
       "        vertical-align: top;\n",
       "    }\n",
       "</style>\n",
       "<table border=\"1\" class=\"dataframe\">\n",
       "  <thead>\n",
       "    <tr style=\"text-align: right;\">\n",
       "      <th></th>\n",
       "      <th>number</th>\n",
       "      <th>id</th>\n",
       "    </tr>\n",
       "  </thead>\n",
       "  <tbody>\n",
       "    <tr>\n",
       "      <th>0</th>\n",
       "      <td>158529599791</td>\n",
       "      <td>1446</td>\n",
       "    </tr>\n",
       "    <tr>\n",
       "      <th>1</th>\n",
       "      <td>158520145943</td>\n",
       "      <td>1128</td>\n",
       "    </tr>\n",
       "    <tr>\n",
       "      <th>2</th>\n",
       "      <td>158521798391</td>\n",
       "      <td>1165</td>\n",
       "    </tr>\n",
       "    <tr>\n",
       "      <th>3</th>\n",
       "      <td>158537830573</td>\n",
       "      <td>466</td>\n",
       "    </tr>\n",
       "    <tr>\n",
       "      <th>4</th>\n",
       "      <td>158510204039</td>\n",
       "      <td>1079</td>\n",
       "    </tr>\n",
       "    <tr>\n",
       "      <th>5</th>\n",
       "      <td>158528782737</td>\n",
       "      <td>19</td>\n",
       "    </tr>\n",
       "    <tr>\n",
       "      <th>6</th>\n",
       "      <td>158534117157</td>\n",
       "      <td>83</td>\n",
       "    </tr>\n",
       "  </tbody>\n",
       "</table>\n",
       "</div>"
      ],
      "text/plain": [
       "         number    id\n",
       "0  158529599791  1446\n",
       "1  158520145943  1128\n",
       "2  158521798391  1165\n",
       "3  158537830573   466\n",
       "4  158510204039  1079\n",
       "5  158528782737    19\n",
       "6  158534117157    83"
      ]
     },
     "execution_count": 107,
     "metadata": {},
     "output_type": "execute_result"
    }
   ],
   "source": [
    "s1 = pd.Series(numbers)\n",
    "s2 = pd.Series(clusters)\n",
    "result = pd.concat([s1, s2], axis = 1, keys=['number','id'])\n",
    "result.head(7)"
   ]
  },
  {
   "cell_type": "code",
   "execution_count": 108,
   "metadata": {
    "collapsed": true
   },
   "outputs": [],
   "source": [
    "grouped = result.groupby('id')\n",
    "\n",
    "Result = []\n",
    "for name,group in grouped:\n",
    "    raw = []\n",
    "    raw.append(name)\n",
    "    raw.extend([x for x in group['number']])\n",
    "    Result.append(raw)"
   ]
  },
  {
   "cell_type": "markdown",
   "metadata": {},
   "source": [
    "Тогда результат выглядит следующим образом"
   ]
  },
  {
   "cell_type": "code",
   "execution_count": 109,
   "metadata": {},
   "outputs": [
    {
     "data": {
      "text/plain": [
       "[[1, 158536338179],\n",
       " [2, 158523211793],\n",
       " [3, 158500159523],\n",
       " [4, 158500019021],\n",
       " [5, 158525414061],\n",
       " [6, 158531154569],\n",
       " [7, 158533994253],\n",
       " [8, 158500832775, 158533886039],\n",
       " [9, 158516092627],\n",
       " [10, 158538122633],\n",
       " [11, 158523058067, 158502009901],\n",
       " [12, 158522270977],\n",
       " [13, 158522029013],\n",
       " [14, 158537657865, 158530000013],\n",
       " [15, 158507575155],\n",
       " [16, 158516040635],\n",
       " [17, 158530000899],\n",
       " [18, 158504466713],\n",
       " [19, 158528782737, 158598151595],\n",
       " [20, 158514731597],\n",
       " [21, 158530470765],\n",
       " [22, 158517117705],\n",
       " [23, 158539863973],\n",
       " [24, 158525689937],\n",
       " [25, 158533553405],\n",
       " [26, 158530868885, 158517454219],\n",
       " [27, 158507512341],\n",
       " [28, 158531723599],\n",
       " [29, 158530079915],\n",
       " [30, 158527406681],\n",
       " [31, 158533952529],\n",
       " [32, 158503531357],\n",
       " [33, 158517798705, 158520467311],\n",
       " [34, 158525274517, 158502501165],\n",
       " [35, 158528113249],\n",
       " [36, 158514801451],\n",
       " [37, 158526471471],\n",
       " [38, 158526845901, 158521175471],\n",
       " [39, 158538257071, 158538483063],\n",
       " [40, 158535066167],\n",
       " [41, 158524221759],\n",
       " [42, 158503506547],\n",
       " [43, 158528401499, 158539129559],\n",
       " [44, 158535073843, 158509121655],\n",
       " [45, 158522914813],\n",
       " [46, 158531353373],\n",
       " [47, 158520980947],\n",
       " [48, 158532074415],\n",
       " [49, 158533540399],\n",
       " [50, 158508834995],\n",
       " [51, 158500484429],\n",
       " [52, 158599894739, 158539169457],\n",
       " [53, 158527452433],\n",
       " [54, 158506838305],\n",
       " [55, 158520402681],\n",
       " [56, 158509332185],\n",
       " [57, 158528118891],\n",
       " [58, 158599790851],\n",
       " [59, 158524547255],\n",
       " [60, 158526580543],\n",
       " [61, 158534104565],\n",
       " [62, 158523765287, 158593967633],\n",
       " [63, 158508363811],\n",
       " [64, 158598568103],\n",
       " [65, 158523064905],\n",
       " [66, 158529434869],\n",
       " [67, 158502681069],\n",
       " [68, 158517759517, 158516587601],\n",
       " [69, 158591835959, 158527468767],\n",
       " [70, 158590802391],\n",
       " [71, 158531966657, 158590240843],\n",
       " [72, 158517184387],\n",
       " [73, 158529348995],\n",
       " [74, 158520476383, 158538692793],\n",
       " [75, 158521127627],\n",
       " [76, 158590206143],\n",
       " [77, 158533891789],\n",
       " [78, 158500020139],\n",
       " [79, 158526901967],\n",
       " [80, 158538005249],\n",
       " [81, 158507321259],\n",
       " [82, 158508429945],\n",
       " [83, 158534117157, 158525614741, 158531169401, 158506495053],\n",
       " [84, 158537302231],\n",
       " [85, 158500040977],\n",
       " [86, 158516809643],\n",
       " [87, 158515886657],\n",
       " [88, 158538208631],\n",
       " [89, 158524061281],\n",
       " [90, 158539026501, 158533389715],\n",
       " [91, 158509022995],\n",
       " [92, 158521584149],\n",
       " [93, 158536217929],\n",
       " [94, 158538202751],\n",
       " [95, 158523954461, 158533831193],\n",
       " [96, 158507657691, 158528113395],\n",
       " [97, 158525613893],\n",
       " [98, 158534494079],\n",
       " [99, 158531457787],\n",
       " [100, 158522959505],\n",
       " [101, 158515743835],\n",
       " [102, 158520359911, 158503092609],\n",
       " [103, 158533054951, 158516425659, 158527239377],\n",
       " [104, 158525758587],\n",
       " [105, 158590031289],\n",
       " [106, 158503673433],\n",
       " [107, 158538178087, 158531018315],\n",
       " [108, 158533140039],\n",
       " [109, 158590238943],\n",
       " [110, 158539391487],\n",
       " [111, 158598330785, 158519492595],\n",
       " [112, 158535195045],\n",
       " [113, 158527321583],\n",
       " [114, 158508474721, 158508415671],\n",
       " [115, 158529992575],\n",
       " [116, 158530918497],\n",
       " [117, 158520724873],\n",
       " [118, 158534496239],\n",
       " [119, 158502477735],\n",
       " [120, 158504078105, 158516980805],\n",
       " [121, 158531802721],\n",
       " [122, 158523155177],\n",
       " [123, 158506004445, 158507620979, 158504968307],\n",
       " [124, 158500436801],\n",
       " [125, 158523677105],\n",
       " [126, 158522434265],\n",
       " [127, 158510095685, 158530543651],\n",
       " [128, 158506848363, 158515514201, 158521098069, 158532969399],\n",
       " [129, 158528444553, 158526185775],\n",
       " [130, 158527368057],\n",
       " [131, 158598254117],\n",
       " [132, 158500013119, 158524140453],\n",
       " [133, 158516080125, 158503255975],\n",
       " [134, 158537407069],\n",
       " [135, 158534708979],\n",
       " [136, 158505982555],\n",
       " [137, 158517682615],\n",
       " [138, 158520741311],\n",
       " [139, 158532946215],\n",
       " [140, 158500866241],\n",
       " [141, 158590241017],\n",
       " [142, 158537610525, 158590237991],\n",
       " [143, 158598985763, 158504026229],\n",
       " [144, 158590245105, 158533134533],\n",
       " [145, 158521417305],\n",
       " [146, 158503227363],\n",
       " [147, 158526677197],\n",
       " [148, 158504194959],\n",
       " [149, 158502885923],\n",
       " [150, 158527822443],\n",
       " [151, 158533176113, 158521760293],\n",
       " [152, 158538485409],\n",
       " [153, 158531303721],\n",
       " [154, 158528050501],\n",
       " [155, 158525279595],\n",
       " [156, 158522879147],\n",
       " [157, 158514768909],\n",
       " [158, 158505656959],\n",
       " [159, 158534085701],\n",
       " [160, 158526042001],\n",
       " [161, 158506783701, 158502280501],\n",
       " [162, 158521136129],\n",
       " [163, 158505454827],\n",
       " [164, 158508224657],\n",
       " [165, 158514324239],\n",
       " [166, 158509066781],\n",
       " [167, 158500451183, 158530883579],\n",
       " [168, 158500755409],\n",
       " [169, 158528787899],\n",
       " [170, 158527567997],\n",
       " [171, 158516916291, 158501800445],\n",
       " [172, 158516652313],\n",
       " [173, 158521004763],\n",
       " [174, 158539749447],\n",
       " [175, 158517014835],\n",
       " [176, 158525609969],\n",
       " [177, 158532092201, 158528765075],\n",
       " [178, 158534447085, 158523414665],\n",
       " [179, 158592366685, 158524918501],\n",
       " [180, 158537023931],\n",
       " [181, 158521251945],\n",
       " [182, 158507095063],\n",
       " [183, 158592408587],\n",
       " [184, 158534542309],\n",
       " [185, 158522247851],\n",
       " [186, 158526450883],\n",
       " [187, 158598692425],\n",
       " [188, 158531970065],\n",
       " [189, 158532309441],\n",
       " [190, 158525919627, 158522961179],\n",
       " [191, 158503547703],\n",
       " [192, 158533837597],\n",
       " [193, 158521341117],\n",
       " [194, 158539750845, 158504134345],\n",
       " [195, 158516843631, 158590245167],\n",
       " [196, 158501321421],\n",
       " [197, 158522710709],\n",
       " [198, 158590235035],\n",
       " [199, 158535625565],\n",
       " [200, 158527429897],\n",
       " [201, 158527584159],\n",
       " [202, 158508824461],\n",
       " [203, 158507056279],\n",
       " [204, 158529636061],\n",
       " [205, 158535630017, 158525592513],\n",
       " [206, 158517481769],\n",
       " [207, 158536924455],\n",
       " [208, 158533235015],\n",
       " [209, 158537587461],\n",
       " [210, 158524082295, 158516122039],\n",
       " [211, 158534038891],\n",
       " [212, 158525454111, 158527065785],\n",
       " [213, 158535952289],\n",
       " [214, 158531924663, 158517643493],\n",
       " [215, 158506297847],\n",
       " [216, 158510004299],\n",
       " [217, 158530880513],\n",
       " [218, 158517180175],\n",
       " [219, 158538797349, 158521134041, 158532093359],\n",
       " [220, 158504085669],\n",
       " [221, 158503943485],\n",
       " [222, 158598400011],\n",
       " [223, 158521688857, 158501366425],\n",
       " [224, 158598730949, 158526740821],\n",
       " [225, 158531629805],\n",
       " [226, 158535071695],\n",
       " [227, 158534170071],\n",
       " [228, 158500930139],\n",
       " [229, 158531294241, 158599084945],\n",
       " [230, 158530082693, 158535990237],\n",
       " [231, 158502217605],\n",
       " [232, 158598883823],\n",
       " [233, 158507149473],\n",
       " [234, 158507677819],\n",
       " [235, 158510902603],\n",
       " [236, 158517794069],\n",
       " [237, 158598967733],\n",
       " [238, 158526729415],\n",
       " [239, 158533432501],\n",
       " [240, 158592317235],\n",
       " [241, 158536286075],\n",
       " [242, 158530932401],\n",
       " [243, 158517264821, 158537776881],\n",
       " [244, 158534328331],\n",
       " [245, 158524140671],\n",
       " [246, 158531215197, 158505276043],\n",
       " [247, 158526465799, 158530520481, 158533721849],\n",
       " [248, 158522249077],\n",
       " [249, 158526487191],\n",
       " [250, 158534678033],\n",
       " [251, 158523011425],\n",
       " [252, 158527998593],\n",
       " [253, 158526002453, 158500129117, 158523400283],\n",
       " [254, 158521762619],\n",
       " [255, 158593871445],\n",
       " [256, 158530967851],\n",
       " [257, 158527543323],\n",
       " [258, 158599814361],\n",
       " [259, 158501330223, 158538197409],\n",
       " [260, 158533241655],\n",
       " [261, 158534436715],\n",
       " [262, 158517170137, 158508673447, 158508232511],\n",
       " [263, 158516103245],\n",
       " [264, 158516561749],\n",
       " [265, 158533975781],\n",
       " [266, 158599241831],\n",
       " [267, 158516016045],\n",
       " [268, 158522555361],\n",
       " [269, 158590645481],\n",
       " [270, 158503077143],\n",
       " [271, 158537178671, 158534427431],\n",
       " [272, 158532939981],\n",
       " [273, 158504191105],\n",
       " [274, 158501549973],\n",
       " [275, 158538377103],\n",
       " [276, 158501119085],\n",
       " [277, 158537587677],\n",
       " [278, 158503399779],\n",
       " [279, 158590874531, 158532063975],\n",
       " [280, 158529953533, 158521277665, 158538335491],\n",
       " [281, 158534366273],\n",
       " [282, 158531706107],\n",
       " [283, 158524191571],\n",
       " [284, 158532682209],\n",
       " [285, 158529326591],\n",
       " [286, 158534232945],\n",
       " [287, 158522469787],\n",
       " [288, 158524231851],\n",
       " [289, 158533005955, 158590923749],\n",
       " [290, 158526508685, 158510916321],\n",
       " [291, 158530000197],\n",
       " [292, 158590304535],\n",
       " [293, 158520682957, 158530566097],\n",
       " [294, 158524673769],\n",
       " [295, 158590542743],\n",
       " [296, 158533732041],\n",
       " [297, 158523717159],\n",
       " [298, 158537697067],\n",
       " [299, 158519821245],\n",
       " [300, 158521749437],\n",
       " [301, 158501007795],\n",
       " [302, 158537826239],\n",
       " [303, 158503852881],\n",
       " [304, 158538598299, 158527894155],\n",
       " [305, 158535186101],\n",
       " [306, 158521616791],\n",
       " [307, 158599512371],\n",
       " [308, 158515552107],\n",
       " [309, 158599392563],\n",
       " [310, 158527223611],\n",
       " [311, 158506606227],\n",
       " [312, 158509121633],\n",
       " [313, 158531733527, 158529694457],\n",
       " [314, 158593468679],\n",
       " [315, 158590616383, 158539865717],\n",
       " [316, 158503313483],\n",
       " [317, 158501442231],\n",
       " [318, 158535148871],\n",
       " [319, 158535998147],\n",
       " [320, 158521463955],\n",
       " [321, 158526227413],\n",
       " [322, 158500273073],\n",
       " [323, 158522402537],\n",
       " [324, 158510372559],\n",
       " [325, 158507641221],\n",
       " [326, 158523525065],\n",
       " [327, 158531472845],\n",
       " [328, 158590237927],\n",
       " [329, 158500479921],\n",
       " [330, 158520517353],\n",
       " [331, 158599824411],\n",
       " [332, 158526086507],\n",
       " [333, 158599955935],\n",
       " [334, 158514147511],\n",
       " [335, 158532797985],\n",
       " [336, 158506548515],\n",
       " [337, 158533580173],\n",
       " [338, 158531852957],\n",
       " [339, 158599394057],\n",
       " [340, 158538614029],\n",
       " [341, 158507076875, 158508811465, 158523653087],\n",
       " [342, 158527821323, 158510019797],\n",
       " [343, 158507233463],\n",
       " [344, 158507479791],\n",
       " [345, 158522643685],\n",
       " [346, 158531606423],\n",
       " [347, 158524976757],\n",
       " [348, 158538627883],\n",
       " [349, 158506277613],\n",
       " [350, 158525410379],\n",
       " [351, 158501126913],\n",
       " [352, 158506131643],\n",
       " [353, 158504167577],\n",
       " [354, 158503681165],\n",
       " [355, 158515713347],\n",
       " [356, 158500118785, 158508866613],\n",
       " [357, 158506286005],\n",
       " [358, 158520638735],\n",
       " [359, 158524238441],\n",
       " [360, 158503394083],\n",
       " [361, 158598396571],\n",
       " [362, 158504058479],\n",
       " [363, 158533799863],\n",
       " [364, 158502299071],\n",
       " [365, 158525562355, 158524074479, 158526430493],\n",
       " [366, 158527932733],\n",
       " [367, 158520893183],\n",
       " [368, 158505393731],\n",
       " [369, 158539043273],\n",
       " [370, 158599214323],\n",
       " [371, 158521122297],\n",
       " [372, 158501170007],\n",
       " [373, 158534067061],\n",
       " [374, 158503367865],\n",
       " [375, 158504700453],\n",
       " [376, 158521312093],\n",
       " [377, 158590593785],\n",
       " [378, 158533985621],\n",
       " [379, 158533004431],\n",
       " [380, 158504171589],\n",
       " [381, 158537790365],\n",
       " [382, 158508640923],\n",
       " [383, 158521286401],\n",
       " [384, 158524188957, 158534079533],\n",
       " [385, 158539136511],\n",
       " [386, 158525270165],\n",
       " [387, 158538220999],\n",
       " [388, 158532036797],\n",
       " [389, 158531865785],\n",
       " [390, 158593523999],\n",
       " [391, 158535411939],\n",
       " [392, 158531177573, 158535115441],\n",
       " [393, 158530833251],\n",
       " [394, 158527533969],\n",
       " [395, 158509346439],\n",
       " [396, 158501861905],\n",
       " [397, 158517581785],\n",
       " [398, 158536280105, 158590275537, 158517080493],\n",
       " [399, 158527694541],\n",
       " [400, 158539548997],\n",
       " [401, 158526620037],\n",
       " [402, 158592608037],\n",
       " [403, 158532418397, 158539720955],\n",
       " [404, 158516861607],\n",
       " [405, 158537845127],\n",
       " [406, 158522763399, 158523980129],\n",
       " [407, 158500839035],\n",
       " [408, 158528126629],\n",
       " [409, 158528526067],\n",
       " [410, 158535215339],\n",
       " [411, 158522656543],\n",
       " [412, 158536543525],\n",
       " [413, 158533539587],\n",
       " [414, 158524184045],\n",
       " [415, 158532350881],\n",
       " [416, 158506345859],\n",
       " [417, 158529162749],\n",
       " [418, 158505030827],\n",
       " [419, 158516858163],\n",
       " [420, 158522791957],\n",
       " [421, 158528972119],\n",
       " [422, 158525277789],\n",
       " [423, 158524905425, 158501300583],\n",
       " [424, 158520980511],\n",
       " [425, 158523440585],\n",
       " [426, 158590300209],\n",
       " [427, 158506917633],\n",
       " [428, 158598316205],\n",
       " [429, 158531298845],\n",
       " [430, 158510151261],\n",
       " [431, 158526807159],\n",
       " [432, 158528531737],\n",
       " [433, 158500229107],\n",
       " [434, 158524169353],\n",
       " [435, 158505599515],\n",
       " [436, 158529405281],\n",
       " [437, 158598290677],\n",
       " [438, 158522705597],\n",
       " [439, 158536932291],\n",
       " [440, 158501442891],\n",
       " [441, 158521156315],\n",
       " [442, 158505768151],\n",
       " [443, 158527481663],\n",
       " [444, 158504680791, 158502679921],\n",
       " [445, 158590621031, 158534633649],\n",
       " [446, 158522732979],\n",
       " [447, 158598260389],\n",
       " [448, 158524442003, 158534066181],\n",
       " [449, 158510172365],\n",
       " [450, 158528812085],\n",
       " [451, 158514801851],\n",
       " [452, 158514616667, 158538555107, 158529881759, 158524889799],\n",
       " [453, 158503892947, 158503686001],\n",
       " [454, 158599893059],\n",
       " [455, 158504039015],\n",
       " [456, 158516016689],\n",
       " [457, 158537727589, 158527899041],\n",
       " [458, 158522975279],\n",
       " [459, 158526571229],\n",
       " [460, 158532894565, 158521510591],\n",
       " [461, 158525096627],\n",
       " [462, 158535876931],\n",
       " [463, 158526233225],\n",
       " [464, 158533353117],\n",
       " [465, 158501294025],\n",
       " [466, 158537830573],\n",
       " [467, 158532871405],\n",
       " [468, 158536204093, 158592556043],\n",
       " [469, 158539711129],\n",
       " [470, 158521343417, 158590303821, 158501366399],\n",
       " [471, 158527188945],\n",
       " [472, 158509576799],\n",
       " [473, 158529529281],\n",
       " [474, 158516549441],\n",
       " [475, 158539866177],\n",
       " [476, 158503042125, 158508326971],\n",
       " [477, 158509095471],\n",
       " [478, 158531389181],\n",
       " [479, 158525387823],\n",
       " [480, 158590442241],\n",
       " [481, 158527835687],\n",
       " [482, 158526375029],\n",
       " [483, 158522843673, 158525107923],\n",
       " [484, 158510151975],\n",
       " [485, 158530512449],\n",
       " [486, 158522016407, 158531346363],\n",
       " [487, 158500515655],\n",
       " [488, 158539752923, 158507308113],\n",
       " [489, 158503465273],\n",
       " [490, 158599212629],\n",
       " [491, 158508905427],\n",
       " [492, 158535654103],\n",
       " [493, 158523769147],\n",
       " [494, 158520970381],\n",
       " [495, 158521799691],\n",
       " [496, 158539698137],\n",
       " [497, 158532389867],\n",
       " [498, 158506480705, 158527484701],\n",
       " [499, 158520617483, 158500526891],\n",
       " [500, 158533359605],\n",
       " [501, 158508345711],\n",
       " [502, 158534770753],\n",
       " [503, 158508980497],\n",
       " [504, 158514226745, 158525370245, 158506039059],\n",
       " [505, 158532416017],\n",
       " [506, 158510106697],\n",
       " [507, 158515559801],\n",
       " [508, 158528880433],\n",
       " [509, 158532371101, 158599242749, 158500422461],\n",
       " [510, 158537167795],\n",
       " [511, 158530866769],\n",
       " [512, 158502720215],\n",
       " [513, 158525545387, 158515548073],\n",
       " [514, 158592304125],\n",
       " [515, 158531247569],\n",
       " [516, 158593309251],\n",
       " [517, 158507685071],\n",
       " [518, 158500457901],\n",
       " [519, 158532756403],\n",
       " [520, 158514081615],\n",
       " [521, 158530000949],\n",
       " [522, 158507322815],\n",
       " [523, 158523344433],\n",
       " [524, 158539492551],\n",
       " [525, 158533125199],\n",
       " [526, 158591874835],\n",
       " [527, 158530895115],\n",
       " [528, 158520652951],\n",
       " [529, 158522523887],\n",
       " [530, 158526864271],\n",
       " [531, 158535548489],\n",
       " [532, 158516819309],\n",
       " [533, 158522036313],\n",
       " [534, 158504049631],\n",
       " [535, 158538698881],\n",
       " [536, 158521133429, 158514644249],\n",
       " [537, 158530491325],\n",
       " [538, 158514221759],\n",
       " [539, 158538809113],\n",
       " [540, 158501321269],\n",
       " [541, 158531800001, 158535351095],\n",
       " [542, 158523040373],\n",
       " [543, 158524636909],\n",
       " [544, 158501940745, 158532017029],\n",
       " [545, 158530585825],\n",
       " [546, 158500214435, 158525400057],\n",
       " [547, 158504155371],\n",
       " [548, 158525158375],\n",
       " [549, 158524920763],\n",
       " [550, 158535905161],\n",
       " [551, 158516481081],\n",
       " [552, 158535715927, 158525639879],\n",
       " [553, 158599944901, 158536217569],\n",
       " [554, 158510154381],\n",
       " [555, 158517601935],\n",
       " [556, 158514082507, 158529299689],\n",
       " [557, 158504024971],\n",
       " [558, 158501349351],\n",
       " [559, 158533908213, 158516922673],\n",
       " [560, 158502297793],\n",
       " [561, 158507013203],\n",
       " [562, 158522814907],\n",
       " [563, 158517926015, 158500970361],\n",
       " [564, 158528158521],\n",
       " [565, 158531864675],\n",
       " [566, 158521467495],\n",
       " [567, 158529516057],\n",
       " [568, 158529539201],\n",
       " [569, 158508337633, 158507552999],\n",
       " [570, 158590238933],\n",
       " [571, 158590240819],\n",
       " [572, 158590626873],\n",
       " [573, 158523510401],\n",
       " [574, 158521644119, 158523705033],\n",
       " [575, 158527308275],\n",
       " [576, 158506260743],\n",
       " [577, 158590684575],\n",
       " [578, 158539481421],\n",
       " [579, 158502020297],\n",
       " [580, 158530066519],\n",
       " [581, 158539051653],\n",
       " [582, 158504486615],\n",
       " [583, 158516580627],\n",
       " [584, 158536793289],\n",
       " [585, 158501557103],\n",
       " [586, 158521639365],\n",
       " [587, 158539832895],\n",
       " [588, 158509011511],\n",
       " [589, 158520203085],\n",
       " [590, 158533526203],\n",
       " [591, 158590158207],\n",
       " [592, 158532401735, 158505503391],\n",
       " [593, 158504682725],\n",
       " [594, 158503939843],\n",
       " [595, 158528444961],\n",
       " [596, 158522200093],\n",
       " [597, 158537489197, 158503039581],\n",
       " [598, 158517492113],\n",
       " [599, 158524541431],\n",
       " [600, 158590295887, 158507537047, 158539551379],\n",
       " [601, 158503007309],\n",
       " [602, 158522854543],\n",
       " [603, 158507506143],\n",
       " [604, 158521350793],\n",
       " [605, 158523254675, 158528799079],\n",
       " [606, 158523284315, 158530724167, 158534400203],\n",
       " [607, 158532011719, 158503727271, 158528529219],\n",
       " [608, 158534084891],\n",
       " [609, 158527142413],\n",
       " [610, 158527304491],\n",
       " [611, 158526331249],\n",
       " [612, 158521333179, 158507092317, 158536254775],\n",
       " [613, 158599244739],\n",
       " [614, 158524730057],\n",
       " [615, 158523272751],\n",
       " [616, 158520447261],\n",
       " [617, 158521073299, 158531044325],\n",
       " [618, 158503200193],\n",
       " [619, 158532018977],\n",
       " [620, 158534326833],\n",
       " [621, 158539501019],\n",
       " [622, 158526427105],\n",
       " [623, 158531328869],\n",
       " [624, 158520440511],\n",
       " [625, 158526765485, 158526189439],\n",
       " [626, 158515507017],\n",
       " [627, 158592158343],\n",
       " [628, 158593177249],\n",
       " [629, 158521553221],\n",
       " [630, 158522026731],\n",
       " [631, 158598368915],\n",
       " [632, 158530963141],\n",
       " [633, 158527911171],\n",
       " [634, 158521274895, 158525446281],\n",
       " [635, 158537570447],\n",
       " [636, 158520070409, 158537303581],\n",
       " [637, 158533201357, 158590157389],\n",
       " [638, 158522925255, 158524586395, 158530897929, 158532960219],\n",
       " [639, 158590531433, 158501310415, 158533079581],\n",
       " [640, 158517891087],\n",
       " [641, 158503761311],\n",
       " [642, 158536345927],\n",
       " [643, 158599838071],\n",
       " [644, 158510894305],\n",
       " [645, 158532164725, 158522260097],\n",
       " [646, 158536522847, 158538982633],\n",
       " [647, 158598018883, 158531118467, 158506093403, 158514786023],\n",
       " [648, 158514619431],\n",
       " [649, 158500428729],\n",
       " [650, 158535554247],\n",
       " [651, 158505594097],\n",
       " [652, 158515118983],\n",
       " [653, 158531439575],\n",
       " [654, 158525820327],\n",
       " [655, 158503146169, 158527176097],\n",
       " [656, 158534091871],\n",
       " [657, 158528156939],\n",
       " [658, 158590906201],\n",
       " [659, 158539672541, 158507104291],\n",
       " [660, 158503174509],\n",
       " [661, 158525153119],\n",
       " [662, 158537650175],\n",
       " [663, 158535964085],\n",
       " [664, 158599734785],\n",
       " [665, 158527105107],\n",
       " [666, 158526469717, 158538082197],\n",
       " [667, 158506569601],\n",
       " [668, 158504576069],\n",
       " [669, 158506087007],\n",
       " [670, 158527173405],\n",
       " [671, 158521367861],\n",
       " [672, 158503562975],\n",
       " [673, 158527000279, 158523656103],\n",
       " [674, 158500659221, 158598373713],\n",
       " [675, 158522552093],\n",
       " [676, 158516888873],\n",
       " [677, 158510100417],\n",
       " [678, 158509586825, 158590242179],\n",
       " [679, 158500040851],\n",
       " [680, 158530548071],\n",
       " [681, 158535836403],\n",
       " [682, 158505301637],\n",
       " [683, 158500994795, 158528160223],\n",
       " [684, 158524118791],\n",
       " [685, 158534096985],\n",
       " [686, 158531615661],\n",
       " [687, 158529103827],\n",
       " [688, 158524281351],\n",
       " [689, 158523450113],\n",
       " [690, 158534176159, 158523903075],\n",
       " [691, 158535535867, 158535128081],\n",
       " [692, 158532965071],\n",
       " [693, 158502468331, 158508858951],\n",
       " [694, 158527567457, 158532240489, 158503297217],\n",
       " [695, 158502024425],\n",
       " [696,\n",
       "  158538887397,\n",
       "  158538153395,\n",
       "  158531950621,\n",
       "  158538005601,\n",
       "  158514558413,\n",
       "  158533698769],\n",
       " [697, 158535065609],\n",
       " [698, 158504175827],\n",
       " [699, 158511704129],\n",
       " [700, 158526850283],\n",
       " [701, 158524546327, 158522227109],\n",
       " [702, 158534549343],\n",
       " [703, 158517627667],\n",
       " [704, 158501500255, 158506495271],\n",
       " [705, 158501349519],\n",
       " [706, 158502934945],\n",
       " [707, 158532977087],\n",
       " [708, 158533324373],\n",
       " [709, 158592655061, 158534240603],\n",
       " [710, 158514719993],\n",
       " [711, 158537734435, 158525253521, 158537989995, 158520543287],\n",
       " [712, 158529817151, 158527907189, 158507350023, 158531234777],\n",
       " [713, 158530580977],\n",
       " [714, 158532426777],\n",
       " [715, 158598811977],\n",
       " [716, 158503803939],\n",
       " [717, 158590158261, 158508431405, 158504661293],\n",
       " [718, 158508318971],\n",
       " [719, 158598468749],\n",
       " [720, 158531093671],\n",
       " [721, 158516884981],\n",
       " [722, 158539181203, 158508377453],\n",
       " [723, 158522918925],\n",
       " [724, 158527089259, 158599571259, 158505548487],\n",
       " [725, 158598435201],\n",
       " [726, 158536207643],\n",
       " [727, 158514334291],\n",
       " [728, 158526923229],\n",
       " [729, 158500804577],\n",
       " [730, 158507681681],\n",
       " [731, 158527058239],\n",
       " [732, 158510137159, 158536932043],\n",
       " [733, 158590314743],\n",
       " [734, 158503789889, 158527863663],\n",
       " [735, 158534592259, 158599280705, 158525544297],\n",
       " [736, 158531029239],\n",
       " [737, 158539005325],\n",
       " [738, 158520222311, 158598862543, 158502269467, 158524695995, 158534238613],\n",
       " [739, 158528686639, 158528956873],\n",
       " [740, 158537167847],\n",
       " [741, 158530500303],\n",
       " [742, 158514343175],\n",
       " [743, 158501845445],\n",
       " [744, 158505504685],\n",
       " [745, 158531487575],\n",
       " [746, 158523935017],\n",
       " [747, 158592201775],\n",
       " [748, 158530972677],\n",
       " [749, 158525241163],\n",
       " [750, 158520113163, 158525488037],\n",
       " [751, 158501377785],\n",
       " [752, 158524653519],\n",
       " [753, 158521621401],\n",
       " [754, 158523221087],\n",
       " [755, 158515804271],\n",
       " [756, 158534262203],\n",
       " [757, 158527676575, 158523157683, 158599630249],\n",
       " [758, 158506597215],\n",
       " [759, 158531571623, 158535398401, 158538941419],\n",
       " [760, 158504015795],\n",
       " [761, 158501710783],\n",
       " [762, 158523514497],\n",
       " [763, 158533392209],\n",
       " [764, 158527636373],\n",
       " [765, 158529197169],\n",
       " [766, 158523836371, 158520857895, 158514581337],\n",
       " [767, 158520946757, 158502326483],\n",
       " [768, 158532036007],\n",
       " [769, 158501321905],\n",
       " [770, 158522705829, 158598986209],\n",
       " [771, 158502580997],\n",
       " [772, 158517738245],\n",
       " [773, 158517626755],\n",
       " [774, 158537476909],\n",
       " [775, 158536353897, 158599401929],\n",
       " [776, 158535319061],\n",
       " [777, 158524930861],\n",
       " [778, 158531544235],\n",
       " [779, 158531543993],\n",
       " [780, 158503584375],\n",
       " [781, 158526671583],\n",
       " [782, 158517102427],\n",
       " [783, 158592459767],\n",
       " [784, 158535737647],\n",
       " [785, 158526733091],\n",
       " [786, 158522003231],\n",
       " [787, 158592832483],\n",
       " [788, 158520469681],\n",
       " [789, 158599493415],\n",
       " [790, 158529470593],\n",
       " [791, 158528509649],\n",
       " [792, 158506404841],\n",
       " [793, 158526599127],\n",
       " [794, 158529197165],\n",
       " [795, 158532976997],\n",
       " [796, 158504117949],\n",
       " [797, 158501508783, 158532571345],\n",
       " [798, 158533273087],\n",
       " [799, 158508461399],\n",
       " [800, 158523452477, 158531675347],\n",
       " [801, 158528566363],\n",
       " [802, 158516777955],\n",
       " [803,\n",
       "  158591702765,\n",
       "  158504921371,\n",
       "  158599709033,\n",
       "  158532967153,\n",
       "  158525678307,\n",
       "  158523887077],\n",
       " [804, 158598477289],\n",
       " [805, 158506012575],\n",
       " [806, 158509215759],\n",
       " [807, 158507706023, 158520160217],\n",
       " [808, 158538847657, 158531173597, 158500516565, 158525604815, 158590238393],\n",
       " [809, 158514123183, 158531066961],\n",
       " [810, 158502312359, 158525277975, 158517264901, 158516509943],\n",
       " [811, 158508432287],\n",
       " [812, 158535385751],\n",
       " [813, 158534225641],\n",
       " [814, 158533578111],\n",
       " [815, 158535575063],\n",
       " [816, 158538606275],\n",
       " [817, 158523020255],\n",
       " [818, 158531227757],\n",
       " [819, 158524948585],\n",
       " [820, 158522270685],\n",
       " [821, 158508829495, 158535789433],\n",
       " [822, 158530857081, 158505538983],\n",
       " [823, 158521053381],\n",
       " [824, 158590274393],\n",
       " [825, 158534734601, 158598282177],\n",
       " [826, 158503669341],\n",
       " [827, 158527452327],\n",
       " [828, 158536407037, 158509391697],\n",
       " [829, 158523964459],\n",
       " [830, 158526604825],\n",
       " [831, 158531211871],\n",
       " [832, 158507030451],\n",
       " [833, 158526920657],\n",
       " [834, 158514106221, 158516632803],\n",
       " [835, 158523626521],\n",
       " [836, 158534287819],\n",
       " [837, 158529610129],\n",
       " [838, 158503304103],\n",
       " [839, 158539284327],\n",
       " [840, 158509120511],\n",
       " [841, 158504569705],\n",
       " [842, 158516863615],\n",
       " [843, 158521326667],\n",
       " [844, 158522012249],\n",
       " [845, 158517646471],\n",
       " [846, 158537306927],\n",
       " [847, 158598789215],\n",
       " [848, 158533659769],\n",
       " [849, 158500200323],\n",
       " [850, 158500996007],\n",
       " [851, 158504143099, 158528988511],\n",
       " [852, 158534267815],\n",
       " [853, 158593257033],\n",
       " [854, 158523602933],\n",
       " [855, 158536427059],\n",
       " [856, 158504549251],\n",
       " [857, 158539459583],\n",
       " [858, 158536470197],\n",
       " [859, 158593371137],\n",
       " [860, 158522952883, 158509654947, 158533612803, 158523270043],\n",
       " [861, 158527514697],\n",
       " [862, 158537689453],\n",
       " [863, 158524093715, 158538380821],\n",
       " [864, 158599863955],\n",
       " [865, 158517457837],\n",
       " [866, 158526172209],\n",
       " [867, 158532654099],\n",
       " [868, 158525084231],\n",
       " [869, 158502847383],\n",
       " [870, 158534382743, 158537478275],\n",
       " [871, 158522530163],\n",
       " [872, 158506113951],\n",
       " [873, 158598997891],\n",
       " [874, 158500606211],\n",
       " [875, 158531665409],\n",
       " [876, 158521494781],\n",
       " [877, 158524720705],\n",
       " [878, 158508864735],\n",
       " [879, 158521871795],\n",
       " [880, 158539182145],\n",
       " [881, 158530708993, 158522873851],\n",
       " [882, 158533540347],\n",
       " [883, 158537181927],\n",
       " [884, 158537849995, 158590257539, 158590592985, 158505253383],\n",
       " [885, 158522189097],\n",
       " [886, 158514077235],\n",
       " [887, 158539183233],\n",
       " [888, 158521737503, 158599668125],\n",
       " [889, 158536986017],\n",
       " [890, 158537390325],\n",
       " [891, 158516330577],\n",
       " [892, 158527682573],\n",
       " [893, 158598951543],\n",
       " [894, 158509345953],\n",
       " [895, 158504171807],\n",
       " [896, 158539212595],\n",
       " [897, 158528073337, 158521327187],\n",
       " [898, 158537045417],\n",
       " [899, 158504038149, 158523832593, 158525182429],\n",
       " [900, 158525646999],\n",
       " [901, 158599104843],\n",
       " [902, 158503505659],\n",
       " [903, 158500784453],\n",
       " [904, 158529920637],\n",
       " [905, 158527647725, 158532093637, 158537009077, 158529511507],\n",
       " [906, 158521301133],\n",
       " [907, 158530950469],\n",
       " [908, 158538594355],\n",
       " [909, 158501445619, 158530972537],\n",
       " [910, 158530082821],\n",
       " [911, 158536405201],\n",
       " [912, 158507562805],\n",
       " [913, 158527376757],\n",
       " [914, 158526621447],\n",
       " [915, 158501478351],\n",
       " [916, 158531210989],\n",
       " [917, 158514685721, 158598715073],\n",
       " [918, 158539199851],\n",
       " [919, 158517633587, 158530851527],\n",
       " [920, 158525614165],\n",
       " [921, 158529208233],\n",
       " [922, 158532438241],\n",
       " [923, 158530654247],\n",
       " [924, 158531060675, 158504447167],\n",
       " [925, 158590213135],\n",
       " [926, 158537295449],\n",
       " [927, 158504171213],\n",
       " [928, 158529403813],\n",
       " [929, 158539174755],\n",
       " [930, 158500919383, 158536899011, 158529520639],\n",
       " [931, 158533644177],\n",
       " [932, 158526709713],\n",
       " [933, 158502283463],\n",
       " [934, 158510216095],\n",
       " [935, 158514096313, 158590239747],\n",
       " [936, 158535637837],\n",
       " [937, 158529888825],\n",
       " [938, 158531872309, 158536201723],\n",
       " [939, 158538689517, 158590246183, 158502344213, 158502345077],\n",
       " [940, 158531009447],\n",
       " [941, 158501050319, 158508912029, 158527240253, 158515980003, 158523115599],\n",
       " [942, 158528290603],\n",
       " [943, 158591483899],\n",
       " [944, 158598223601],\n",
       " [945, 158521135089],\n",
       " [946, 158535015081],\n",
       " [947, 158535689611],\n",
       " [948, 158535018647],\n",
       " [949, 158537809043, 158522625265],\n",
       " [950, 158598948789],\n",
       " [951, 158590647299],\n",
       " [952, 158509612613],\n",
       " [953, 158528289475, 158537673331, 158521608189, 158508417651, 158526454827],\n",
       " [954, 158536292365, 158534112745, 158533396317, 158535029711],\n",
       " [955, 158533004503],\n",
       " [956, 158522117451],\n",
       " [957, 158534642939],\n",
       " [958, 158524958169],\n",
       " [959, 158517133835],\n",
       " [960, 158503130511],\n",
       " [961, 158509585457],\n",
       " [962, 158533930771],\n",
       " [963, 158516007465],\n",
       " [964, 158502576385],\n",
       " [965, 158531982703],\n",
       " [966, 158501628681],\n",
       " [967, 158535821517],\n",
       " [968, 158503130177],\n",
       " [969, 158532386717],\n",
       " [970, 158527453661],\n",
       " [971, 158506440945, 158538679865],\n",
       " [972, 158528094961, 158510004011],\n",
       " [973, 158514086813],\n",
       " [974, 158526611411],\n",
       " [975, 158510189967],\n",
       " [976, 158531936407],\n",
       " [977, 158515508537],\n",
       " [978, 158525644927],\n",
       " [979, 158522976551],\n",
       " [980, 158532358567],\n",
       " [981, 158522931735, 158536953997],\n",
       " [982, 158509122737],\n",
       " [983, 158500747347],\n",
       " [984, 158524173395],\n",
       " [985, 158514511951, 158529236499],\n",
       " [986, 158529278933],\n",
       " [987, 158531008889],\n",
       " [988, 158538775141],\n",
       " [989, 158528466607],\n",
       " [990, 158514282915],\n",
       " [991, 158533999719],\n",
       " [992, 158515236453],\n",
       " [993, 158591571845],\n",
       " [994, 158523670745],\n",
       " [995, 158510297557],\n",
       " [996, 158535929535],\n",
       " [997, 158514593529],\n",
       " [998, 158523266753],\n",
       " [999, 158502850425],\n",
       " [1000, 158521073049, 158532030409, 158531878445, 158520925953, 158514169269],\n",
       " ...]"
      ]
     },
     "execution_count": 109,
     "metadata": {},
     "output_type": "execute_result"
    }
   ],
   "source": [
    "Result"
   ]
  },
  {
   "cell_type": "markdown",
   "metadata": {},
   "source": [
    "Запишем их в CSV"
   ]
  },
  {
   "cell_type": "code",
   "execution_count": 178,
   "metadata": {},
   "outputs": [],
   "source": [
    "import csv\n",
    "import io"
   ]
  },
  {
   "cell_type": "code",
   "execution_count": 179,
   "metadata": {},
   "outputs": [],
   "source": [
    "FILENAME = \"Result.csv\"\n",
    "\n",
    "with open(FILENAME, \"w\") as file:\n",
    "    writer = csv.writer(file)\n",
    "    writer.writerows(Result)"
   ]
  }
 ],
 "metadata": {
  "kernelspec": {
   "display_name": "Python 2",
   "language": "python",
   "name": "python2"
  },
  "language_info": {
   "codemirror_mode": {
    "name": "ipython",
    "version": 2
   },
   "file_extension": ".py",
   "mimetype": "text/x-python",
   "name": "python",
   "nbconvert_exporter": "python",
   "pygments_lexer": "ipython2",
   "version": "2.7.14"
  }
 },
 "nbformat": 4,
 "nbformat_minor": 2
}
